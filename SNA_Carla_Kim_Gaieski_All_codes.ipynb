{
  "nbformat": 4,
  "nbformat_minor": 0,
  "metadata": {
    "colab": {
      "provenance": [],
      "collapsed_sections": [
        "yJwGprXC6AuC",
        "Zjlo9DrC793i",
        "BA89TOdHsfxf",
        "9rs9IkdXsiHE",
        "Un6di30jslDf",
        "onYeTR_vsl_9",
        "rlSZixyysnKy",
        "KY-49EcEsqEE",
        "mKYvDnX_spA5",
        "J8-bQah-srBg"
      ],
      "include_colab_link": true
    },
    "kernelspec": {
      "name": "python3",
      "display_name": "Python 3"
    },
    "language_info": {
      "name": "python"
    }
  },
  "cells": [
    {
      "cell_type": "markdown",
      "metadata": {
        "id": "view-in-github",
        "colab_type": "text"
      },
      "source": [
        "<a href=\"https://colab.research.google.com/github/carlakim/SNA/blob/main/SNA_Carla_Kim_Gaieski_All_codes.ipynb\" target=\"_parent\"><img src=\"https://colab.research.google.com/assets/colab-badge.svg\" alt=\"Open In Colab\"/></a>"
      ]
    },
    {
      "cell_type": "markdown",
      "source": [
        "##pip install"
      ],
      "metadata": {
        "id": "yJwGprXC6AuC"
      }
    },
    {
      "cell_type": "code",
      "source": [
        "!pip install matplotlib-venn"
      ],
      "metadata": {
        "colab": {
          "base_uri": "https://localhost:8080/"
        },
        "id": "Wq1VV3-A6GaO",
        "outputId": "609a525b-2970-4981-f77a-7aac71da78b9"
      },
      "execution_count": null,
      "outputs": [
        {
          "output_type": "stream",
          "name": "stdout",
          "text": [
            "Looking in indexes: https://pypi.org/simple, https://us-python.pkg.dev/colab-wheels/public/simple/\n",
            "Requirement already satisfied: matplotlib-venn in /usr/local/lib/python3.7/dist-packages (0.11.7)\n",
            "Requirement already satisfied: matplotlib in /usr/local/lib/python3.7/dist-packages (from matplotlib-venn) (3.2.2)\n",
            "Requirement already satisfied: numpy in /usr/local/lib/python3.7/dist-packages (from matplotlib-venn) (1.21.6)\n",
            "Requirement already satisfied: scipy in /usr/local/lib/python3.7/dist-packages (from matplotlib-venn) (1.7.3)\n",
            "Requirement already satisfied: pyparsing!=2.0.4,!=2.1.2,!=2.1.6,>=2.0.1 in /usr/local/lib/python3.7/dist-packages (from matplotlib->matplotlib-venn) (3.0.9)\n",
            "Requirement already satisfied: kiwisolver>=1.0.1 in /usr/local/lib/python3.7/dist-packages (from matplotlib->matplotlib-venn) (1.4.4)\n",
            "Requirement already satisfied: python-dateutil>=2.1 in /usr/local/lib/python3.7/dist-packages (from matplotlib->matplotlib-venn) (2.8.2)\n",
            "Requirement already satisfied: cycler>=0.10 in /usr/local/lib/python3.7/dist-packages (from matplotlib->matplotlib-venn) (0.11.0)\n",
            "Requirement already satisfied: typing-extensions in /usr/local/lib/python3.7/dist-packages (from kiwisolver>=1.0.1->matplotlib->matplotlib-venn) (4.1.1)\n",
            "Requirement already satisfied: six>=1.5 in /usr/local/lib/python3.7/dist-packages (from python-dateutil>=2.1->matplotlib->matplotlib-venn) (1.15.0)\n"
          ]
        }
      ]
    },
    {
      "cell_type": "code",
      "source": [
        "!apt-get -qq install -y libfluidsynth1"
      ],
      "metadata": {
        "colab": {
          "base_uri": "https://localhost:8080/"
        },
        "id": "YlvhYAfz6Js9",
        "outputId": "bf48a93d-8e59-4a5c-bcc3-10352c08ce41"
      },
      "execution_count": null,
      "outputs": [
        {
          "output_type": "stream",
          "name": "stdout",
          "text": [
            "Selecting previously unselected package libfluidsynth1:amd64.\n",
            "(Reading database ... 123942 files and directories currently installed.)\n",
            "Preparing to unpack .../libfluidsynth1_1.1.9-1_amd64.deb ...\n",
            "Unpacking libfluidsynth1:amd64 (1.1.9-1) ...\n",
            "Setting up libfluidsynth1:amd64 (1.1.9-1) ...\n",
            "Processing triggers for libc-bin (2.27-3ubuntu1.6) ...\n"
          ]
        }
      ]
    },
    {
      "cell_type": "code",
      "source": [
        "!apt-get -qq install -y libarchive-dev && pip install -U libarchive\n",
        "import libarchive"
      ],
      "metadata": {
        "colab": {
          "base_uri": "https://localhost:8080/"
        },
        "id": "AAJj42RY6Kq9",
        "outputId": "3c136fff-1140-46f9-ce82-5422d35c2b7e"
      },
      "execution_count": null,
      "outputs": [
        {
          "output_type": "stream",
          "name": "stdout",
          "text": [
            "Selecting previously unselected package libarchive-dev:amd64.\n",
            "(Reading database ... \r(Reading database ... 5%\r(Reading database ... 10%\r(Reading database ... 15%\r(Reading database ... 20%\r(Reading database ... 25%\r(Reading database ... 30%\r(Reading database ... 35%\r(Reading database ... 40%\r(Reading database ... 45%\r(Reading database ... 50%\r(Reading database ... 55%\r(Reading database ... 60%\r(Reading database ... 65%\r(Reading database ... 70%\r(Reading database ... 75%\r(Reading database ... 80%\r(Reading database ... 85%\r(Reading database ... 90%\r(Reading database ... 95%\r(Reading database ... 100%\r(Reading database ... 123947 files and directories currently installed.)\n",
            "Preparing to unpack .../libarchive-dev_3.2.2-3.1ubuntu0.7_amd64.deb ...\n",
            "Unpacking libarchive-dev:amd64 (3.2.2-3.1ubuntu0.7) ...\n",
            "Setting up libarchive-dev:amd64 (3.2.2-3.1ubuntu0.7) ...\n",
            "Processing triggers for man-db (2.8.3-2ubuntu0.1) ...\n",
            "Looking in indexes: https://pypi.org/simple, https://us-python.pkg.dev/colab-wheels/public/simple/\n",
            "Collecting libarchive\n",
            "  Downloading libarchive-0.4.7.tar.gz (23 kB)\n",
            "Collecting nose\n",
            "  Downloading nose-1.3.7-py3-none-any.whl (154 kB)\n",
            "\u001b[K     |████████████████████████████████| 154 kB 8.8 MB/s \n",
            "\u001b[?25hBuilding wheels for collected packages: libarchive\n",
            "  Building wheel for libarchive (setup.py) ... \u001b[?25l\u001b[?25hdone\n",
            "  Created wheel for libarchive: filename=libarchive-0.4.7-py3-none-any.whl size=31646 sha256=267319c12263dd6cdb3c42974721d4a9e94ce7ccc0ec1b619084c7262568e0f9\n",
            "  Stored in directory: /root/.cache/pip/wheels/63/b1/c6/b3da79bec2012175bd43603eed98ef8548ac1733b77c1d4330\n",
            "Successfully built libarchive\n",
            "Installing collected packages: nose, libarchive\n",
            "Successfully installed libarchive-0.4.7 nose-1.3.7\n"
          ]
        }
      ]
    },
    {
      "cell_type": "code",
      "source": [
        "!apt-get -qq install -y graphviz && pip install pydot\n",
        "import pydot"
      ],
      "metadata": {
        "colab": {
          "base_uri": "https://localhost:8080/"
        },
        "id": "S2atD5jy6L0S",
        "outputId": "51b0a51f-b519-42fc-df7a-df598bde4251"
      },
      "execution_count": null,
      "outputs": [
        {
          "output_type": "stream",
          "name": "stdout",
          "text": [
            "Looking in indexes: https://pypi.org/simple, https://us-python.pkg.dev/colab-wheels/public/simple/\n",
            "Requirement already satisfied: pydot in /usr/local/lib/python3.7/dist-packages (1.3.0)\n",
            "Requirement already satisfied: pyparsing>=2.1.4 in /usr/local/lib/python3.7/dist-packages (from pydot) (3.0.9)\n"
          ]
        }
      ]
    },
    {
      "cell_type": "code",
      "source": [
        "!pip install cartopy\n",
        "import cartopy"
      ],
      "metadata": {
        "colab": {
          "base_uri": "https://localhost:8080/"
        },
        "id": "ewIjdRh06Mv-",
        "outputId": "96fc74f8-18f9-40c0-c5b3-ce8095488976"
      },
      "execution_count": null,
      "outputs": [
        {
          "output_type": "stream",
          "name": "stdout",
          "text": [
            "Looking in indexes: https://pypi.org/simple, https://us-python.pkg.dev/colab-wheels/public/simple/\n",
            "Collecting cartopy\n",
            "  Downloading Cartopy-0.20.3.tar.gz (10.8 MB)\n",
            "\u001b[K     |████████████████████████████████| 10.8 MB 7.7 MB/s \n",
            "\u001b[?25h  Installing build dependencies ... \u001b[?25l\u001b[?25hdone\n",
            "  Getting requirements to build wheel ... \u001b[?25l\u001b[?25herror\n",
            "\u001b[33mWARNING: Discarding https://files.pythonhosted.org/packages/98/a9/0e4000eabadfcff6373c0fec790863b543b919cbfec18aed60d71ba67d5d/Cartopy-0.20.3.tar.gz#sha256=0d60fa2e2fbd77c4d1f6b1f9d3b588966147f07c1b179d2d34570ac1e1b49006 (from https://pypi.org/simple/cartopy/) (requires-python:>=3.7). Command errored out with exit status 1: /usr/bin/python3 /usr/local/lib/python3.7/dist-packages/pip/_vendor/pep517/in_process/_in_process.py get_requires_for_build_wheel /tmp/tmpxv9spdzf Check the logs for full command output.\u001b[0m\n",
            "  Downloading Cartopy-0.20.2.tar.gz (10.8 MB)\n",
            "\u001b[K     |████████████████████████████████| 10.8 MB 48.2 MB/s \n",
            "\u001b[?25h  Installing build dependencies ... \u001b[?25l\u001b[?25hdone\n",
            "  Getting requirements to build wheel ... \u001b[?25l\u001b[?25herror\n",
            "\u001b[33mWARNING: Discarding https://files.pythonhosted.org/packages/f6/55/1e1c737dc9436b320deead73d1c455ddbb74b8b6992081863492f6f6378a/Cartopy-0.20.2.tar.gz#sha256=4d08c198ecaa50a6a6b109d0f14c070e813defc046a83ac5d7ab494f85599e35 (from https://pypi.org/simple/cartopy/) (requires-python:>=3.7). Command errored out with exit status 1: /usr/bin/python3 /usr/local/lib/python3.7/dist-packages/pip/_vendor/pep517/in_process/_in_process.py get_requires_for_build_wheel /tmp/tmpda47g_iy Check the logs for full command output.\u001b[0m\n",
            "  Downloading Cartopy-0.20.1.tar.gz (10.8 MB)\n",
            "\u001b[K     |████████████████████████████████| 10.8 MB 39.8 MB/s \n",
            "\u001b[?25h  Installing build dependencies ... \u001b[?25l\u001b[?25hdone\n",
            "  Getting requirements to build wheel ... \u001b[?25l\u001b[?25herror\n",
            "\u001b[33mWARNING: Discarding https://files.pythonhosted.org/packages/fc/59/aa52698e3838f4cd0e7eaa75bd86837e9e0b05041dbdaee3cda2fffced06/Cartopy-0.20.1.tar.gz#sha256=91f87b130e2574547a20cd634498df97d797abd12dcfd0235bc0cdbcec8b05e3 (from https://pypi.org/simple/cartopy/) (requires-python:>=3.7). Command errored out with exit status 1: /usr/bin/python3 /usr/local/lib/python3.7/dist-packages/pip/_vendor/pep517/in_process/_in_process.py get_requires_for_build_wheel /tmp/tmpzy74_r5b Check the logs for full command output.\u001b[0m\n",
            "  Downloading Cartopy-0.20.0.tar.gz (10.8 MB)\n",
            "\u001b[K     |████████████████████████████████| 10.8 MB 44.0 MB/s \n",
            "\u001b[?25h  Installing build dependencies ... \u001b[?25l\u001b[?25hdone\n",
            "  Getting requirements to build wheel ... \u001b[?25l\u001b[?25herror\n",
            "\u001b[33mWARNING: Discarding https://files.pythonhosted.org/packages/0f/c0/58453b036e79046d211f083880d58dcce787e7e07647ac25dc46c6555099/Cartopy-0.20.0.tar.gz#sha256=eae58aff26806e63cf115b2bce9477cedc4aa9f578c5e477b2c25cfa404f2b7a (from https://pypi.org/simple/cartopy/) (requires-python:>=3.7). Command errored out with exit status 1: /usr/bin/python3 /usr/local/lib/python3.7/dist-packages/pip/_vendor/pep517/in_process/_in_process.py get_requires_for_build_wheel /tmp/tmp6cyw1qks Check the logs for full command output.\u001b[0m\n",
            "  Downloading Cartopy-0.19.0.post1.tar.gz (12.1 MB)\n",
            "\u001b[K     |████████████████████████████████| 12.1 MB 34.9 MB/s \n",
            "\u001b[?25h  Installing build dependencies ... \u001b[?25l\u001b[?25hdone\n",
            "  Getting requirements to build wheel ... \u001b[?25l\u001b[?25hdone\n",
            "    Preparing wheel metadata ... \u001b[?25l\u001b[?25hdone\n",
            "Requirement already satisfied: shapely>=1.5.6 in /usr/local/lib/python3.7/dist-packages (from cartopy) (1.8.5.post1)\n",
            "Collecting pyshp>=2\n",
            "  Downloading pyshp-2.3.1-py2.py3-none-any.whl (46 kB)\n",
            "\u001b[K     |████████████████████████████████| 46 kB 1.8 MB/s \n",
            "\u001b[?25hRequirement already satisfied: numpy>=1.13.3 in /usr/local/lib/python3.7/dist-packages (from cartopy) (1.21.6)\n",
            "Building wheels for collected packages: cartopy\n",
            "  Building wheel for cartopy (PEP 517) ... \u001b[?25l\u001b[?25hdone\n",
            "  Created wheel for cartopy: filename=Cartopy-0.19.0.post1-cp37-cp37m-linux_x86_64.whl size=12516280 sha256=8b30ebb64f8286d08400e5f4f8be2d33f428d87a5d00c1f3b9d0d8439d513b92\n",
            "  Stored in directory: /root/.cache/pip/wheels/98/01/f7/bd10aeb96fe4b518cde5f7c4f5e12c7202f85b7353a5017847\n",
            "Successfully built cartopy\n",
            "Installing collected packages: pyshp, cartopy\n",
            "Successfully installed cartopy-0.19.0.post1 pyshp-2.3.1\n"
          ]
        }
      ]
    },
    {
      "cell_type": "code",
      "source": [
        "!apt install libgraphviz-dev\n",
        "!pip install pygraphviz"
      ],
      "metadata": {
        "colab": {
          "base_uri": "https://localhost:8080/"
        },
        "id": "JDOdsGY86OMq",
        "outputId": "908d2248-9065-4a6a-a871-4071fa16f050"
      },
      "execution_count": null,
      "outputs": [
        {
          "output_type": "stream",
          "name": "stdout",
          "text": [
            "Reading package lists... Done\n",
            "Building dependency tree       \n",
            "Reading state information... Done\n",
            "libgraphviz-dev is already the newest version (2.40.1-2).\n",
            "The following package was automatically installed and is no longer required:\n",
            "  libnvidia-common-460\n",
            "Use 'apt autoremove' to remove it.\n",
            "0 upgraded, 0 newly installed, 0 to remove and 4 not upgraded.\n",
            "Looking in indexes: https://pypi.org/simple, https://us-python.pkg.dev/colab-wheels/public/simple/\n",
            "Requirement already satisfied: pygraphviz in /usr/local/lib/python3.7/dist-packages (1.7)\n"
          ]
        }
      ]
    },
    {
      "cell_type": "code",
      "source": [
        "!pip install wikipedia"
      ],
      "metadata": {
        "colab": {
          "base_uri": "https://localhost:8080/"
        },
        "id": "vqVPH91d7UJo",
        "outputId": "89bf80b4-67f8-4208-e891-d4405ba5dc44"
      },
      "execution_count": null,
      "outputs": [
        {
          "output_type": "stream",
          "name": "stdout",
          "text": [
            "Looking in indexes: https://pypi.org/simple, https://us-python.pkg.dev/colab-wheels/public/simple/\n",
            "Collecting wikipedia\n",
            "  Downloading wikipedia-1.4.0.tar.gz (27 kB)\n",
            "Requirement already satisfied: beautifulsoup4 in /usr/local/lib/python3.7/dist-packages (from wikipedia) (4.6.3)\n",
            "Requirement already satisfied: requests<3.0.0,>=2.0.0 in /usr/local/lib/python3.7/dist-packages (from wikipedia) (2.23.0)\n",
            "Requirement already satisfied: urllib3!=1.25.0,!=1.25.1,<1.26,>=1.21.1 in /usr/local/lib/python3.7/dist-packages (from requests<3.0.0,>=2.0.0->wikipedia) (1.24.3)\n",
            "Requirement already satisfied: chardet<4,>=3.0.2 in /usr/local/lib/python3.7/dist-packages (from requests<3.0.0,>=2.0.0->wikipedia) (3.0.4)\n",
            "Requirement already satisfied: idna<3,>=2.5 in /usr/local/lib/python3.7/dist-packages (from requests<3.0.0,>=2.0.0->wikipedia) (2.10)\n",
            "Requirement already satisfied: certifi>=2017.4.17 in /usr/local/lib/python3.7/dist-packages (from requests<3.0.0,>=2.0.0->wikipedia) (2022.9.24)\n",
            "Building wheels for collected packages: wikipedia\n",
            "  Building wheel for wikipedia (setup.py) ... \u001b[?25l\u001b[?25hdone\n",
            "  Created wheel for wikipedia: filename=wikipedia-1.4.0-py3-none-any.whl size=11695 sha256=e5e7fd828f38dee713c64b1c3598f9b85880d51fa70f7c4bbbabf6e98d1e307e\n",
            "  Stored in directory: /root/.cache/pip/wheels/15/93/6d/5b2c68b8a64c7a7a04947b4ed6d89fb557dcc6bc27d1d7f3ba\n",
            "Successfully built wikipedia\n",
            "Installing collected packages: wikipedia\n",
            "Successfully installed wikipedia-1.4.0\n"
          ]
        }
      ]
    },
    {
      "cell_type": "markdown",
      "source": [
        "##Imports"
      ],
      "metadata": {
        "id": "Zjlo9DrC793i"
      }
    },
    {
      "cell_type": "code",
      "source": [
        "import urllib.request, os.path, pickle\n",
        "import nltk\n",
        "import networkx as nx, community\n",
        "import pandas as pd\n",
        "import numpy as np\n",
        "import matplotlib.pyplot as plt\n",
        "import csv\n",
        "from operator import itemgetter\n",
        "import wikipedia\n",
        "import matplotlib.pyplot as plt\n",
        "from itertools import chain"
      ],
      "metadata": {
        "id": "b65WkDL54j34"
      },
      "execution_count": null,
      "outputs": []
    },
    {
      "cell_type": "markdown",
      "source": [
        "##Chapter 1\n",
        "\n",
        "\n",
        "No Codes"
      ],
      "metadata": {
        "id": "lJ7IumPNsZp_"
      }
    },
    {
      "cell_type": "markdown",
      "source": [
        "##Chapter 2\n",
        "\n",
        "No codes"
      ],
      "metadata": {
        "id": "Dc2eYvs2se6j"
      }
    },
    {
      "cell_type": "markdown",
      "source": [
        "##Chapter 3"
      ],
      "metadata": {
        "id": "BA89TOdHsfxf"
      }
    },
    {
      "cell_type": "markdown",
      "source": [
        "Create a graph"
      ],
      "metadata": {
        "id": "4nc3hrEr5i1q"
      }
    },
    {
      "cell_type": "code",
      "source": [
        "G= nx.Graph()"
      ],
      "metadata": {
        "id": "6PuKF3xOsjiQ"
      },
      "execution_count": null,
      "outputs": []
    },
    {
      "cell_type": "code",
      "source": [
        "F = nx.Graph(G)"
      ],
      "metadata": {
        "id": "F-Q0CNQS5eTW"
      },
      "execution_count": null,
      "outputs": []
    },
    {
      "cell_type": "code",
      "source": [
        "G = nx.MultiGraph()"
      ],
      "metadata": {
        "id": "1D7WooVk5fv4"
      },
      "execution_count": null,
      "outputs": []
    },
    {
      "cell_type": "markdown",
      "source": [
        "Add and remove nodes"
      ],
      "metadata": {
        "id": "JFIjo-_X5ni6"
      }
    },
    {
      "cell_type": "code",
      "source": [
        "G = nx.Graph()\n",
        "G.add_node('spinach')\n",
        "G.add_node(\"Hg\")\n",
        "G.add_nodes_from([\"folates\", \"asparagus\", \"liver\"])\n",
        "G.add_edge(\"spinach\", \"folates\")\n",
        "G.add_edge(\"spinach\", \"heating oil\")\n",
        "G.add_edge(\"liver\", \"Se\")\n",
        "G.add_edges_from([(\"folates\", \"liver\"), (\"folates\", \"asparagus\")])"
      ],
      "metadata": {
        "id": "sT8sCsCP5o1d"
      },
      "execution_count": null,
      "outputs": []
    },
    {
      "cell_type": "code",
      "source": [
        "G.remove_node(\"Hg\")\n",
        "G.remove_nodes_from([\"Hg\"])\n",
        "G.remove_edge(\"spinach\", \"heating oil\")\n",
        "G.remove_edges_from([(\"spinach\", \"heating oil\"), ])\n",
        "G.remove_node(\"heating oil\")"
      ],
      "metadata": {
        "id": "DxF3-IQN5ozs"
      },
      "execution_count": null,
      "outputs": []
    },
    {
      "cell_type": "markdown",
      "source": [
        "Look at edge and nodes lists"
      ],
      "metadata": {
        "id": "ZXft9gWL5r3q"
      }
    },
    {
      "cell_type": "code",
      "source": [
        "print(G.nodes)"
      ],
      "metadata": {
        "colab": {
          "base_uri": "https://localhost:8080/"
        },
        "id": "xYzIMVxF5oxM",
        "outputId": "3271561a-50e3-411f-fd14-fde5217be15d"
      },
      "execution_count": null,
      "outputs": [
        {
          "output_type": "stream",
          "name": "stdout",
          "text": [
            "['spinach', 'folates', 'asparagus', 'liver', 'Se']\n"
          ]
        }
      ]
    },
    {
      "cell_type": "code",
      "source": [
        "print(G.edges)"
      ],
      "metadata": {
        "colab": {
          "base_uri": "https://localhost:8080/"
        },
        "id": "qkUTbU3j5ouw",
        "outputId": "c086ca0a-4081-4a09-fa86-21664645c155"
      },
      "execution_count": null,
      "outputs": [
        {
          "output_type": "stream",
          "name": "stdout",
          "text": [
            "[('spinach', 'folates'), ('folates', 'liver'), ('folates', 'asparagus'), ('liver', 'Se')]\n"
          ]
        }
      ]
    },
    {
      "cell_type": "code",
      "source": [
        "print(G.nodes(data=True))"
      ],
      "metadata": {
        "colab": {
          "base_uri": "https://localhost:8080/"
        },
        "id": "J5GtK1Al5osY",
        "outputId": "4851e8ab-dbc9-4abc-e7c0-089ca90a54fb"
      },
      "execution_count": null,
      "outputs": [
        {
          "output_type": "stream",
          "name": "stdout",
          "text": [
            "[('spinach', {}), ('folates', {}), ('asparagus', {}), ('liver', {}), ('Se', {})]\n"
          ]
        }
      ]
    },
    {
      "cell_type": "code",
      "source": [
        "print(G.edges(data=True))"
      ],
      "metadata": {
        "colab": {
          "base_uri": "https://localhost:8080/"
        },
        "id": "6te_actU5vvM",
        "outputId": "42b5e543-e17c-4b08-c892-046860a44d66"
      },
      "execution_count": null,
      "outputs": [
        {
          "output_type": "stream",
          "name": "stdout",
          "text": [
            "[('spinach', 'folates', {}), ('folates', 'liver', {}), ('folates', 'asparagus', {}), ('liver', 'Se', {})]\n"
          ]
        }
      ]
    },
    {
      "cell_type": "markdown",
      "source": [
        "Nutrients.py example"
      ],
      "metadata": {
        "id": "-E6ahpjd5xgM"
      }
    },
    {
      "cell_type": "code",
      "source": [
        "with open(\"nutrients.csv\") as infile:\n",
        "    csv_reader = csv.reader(infile)\n",
        "    G = nx.Graph(csv_reader)\n",
        "print(G.nodes())"
      ],
      "metadata": {
        "colab": {
          "base_uri": "https://localhost:8080/"
        },
        "id": "kYxHcV0b51iX",
        "outputId": "5e12a027-2d43-488d-94dc-52d1e3b05764"
      },
      "execution_count": null,
      "outputs": [
        {
          "output_type": "stream",
          "name": "stdout",
          "text": [
            "['A', 'carrots', 'eggs', 'fatty fish', 'green leafy vegs', 'liver', 'milk', 'tomatoes', 'B12', 'B6', 'asparagus', 'beans', 'kidneys', 'potatoes', 'C', 'pumpkins', 'Ca', 'broccoli', 'cheese', 'Cu', 'nuts', 'whole grains', 'D', 'mushrooms', 'E', 'seeds', 'Mn', 'legumes', 'wheat', 'Se', 'Zn', 'beef', 'riboflavin', 'niacin', 'folates', 'spinach', 'poultry', 'shellfish', 'thiamin', 'veg oils', 'yogurt']\n"
          ]
        }
      ]
    },
    {
      "cell_type": "code",
      "source": [
        "loops = list(nx.selfloop_edges(G))\n",
        "G.remove_edges_from(loops)\n",
        "print(loops)"
      ],
      "metadata": {
        "colab": {
          "base_uri": "https://localhost:8080/"
        },
        "id": "I6zpVJ6V51_z",
        "outputId": "f3ced70c-e2d4-4314-9497-314a76929f56"
      },
      "execution_count": null,
      "outputs": [
        {
          "output_type": "stream",
          "name": "stdout",
          "text": [
            "[('tomatoes', 'tomatoes')]\n"
          ]
        }
      ]
    },
    {
      "cell_type": "code",
      "source": [
        "mapping = {node: node.title() for node in G if isinstance(node, str)}\n",
        "nx.relabel_nodes(G, mapping, copy=False)\n",
        "print(G.nodes())"
      ],
      "metadata": {
        "colab": {
          "base_uri": "https://localhost:8080/"
        },
        "id": "hr7UeQSY530s",
        "outputId": "36f590d9-9f96-4f4b-9852-27369d76a8d8"
      },
      "execution_count": null,
      "outputs": [
        {
          "output_type": "stream",
          "name": "stdout",
          "text": [
            "['A', 'B12', 'B6', 'C', 'Ca', 'Cu', 'D', 'E', 'Mn', 'Se', 'Zn', 'Yogurt', 'Veg Oils', 'Thiamin', 'Shellfish', 'Poultry', 'Spinach', 'Folates', 'Niacin', 'Riboflavin', 'Beef', 'Wheat', 'Legumes', 'Seeds', 'Mushrooms', 'Whole Grains', 'Nuts', 'Cheese', 'Broccoli', 'Pumpkins', 'Potatoes', 'Kidneys', 'Beans', 'Asparagus', 'Tomatoes', 'Milk', 'Liver', 'Green Leafy Vegs', 'Fatty Fish', 'Eggs', 'Carrots']\n"
          ]
        }
      ]
    },
    {
      "cell_type": "code",
      "source": [
        "nutrients = set((\"B12\", \"Zn\", \"D\", \"B6\", \"A\", \"Se\", \"Cu\", \"Folates\",\n",
        "                 \"Ca\", \"Mn\", \"Thiamin\", \"Riboflavin\", \"C\", \"E\", \"Niacin\"))\n",
        "nutrient_dict = {node: (node in nutrients) for node in G}\n",
        "nx.set_node_attributes(G, nutrient_dict, \"nutrient\")"
      ],
      "metadata": {
        "id": "cvRgim7r54rM"
      },
      "execution_count": null,
      "outputs": []
    },
    {
      "cell_type": "code",
      "source": [
        "print(G.nodes(data=True))"
      ],
      "metadata": {
        "colab": {
          "base_uri": "https://localhost:8080/"
        },
        "id": "4PXWwuPa56hD",
        "outputId": "4961b511-5f1e-47be-a542-d38da31f573c"
      },
      "execution_count": null,
      "outputs": [
        {
          "output_type": "stream",
          "name": "stdout",
          "text": [
            "[('A', {'nutrient': True}), ('B12', {'nutrient': True}), ('B6', {'nutrient': True}), ('C', {'nutrient': True}), ('Ca', {'nutrient': True}), ('Cu', {'nutrient': True}), ('D', {'nutrient': True}), ('E', {'nutrient': True}), ('Mn', {'nutrient': True}), ('Se', {'nutrient': True}), ('Zn', {'nutrient': True}), ('Yogurt', {'nutrient': False}), ('Veg Oils', {'nutrient': False}), ('Thiamin', {'nutrient': True}), ('Shellfish', {'nutrient': False}), ('Poultry', {'nutrient': False}), ('Spinach', {'nutrient': False}), ('Folates', {'nutrient': True}), ('Niacin', {'nutrient': True}), ('Riboflavin', {'nutrient': True}), ('Beef', {'nutrient': False}), ('Wheat', {'nutrient': False}), ('Legumes', {'nutrient': False}), ('Seeds', {'nutrient': False}), ('Mushrooms', {'nutrient': False}), ('Whole Grains', {'nutrient': False}), ('Nuts', {'nutrient': False}), ('Cheese', {'nutrient': False}), ('Broccoli', {'nutrient': False}), ('Pumpkins', {'nutrient': False}), ('Potatoes', {'nutrient': False}), ('Kidneys', {'nutrient': False}), ('Beans', {'nutrient': False}), ('Asparagus', {'nutrient': False}), ('Tomatoes', {'nutrient': False}), ('Milk', {'nutrient': False}), ('Liver', {'nutrient': False}), ('Green Leafy Vegs', {'nutrient': False}), ('Fatty Fish', {'nutrient': False}), ('Eggs', {'nutrient': False}), ('Carrots', {'nutrient': False})]\n"
          ]
        }
      ]
    },
    {
      "cell_type": "code",
      "source": [
        "import dzcnapy_plotlib as dzcnapy\n",
        "# Prepare for drawing\n",
        "colors = [\"yellow\" if n[1][\"nutrient\"] else \"pink\" for n in\n",
        "          G.nodes(data=True)]\n",
        "dzcnapy.medium_attrs[\"node_color\"] = colors"
      ],
      "metadata": {
        "id": "oXvOArAT6W_a"
      },
      "execution_count": null,
      "outputs": []
    },
    {
      "cell_type": "code",
      "source": [
        "# Draw four layouts in four subplots\n",
        "_, plot = plt.subplots(2, 2)\n",
        "\n",
        "subplots = plot.reshape(1, 4)[0]\n",
        "layouts = (nx.random_layout, nx.circular_layout, nx.spring_layout,\n",
        "           nx.spectral_layout)\n",
        "titles = (\"Random\", \"Circular\", \"Force-Directed\", \"Spectral\")\n",
        "for plot, layout, title in zip(subplots, layouts, titles):\n",
        "    pos = layout(G)\n",
        "    nx.draw_networkx(G, pos=pos, ax=plot, with_labels=False, \n",
        "                     **dzcnapy.medium_attrs)\n",
        "    plot.set_title(title)\n",
        "    dzcnapy.set_extent(pos, plot)\n",
        "\n",
        "dzcnapy.plot(\"nutrients\")"
      ],
      "metadata": {
        "colab": {
          "base_uri": "https://localhost:8080/",
          "height": 314
        },
        "id": "yWP_G2Ts6YIe",
        "outputId": "b4adc32c-1063-4daf-b775-dc6103b3ef7d"
      },
      "execution_count": null,
      "outputs": [
        {
          "output_type": "stream",
          "name": "stderr",
          "text": [
            "WARNING:matplotlib.font_manager:findfont: Font family ['Arial'] not found. Falling back to DejaVu Sans.\n"
          ]
        },
        {
          "output_type": "display_data",
          "data": {
            "text/plain": [
              "<Figure size 432x288 with 4 Axes>"
            ],
            "image/png": "[encoded data removed]"
          },
          "metadata": {}
        }
      ]
    },
    {
      "cell_type": "code",
      "source": [
        "from networkx.drawing.nx_agraph import graphviz_layout\n",
        "\n",
        "_, plot = plt.subplots()\n",
        "pos = graphviz_layout(G)\n",
        "nx.draw_networkx(G, pos, **dzcnapy.attrs)\n",
        "dzcnapy.set_extent(pos, plot)\n",
        "dzcnapy.plot(\"nutrients-graphviz\")"
      ],
      "metadata": {
        "colab": {
          "base_uri": "https://localhost:8080/",
          "height": 297
        },
        "id": "_uQEcVcl6alC",
        "outputId": "6ade42ef-18be-4b25-ef4a-17bd5c55c4e0"
      },
      "execution_count": null,
      "outputs": [
        {
          "output_type": "display_data",
          "data": {
            "text/plain": [
              "<Figure size 432x288 with 1 Axes>"
            ],
            "image/png": "[encoded data removed]"
          },
          "metadata": {}
        }
      ]
    },
    {
      "cell_type": "code",
      "source": [
        "nx.write_graphml(G, \"nutrients.graphml\")"
      ],
      "metadata": {
        "id": "wKYaqXrZ6boh"
      },
      "execution_count": null,
      "outputs": []
    },
    {
      "cell_type": "code",
      "source": [
        "with open(\"nutrients.graphml\", \"wb\") as ofile:\n",
        "  nx.write_graphml(G,ofile)"
      ],
      "metadata": {
        "id": "TsU8MQMr6cqD"
      },
      "execution_count": null,
      "outputs": []
    },
    {
      "cell_type": "markdown",
      "source": [
        "##Chapter 4\n",
        "\n",
        "No codes"
      ],
      "metadata": {
        "id": "pdTMSI0nshIf"
      }
    },
    {
      "cell_type": "markdown",
      "source": [
        "##Chapter 5"
      ],
      "metadata": {
        "id": "9rs9IkdXsiHE"
      }
    },
    {
      "cell_type": "code",
      "source": [
        "SEED = \"Complex network\".title()\n",
        "STOPS = (\"International Standard Serial Number\",\n",
        "         \"Internatioanl Standard Book Number\"\n",
        "         \"National Diet Library\",\n",
        "         \"International Standard Name Identifier\",\n",
        "         \"International Standard Book Number (Idetifier)\",\n",
        "         \"Pubmed Identifier\",\n",
        "         \"Pubmed Central\",\n",
        "         \"Digital Object Identifier\",\n",
        "         \"Arxiv\",\n",
        "         \"Proc Natl Acad Sci Usa\",\n",
        "         \"Bibcode\",\n",
        "         \"Jstor\",\n",
        "         \"Doi (Indetifier)\",\n",
        "         \"Isbn (Indetifier)\",\n",
        "         \"Pmid (Indetifier)\",\n",
        "         \"Arxiv (Indetifier)\",\n",
        "         \"Bibcode (Indetifier)\")"
      ],
      "metadata": {
        "id": "oAwKmp9Usi0_"
      },
      "execution_count": null,
      "outputs": []
    },
    {
      "cell_type": "code",
      "source": [
        "#keep track of the distance from currently processed node to the seed \n",
        "\n",
        "todo_lst = [(0,SEED)] # seed in layer 1 \n",
        "todo_set = set(SEED) #the SEED\n",
        "done_set = set() #nothing \n",
        "\n",
        "# a grapth that will absorb nodes and edges"
      ],
      "metadata": {
        "id": "Q8Q7jqko9wax"
      },
      "execution_count": null,
      "outputs": []
    },
    {
      "cell_type": "code",
      "source": [
        "#extracting the first “to-do” item\n",
        "g = nx.DiGraph()\n",
        "layer,page = todo_lst[0]"
      ],
      "metadata": {
        "id": "FFGTQnff9z0R"
      },
      "execution_count": null,
      "outputs": []
    },
    {
      "cell_type": "code",
      "source": [
        "#remove name page of the current page from the todo list \n",
        "#add it to the set of processed pages\n",
        "#skip if already encountered\n",
        "\n",
        "while layer < 2:\n",
        "  del todo_lst[0]\n",
        "  done_set.add(page)\n",
        "\n",
        "  print(layer,page)\n",
        "\n",
        "#attempt to dowload selected page\n",
        "  try:\n",
        "    wiki = wikipedia.page(page)\n",
        "  except:\n",
        "    layer, page = todo_lst[0]\n",
        "    print(\"Could not load\", page)\n",
        "    continue\n",
        "\n",
        "  for link in wiki.links:\n",
        "    link = link.title()\n",
        "    if link not in STOPS and not link.startswith(\"List Of\"):\n",
        "      if link not in todo_set and link not in done_set:\n",
        "        todo_lst.append((layer + 1, link))\n",
        "        todo_set.add(link)\n",
        "      g.add_edge(page, link)\n",
        "  layer, page = todo_lst[0]"
      ],
      "metadata": {
        "colab": {
          "base_uri": "https://localhost:8080/"
        },
        "id": "ie0ITRSV91wZ",
        "outputId": "eb6dedb9-de40-4579-e59d-c84bf01a26fd"
      },
      "execution_count": null,
      "outputs": [
        {
          "output_type": "stream",
          "name": "stdout",
          "text": [
            "0 Complex Network\n",
            "1 Adjacency List\n",
            "1 Adjacency Matrix\n",
            "1 Agent-Based Model\n",
            "1 Albert-László Barabási\n",
            "1 Arxiv (Identifier)\n",
            "1 Artificial Neural Network\n",
            "1 Assortativity\n",
            "1 Autonomous System (Internet)\n",
            "1 Balance Theory\n",
            "1 Barabási–Albert Model\n",
            "1 Bianconi–Barabási Model\n",
            "1 Bibcode (Identifier)\n",
            "1 Biological Network\n",
            "1 Biology\n",
            "1 Bipartite Graph\n",
            "1 Blockmodeling\n",
            "Could not load Boolean Network\n",
            "1 Boolean Network\n",
            "1 Branching Process\n",
            "1 Centrality\n",
            "1 Climate\n",
            "1 Climate Networks\n",
            "1 Clique (Graph Theory)\n",
            "1 Clustering Coefficient\n",
            "1 Combinatorial Optimization\n",
            "1 Community Structure\n",
            "1 Complete Graph\n",
            "1 Complex Networks\n",
            "1 Complex Adaptive System\n",
            "1 Complex Contagion\n",
            "1 Complex Systems\n",
            "1 Computer Network\n",
            "1 Computer Science\n",
            "1 Connected Component (Graph Theory)\n",
            "1 Connectome\n",
            "Could not load Cut (Graph Theory)\n",
            "1 Cut (Graph Theory)\n",
            "1 Cycle (Graph Theory)\n",
            "1 Degree (Graph Theory)\n",
            "1 Degree Distribution\n",
            "1 Dependency Network\n",
            "1 Directed Graph\n",
            "1 Distance (Graph Theory)\n",
            "1 Doi (Identifier)\n",
            "1 Dual-Phase Evolution\n",
            "1 Duncan J. Watts\n",
            "1 Dynamic Network Analysis\n",
            "1 Edge (Graph Theory)\n",
            "1 Efficiency (Network Science)\n",
            "1 Entropy (Information Theory)\n",
            "1 Epidemic Model\n",
            "1 Epidemiology\n",
            "1 Erdős–Rényi Model\n",
            "1 Evolving Networks\n",
            "1 Exponential Random Graph Models\n",
            "1 Fitness Model (Network Theory)\n",
            "1 Flow Network\n",
            "1 Frigyes Karinthy\n",
            "1 Graph (Abstract Data Type)\n",
            "1 Graph (Discrete Mathematics)\n",
            "1 Graph Drawing\n",
            "1 Herbert A. Simon\n",
            "1 Hierarchical Network Model\n",
            "1 Hierarchy\n",
            "1 Homophily\n",
            "1 Hyperbolic Geometric Graph\n",
            "1 Hypercube\n",
            "Could not load Hypergraph\n",
            "1 Hypergraph\n",
            "1 Isbn (Identifier)\n",
            "1 Issn (Identifier)\n",
            "1 Incidence List\n",
            "1 Incidence Matrix\n",
            "Could not load Interdependent Networks\n",
            "1 Interdependent Networks\n",
            "1 Lancichinetti–Fortunato–Radicchi Benchmark\n",
            "1 Lattice Graph\n",
            "1 Link Analysis\n",
            "1 Loop (Graph Theory)\n",
            "1 Mathematics\n",
            "1 Matthew Effect (Sociology)\n",
            "1 Maximum-Entropy Random Graph Model\n",
            "1 Metrics (Networking)\n",
            "1 Modularity (Networks)\n",
            "1 Multigraph\n",
            "Could not load Neighbourhood (Graph Theory)\n",
            "1 Neighbourhood (Graph Theory)\n",
            "1 Network Controllability\n",
            "1 Network Effect\n",
            "1 Network Motif\n",
            "1 Network On A Chip\n",
            "1 Network Science\n",
            "1 Network Theory\n",
            "1 Pmc (Identifier)\n",
            "Could not load Pmid (Identifier)\n",
            "1 Pmid (Identifier)\n",
            "1 Path (Graph Theory)\n",
            "1 Percolation\n",
            "1 Percolation Theory\n",
            "1 Physics\n"
          ]
        },
        {
          "output_type": "stream",
          "name": "stderr",
          "text": [
            "/usr/local/lib/python3.7/dist-packages/wikipedia/wikipedia.py:389: UserWarning: No parser was explicitly specified, so I'm using the best available HTML parser for this system (\"lxml\"). This usually isn't a problem, but if you run this code on another system, or in a different virtual environment, it may use a different parser and behave differently.\n",
            "\n",
            "The code that caused this warning is on line 389 of the file /usr/local/lib/python3.7/dist-packages/wikipedia/wikipedia.py. To get rid of this warning, pass the additional argument 'features=\"lxml\"' to the BeautifulSoup constructor.\n",
            "\n",
            "  lis = BeautifulSoup(html).find_all('li')\n"
          ]
        },
        {
          "output_type": "stream",
          "name": "stdout",
          "text": [
            "Could not load Poisson Distribution\n",
            "1 Poisson Distribution\n",
            "Could not load Power-Law\n",
            "1 Power-Law\n",
            "1 Power Law\n",
            "1 Preferential Attachment\n",
            "1 Random Geometric Graph\n",
            "1 Random Graph\n",
            "1 Random Graph Theory Of Gelation\n",
            "1 Random Regular Graphs\n",
            "1 Reciprocity (Network Science)\n",
            "1 Reciprocity In Network\n",
            "1 Regular Lattices\n",
            "Could not load S2Cid (Identifier)\n",
            "1 S2Cid (Identifier)\n",
            "1 Sir Model\n",
            "1 Scale-Free Network\n",
            "1 Scale-Free Networks\n",
            "1 Scientific Collaboration Network\n",
            "1 Semantic Network\n",
            "1 Six Degrees Of Separation\n",
            "1 Small-World Network\n",
            "1 Small-World Networks\n",
            "1 Small-World Phenomenon\n",
            "1 Small World Networks\n",
            "1 Social Capital\n",
            "1 Social Influence\n",
            "1 Social Network\n",
            "1 Social Network Analysis Software\n",
            "1 Sociology\n",
            "1 Soft Configuration Model\n",
            "1 Spatial Network\n",
            "1 Stanley Milgram\n",
            "1 Steven Strogatz\n",
            "1 Stochastic Block Model\n",
            "1 Telecommunications Network\n",
            "1 Topological\n",
            "1 Transitive Relation\n",
            "1 Transport Network\n",
            "1 Triadic Closure\n",
            "1 Trophic Coherence\n",
            "1 Vertex (Graph Theory)\n",
            "1 Watts–Strogatz Model\n",
            "1 Weighted Network\n",
            "1 World Wide Web\n",
            "1 Yule-Simon Distribution\n"
          ]
        }
      ]
    },
    {
      "cell_type": "code",
      "source": [
        "print (\"{} nodes, {} edges\". format(len(g), nx.number_of_edges(g)))"
      ],
      "metadata": {
        "colab": {
          "base_uri": "https://localhost:8080/"
        },
        "id": "5qiTU4fh9347",
        "outputId": "81824cc9-e322-4537-f3c1-3618d20f6486"
      },
      "execution_count": null,
      "outputs": [
        {
          "output_type": "stream",
          "name": "stdout",
          "text": [
            "14004 nodes, 27720 edges\n"
          ]
        }
      ]
    },
    {
      "cell_type": "markdown",
      "source": [
        "\n",
        "Eliminating Duplcates"
      ],
      "metadata": {
        "id": "5CslxlLf95j1"
      }
    },
    {
      "cell_type": "code",
      "source": [
        "#copy of raw graph\n",
        "original = g.copy()"
      ],
      "metadata": {
        "id": "wpgw1g6G96T_"
      },
      "execution_count": null,
      "outputs": []
    },
    {
      "cell_type": "code",
      "source": [
        "#remove self loops\n",
        "g.remove_edges_from(nx.selfloop_edges(g))\n",
        "\n",
        "#identify duplicates: \"network\" & \"networks\"\n",
        "duplicates = [(node, node + \"s\")\n",
        "              for node in g if node + \"s\" in g]\n",
        "\n",
        "for dup in duplicates:\n",
        "  #dup os a technique of \"unpacking\"\n",
        "  g = nx.contracted_nodes(g, *dup, self_loops=False)\n",
        "\n",
        "print(duplicates)\n",
        "\n",
        "duplicates = [(x,y) for x, y in\n",
        "              [(node, node.replace(\"-\", \" \")) for node in g]\n",
        "              if x != y and y in g]\n",
        "print(duplicates)\n",
        "\n",
        "for dup in duplicates:\n",
        "  g = nx.contracted_nodes(g, *dup, self_loops=False)\n",
        "\n",
        "nx.set_node_attributes(g, 0,\"contraction\")\n",
        "nx.set_edge_attributes(g, 0,\"contraction\") "
      ],
      "metadata": {
        "colab": {
          "base_uri": "https://localhost:8080/"
        },
        "id": "fH7kM8rQ97o-",
        "outputId": "1017da04-8c86-49d1-d096-bfd8bea7e721"
      },
      "execution_count": null,
      "outputs": [
        {
          "output_type": "stream",
          "name": "stdout",
          "text": [
            "[('Complex Network', 'Complex Networks'), ('Complex Adaptive System', 'Complex Adaptive Systems'), ('Computer Science', 'Computer Sciences'), ('Random Graph', 'Random Graphs'), ('Scale-Free Network', 'Scale-Free Networks'), ('Semantic Network', 'Semantic Networks'), ('Small-World Network', 'Small-World Networks'), ('Social Network', 'Social Networks'), ('Spatial Network', 'Spatial Networks'), ('Weighted Network', 'Weighted Networks'), ('Graph Database', 'Graph Databases'), ('Data Structure', 'Data Structures'), ('Eigenvector', 'Eigenvectors'), ('Ant Colony Optimization Algorithm', 'Ant Colony Optimization Algorithms'), ('Complex System', 'Complex Systems'), ('Multi-Agent System', 'Multi-Agent Systems'), ('Partial Differential Equation', 'Partial Differential Equations'), ('Social Science', 'Social Sciences'), ('E-Print', 'E-Prints'), ('Postprint', 'Postprints'), ('Preprint', 'Preprints'), ('Artificial Neuron', 'Artificial Neurons'), ('Automated Lane Keeping System', 'Automated Lane Keeping Systems'), ('Coupled Map Lattice', 'Coupled Map Lattices'), ('Fractal', 'Fractals'), ('Genetic Algorithm', 'Genetic Algorithms'), ('Hyperparameter', 'Hyperparameters'), ('Neural Network', 'Neural Networks'), ('Ordinary Differential Equation', 'Ordinary Differential Equations'), ('Probability Distribution', 'Probability Distributions'), ('Recurrent Neural Network', 'Recurrent Neural Networks'), ('Statistic', 'Statistics'), ('Food Web', 'Food Webs'), ('Gene Regulatory Network', 'Gene Regulatory Networks'), ('Metabolic Network', 'Metabolic Networks'), ('Continent', 'Continents'), ('Earth Science', 'Earth Sciences'), ('Ecosystem', 'Ecosystems'), ('Igneous Rock', 'Igneous Rocks'), ('Mineral', 'Minerals'), ('Organism', 'Organisms'), ('Tectonic Plate', 'Tectonic Plates'), ('Line Segment', 'Line Segments'), ('Planar Graph', 'Planar Graphs'), ('Clique', 'Cliques'), ('Demographic', 'Demographics'), ('Biological System', 'Biological Systems'), ('Differential Equation', 'Differential Equations'), ('Dynamical System', 'Dynamical Systems'), ('Nonlinear Dynamical System', 'Nonlinear Dynamical Systems'), ('Small World Network', 'Small World Networks'), ('Social Movement', 'Social Movements'), ('Organisation', 'Organisations'), ('Thermodynamic', 'Thermodynamics'), ('Computer', 'Computers'), ('Geographic Information System', 'Geographic Information Systems'), ('Http', 'Https'), ('Randomized Algorithm', 'Randomized Algorithms'), ('Punched Card', 'Punched Cards'), ('Disjoint Set', 'Disjoint Sets'), ('Random Variable', 'Random Variables'), ('Commutative Diagram', 'Commutative Diagrams'), ('Continuous Function', 'Continuous Functions'), ('Telecommunication', 'Telecommunications'), ('Antiseptic', 'Antiseptics'), ('Epidemic', 'Epidemics'), ('Infection', 'Infections'), ('Waterborne Disease', 'Waterborne Diseases'), ('Amino Acid', 'Amino Acids'), ('Clinical Trial', 'Clinical Trials'), ('Enzyme', 'Enzymes'), ('Epidemiological Method', 'Epidemiological Methods'), ('Molecule', 'Molecules'), ('Phylogenetic Tree', 'Phylogenetic Trees'), ('Expert', 'Experts'), ('Interpersonal Relationship', 'Interpersonal Relationships'), ('Organization', 'Organizations'), ('Social Group', 'Social Groups'), ('Social Norm', 'Social Norms'), ('Virtue', 'Virtues'), ('Power-Law Distribution', 'Power-Law Distributions'), ('Prime Number', 'Prime Numbers'), ('Search Engine', 'Search Engines'), ('Aesthetic', 'Aesthetics'), ('Conic Section', 'Conic Sections'), ('Math', 'Maths'), ('Mathematical Object', 'Mathematical Objects'), ('Exponential Random Graph Model', 'Exponential Random Graph Models'), ('Open Standard', 'Open Standards'), ('Web Site', 'Web Sites'), ('Binomial Coefficient', 'Binomial Coefficients'), ('Critical Exponent', 'Critical Exponents'), ('Random Regular Graph', 'Random Regular Graphs'), ('Random Network', 'Random Networks'), ('Co-Occurrence Network', 'Co-Occurrence Networks'), ('Marxist', 'Marxists'), ('Economic', 'Economics'), ('Formal Organization', 'Formal Organizations'), ('Social Interaction', 'Social Interactions'), ('Hermeneutic', 'Hermeneutics'), ('Nation State', 'Nation States'), ('Semiotic', 'Semiotics'), ('Social Action', 'Social Actions'), ('Radio Wave', 'Radio Waves'), ('Trophic Level', 'Trophic Levels'), ('Tweedie Distribution', 'Tweedie Distributions')]\n",
            "[('Power-Law', 'Power Law'), ('Scale-Free Network', 'Scale Free Network'), ('Small-World Network', 'Small World Network'), ('Small-World Phenomenon', 'Small World Phenomenon'), ('(0,1)-Matrix', '(0,1) Matrix'), ('Mean-Squared Error', 'Mean Squared Error'), ('Very-Large-Scale Integration', 'Very Large Scale Integration'), ('Prentice-Hall', 'Prentice Hall'), ('Time-Series', 'Time Series'), ('World-Systems Theory', 'World Systems Theory'), ('Small-World Experiment', 'Small World Experiment'), ('Packet-Switched Network', 'Packet Switched Network'), ('Probability-Generating Function', 'Probability Generating Function'), ('Finite-State Machine', 'Finite State Machine'), ('Carnegie-Mellon University', 'Carnegie Mellon University'), ('Ha-Joon Chang', 'Ha Joon Chang'), ('Problem-Solving', 'Problem Solving'), ('Phrase-Structure Grammar', 'Phrase Structure Grammar'), ('Springer-Verlag', 'Springer Verlag'), ('Power-Law Distribution', 'Power Law Distribution'), ('Data-Analysis', 'Data Analysis'), ('Emmanuel-Joseph Sieyès', 'Emmanuel Joseph Sieyès')]\n"
          ]
        }
      ]
    },
    {
      "cell_type": "code",
      "source": [
        "print (\"{} nodes, {} edgdes\". format(len(g), nx.number_of_edges(g)))"
      ],
      "metadata": {
        "colab": {
          "base_uri": "https://localhost:8080/"
        },
        "id": "OWm5foIh9-Uy",
        "outputId": "47bd2a18-7c51-4bbd-bc3e-f4fc001cd719"
      },
      "execution_count": null,
      "outputs": [
        {
          "output_type": "stream",
          "name": "stdout",
          "text": [
            "13876 nodes, 26436 edgdes\n"
          ]
        }
      ]
    },
    {
      "cell_type": "markdown",
      "source": [
        "Truncate the Network\n",
        "\n",
        "All this to create a network of subjects related to complex networks. And find other significant topics related to complex networks.\n",
        "\n",
        "Node indegree - number of edges directed into the node."
      ],
      "metadata": {
        "id": "HqmxNqeL-AgP"
      }
    },
    {
      "cell_type": "code",
      "source": [
        "#filter nodes with ddegree >= 2\n",
        "core = [node for node, deg in dict(g.degree()).items() if deg >= 2]\n",
        "\n",
        "#select a subgraph with 'core' nodes\n",
        "gsub = nx.subgraph(g,core)\n",
        "\n",
        "print(\"{} nodes, {} edgdes\". format(len(gsub), nx.number_of_edges(gsub)))\n",
        "\n",
        "nx.write_graphml(gsub, \"cna.graphml\")"
      ],
      "metadata": {
        "colab": {
          "base_uri": "https://localhost:8080/"
        },
        "id": "W-QHrJW0-C_H",
        "outputId": "2537f707-5d9f-4f66-d174-88a66b4f7e83"
      },
      "execution_count": null,
      "outputs": [
        {
          "output_type": "stream",
          "name": "stdout",
          "text": [
            "3776 nodes, 16336 edgdes\n"
          ]
        }
      ]
    },
    {
      "cell_type": "markdown",
      "source": [
        "Explore the network"
      ],
      "metadata": {
        "id": "eintfMPN-2x-"
      }
    },
    {
      "cell_type": "code",
      "source": [
        "top_indegree = sorted(dict(gsub.in_degree()).items(),\n",
        "                      reverse=True, key=itemgetter(1))[:100]\n",
        "print(\"\\n\".join(map(lambda t: \"{} {}\".format(*reversed(t)), top_indegree)))"
      ],
      "metadata": {
        "colab": {
          "base_uri": "https://localhost:8080/"
        },
        "id": "zVJc2brW-4uy",
        "outputId": "008dd547-ab71-4cd7-b22f-4a23b63c42fe"
      },
      "execution_count": null,
      "outputs": [
        {
          "output_type": "stream",
          "name": "stdout",
          "text": [
            "111 Doi (Identifier)\n",
            "90 Isbn (Identifier)\n",
            "87 S2Cid (Identifier)\n",
            "80 Pmid (Identifier)\n",
            "77 Bibcode (Identifier)\n",
            "76 Arxiv (Identifier)\n",
            "72 Graph (Discrete Mathematics)\n",
            "67 Vertex (Graph Theory)\n",
            "61 Directed Graph\n",
            "58 Pmc (Identifier)\n",
            "58 Adjacency Matrix\n",
            "58 Social Network\n",
            "58 Issn (Identifier)\n",
            "58 Network Theory\n",
            "57 Degree (Graph Theory)\n",
            "56 Path (Graph Theory)\n",
            "55 Complete Graph\n",
            "55 Edge (Graph Theory)\n",
            "54 Graph Drawing\n",
            "54 Network Science\n",
            "54 Graph (Abstract Data Type)\n",
            "54 Complex Network\n",
            "54 Incidence Matrix\n",
            "54 Bipartite Graph\n",
            "54 Small-World Network\n",
            "52 Multigraph\n",
            "52 Cycle (Graph Theory)\n",
            "52 Adjacency List\n",
            "52 Blockmodeling\n",
            "52 Percolation Theory\n",
            "52 Social Capital\n",
            "52 Social Network Analysis Software\n",
            "51 Scale-Free Network\n",
            "51 Centrality\n",
            "51 Complex Contagion\n",
            "51 Loop (Graph Theory)\n",
            "49 Random Graph\n",
            "49 Clustering Coefficient\n",
            "49 Degree Distribution\n",
            "49 Preferential Attachment\n",
            "49 Hypergraph\n",
            "48 Artificial Neural Network\n",
            "48 Weighted Network\n",
            "48 Flow Network\n",
            "48 Computer Network\n",
            "48 Connected Component (Graph Theory)\n",
            "48 Erdős–Rényi Model\n",
            "48 Neighbourhood (Graph Theory)\n",
            "48 Clique (Graph Theory)\n",
            "48 Distance (Graph Theory)\n",
            "48 Agent-Based Model\n",
            "47 Network Motif\n",
            "47 Transitive Relation\n",
            "47 Barabási–Albert Model\n",
            "47 Cut (Graph Theory)\n",
            "47 Semantic Network\n",
            "47 Graph Theory\n",
            "46 Combinatorial Optimization\n",
            "46 Network Controllability\n",
            "46 Link Analysis\n",
            "45 Sir Model\n",
            "45 Metrics (Networking)\n",
            "45 Dependency Network\n",
            "45 Telecommunications Network\n",
            "45 Social Influence\n",
            "45 Network Effect\n",
            "45 Interdependent Networks\n",
            "45 Fitness Model (Network Theory)\n",
            "45 Balance Theory\n",
            "45 Community Structure\n",
            "45 Boolean Network\n",
            "45 Epidemic Model\n",
            "45 Incidence List\n",
            "45 Biological Network\n",
            "44 Watts–Strogatz Model\n",
            "44 Transport Network\n",
            "44 Soft Configuration Model\n",
            "44 Triadic Closure\n",
            "44 Scientific Collaboration Network\n",
            "44 Efficiency (Network Science)\n",
            "44 Exponential Random Graph Model\n",
            "44 Assortativity\n",
            "44 Maximum-Entropy Random Graph Model\n",
            "44 Lancichinetti–Fortunato–Radicchi Benchmark\n",
            "44 Bianconi–Barabási Model\n",
            "44 Hierarchical Network Model\n",
            "44 Hyperbolic Geometric Graph\n",
            "44 Evolving Networks\n",
            "44 Network On A Chip\n",
            "44 Modularity (Networks)\n",
            "44 Spatial Network\n",
            "44 Homophily\n",
            "44 Random Geometric Graph\n",
            "44 Stochastic Block Model\n",
            "43 Reciprocity (Network Science)\n",
            "37 Citeseerx (Identifier)\n",
            "31 Hdl (Identifier)\n",
            "29 Wayback Machine\n",
            "28 Social Network Analysis\n",
            "28 Jstor (Identifier)\n"
          ]
        }
      ]
    },
    {
      "cell_type": "markdown",
      "source": [
        "##Chapter 6\n",
        "\n",
        "No codes"
      ],
      "metadata": {
        "id": "s-GdtqYMsj8D"
      }
    },
    {
      "cell_type": "markdown",
      "source": [
        "##Chapter 7"
      ],
      "metadata": {
        "id": "Un6di30jslDf"
      }
    },
    {
      "cell_type": "code",
      "source": [
        "A = [[0,1,0,0,0],\n",
        "     [0,0,1,0,0],\n",
        "     [0,0,0,1,0],\n",
        "     [0,0,0,0,1],\n",
        "     [-1,0,0,0,0]]\n",
        "\n",
        "G = nx.DiGraph()\n",
        "edges = chain.from_iterable([(i, j, {\"weight\": A[i][j]})\n",
        "for j, column in enumerate(row)\n",
        "if A[i][j]] for i, row in enumerate(A))\n",
        "\n",
        "G.add_edges_from(edges)\n",
        "print(G.edges(data=True))"
      ],
      "metadata": {
        "id": "3SVlNtyFslum",
        "colab": {
          "base_uri": "https://localhost:8080/"
        },
        "outputId": "2a2d0648-080e-4f6e-9d0f-81ca43652e44"
      },
      "execution_count": null,
      "outputs": [
        {
          "output_type": "stream",
          "name": "stdout",
          "text": [
            "[(0, 1, {'weight': 1}), (1, 2, {'weight': 1}), (2, 3, {'weight': 1}), (3, 4, {'weight': 1}), (4, 0, {'weight': -1})]\n"
          ]
        }
      ]
    },
    {
      "cell_type": "code",
      "source": [
        "A_mtx = np.matrix(A)\n",
        "\n",
        "G = nx.from_numpy_matrix(A_mtx, create_using=nx.DiGraph())\n",
        "print(G.edges(data=True))#if false, no weight"
      ],
      "metadata": {
        "colab": {
          "base_uri": "https://localhost:8080/"
        },
        "id": "HgLbV2h9_WP8",
        "outputId": "d5e6ffc5-000d-49e1-9d32-e8a1d32f47c5"
      },
      "execution_count": null,
      "outputs": [
        {
          "output_type": "stream",
          "name": "stdout",
          "text": [
            "[(0, 1, {'weight': 1}), (1, 2, {'weight': 1}), (2, 3, {'weight': 1}), (3, 4, {'weight': 1}), (4, 0, {'weight': -1})]\n"
          ]
        }
      ]
    },
    {
      "cell_type": "code",
      "source": [
        "#reverse matrix transformation \n",
        "B_mtx = nx.to_numpy_matrix(G)\n",
        "print(B_mtx)"
      ],
      "metadata": {
        "colab": {
          "base_uri": "https://localhost:8080/"
        },
        "id": "i1T_uX8l_pZU",
        "outputId": "4bc463c6-5c57-4b0a-c290-7535ba569cd6"
      },
      "execution_count": null,
      "outputs": [
        {
          "output_type": "stream",
          "name": "stdout",
          "text": [
            "[[ 0.  1.  0.  0.  0.]\n",
            " [ 0.  0.  1.  0.  0.]\n",
            " [ 0.  0.  0.  1.  0.]\n",
            " [ 0.  0.  0.  0.  1.]\n",
            " [-1.  0.  0.  0.  0.]]\n"
          ]
        }
      ]
    },
    {
      "cell_type": "code",
      "source": [
        "#transforme it back to a list\n",
        "B_list = B_mtx.tolist()\n",
        "print(B_list)"
      ],
      "metadata": {
        "colab": {
          "base_uri": "https://localhost:8080/"
        },
        "id": "9Ew02rsK_qww",
        "outputId": "36b7a219-1be7-4114-fe5e-d83e89a22857"
      },
      "execution_count": null,
      "outputs": [
        {
          "output_type": "stream",
          "name": "stdout",
          "text": [
            "[[0.0, 1.0, 0.0, 0.0, 0.0], [0.0, 0.0, 1.0, 0.0, 0.0], [0.0, 0.0, 0.0, 1.0, 0.0], [0.0, 0.0, 0.0, 0.0, 1.0], [-1.0, 0.0, 0.0, 0.0, 0.0]]\n"
          ]
        }
      ]
    },
    {
      "cell_type": "markdown",
      "source": [
        "Adjacency matrix, the pandas way"
      ],
      "metadata": {
        "id": "L638uehx_rFb"
      }
    },
    {
      "cell_type": "code",
      "source": [
        "#pandas\n",
        "\n",
        "labels = \"Born\", \"Married\", \"Elected Rep\", \"Elected Pres\", \"Died\"\n",
        "\n",
        "nx.relabel_nodes(G, dict(enumerate(labels)), copy = False)\n",
        "\n",
        "df_adj = nx.to_pandas_adjacency(G)\n",
        "\n",
        "print(df_adj)\n",
        "print(type(df_adj))"
      ],
      "metadata": {
        "colab": {
          "base_uri": "https://localhost:8080/"
        },
        "id": "ofHjds5d_t4t",
        "outputId": "c9c9f1ba-b3be-4f76-dba9-7797a7fb85e1"
      },
      "execution_count": null,
      "outputs": [
        {
          "output_type": "stream",
          "name": "stdout",
          "text": [
            "              Born  Married  Elected Rep  Elected Pres  Died\n",
            "Born           0.0      1.0          0.0           0.0   0.0\n",
            "Married        0.0      0.0          1.0           0.0   0.0\n",
            "Elected Rep    0.0      0.0          0.0           1.0   0.0\n",
            "Elected Pres   0.0      0.0          0.0           0.0   1.0\n",
            "Died          -1.0      0.0          0.0           0.0   0.0\n",
            "<class 'pandas.core.frame.DataFrame'>\n"
          ]
        }
      ]
    },
    {
      "cell_type": "code",
      "source": [
        "edges = nx.to_pandas_edgelist(G)\n",
        "print(edges)"
      ],
      "metadata": {
        "colab": {
          "base_uri": "https://localhost:8080/"
        },
        "id": "ZBoMRqiD_v3E",
        "outputId": "1c5ef411-1f09-4b19-ff4c-fac0dc08915a"
      },
      "execution_count": null,
      "outputs": [
        {
          "output_type": "stream",
          "name": "stdout",
          "text": [
            "         source        target  weight\n",
            "0          Born       Married       1\n",
            "1       Married   Elected Rep       1\n",
            "2   Elected Rep  Elected Pres       1\n",
            "3  Elected Pres          Died       1\n",
            "4          Died          Born      -1\n"
          ]
        }
      ]
    },
    {
      "cell_type": "code",
      "source": [
        "df = pd.DataFrame({\n",
        "    \"from\": {0: \"Died\", 1: \"Elected Rep\", 2:\"Married\", 3: \"Born\", 4: \"Elected Pres\"},\n",
        "    \"to\": {0: \"Born\", 1: \"Elected Pres\", 2: \"Elected Rep\", 3: \"Married\", 4: \"Died\"},\n",
        "    \"weight\": {0: 0.1, 1: 1.0, 2: 1.0, 3: 1.0, 4: 1.0}\n",
        "})\n",
        "print(df)"
      ],
      "metadata": {
        "colab": {
          "base_uri": "https://localhost:8080/"
        },
        "id": "nn3IgKeM_yNI",
        "outputId": "4f16b0c7-cae0-4ca5-9911-4859f1bd2f60"
      },
      "execution_count": null,
      "outputs": [
        {
          "output_type": "stream",
          "name": "stdout",
          "text": [
            "           from            to  weight\n",
            "0          Died          Born     0.1\n",
            "1   Elected Rep  Elected Pres     1.0\n",
            "2       Married   Elected Rep     1.0\n",
            "3          Born       Married     1.0\n",
            "4  Elected Pres          Died     1.0\n"
          ]
        }
      ]
    },
    {
      "cell_type": "code",
      "source": [
        "G=nx.from_pandas_edgelist(df, *df.columns)\n",
        "print(G.edges(data=True))"
      ],
      "metadata": {
        "colab": {
          "base_uri": "https://localhost:8080/"
        },
        "id": "54IjvCG0_y3A",
        "outputId": "d8132a25-a749-40e6-e520-603c784227c7"
      },
      "execution_count": null,
      "outputs": [
        {
          "output_type": "stream",
          "name": "stdout",
          "text": [
            "[('Died', 'Born', {'weight': 0.1}), ('Died', 'Elected Pres', {'weight': 1.0}), ('Born', 'Married', {'weight': 1.0}), ('Elected Rep', 'Elected Pres', {'weight': 1.0}), ('Elected Rep', 'Married', {'weight': 1.0})]\n"
          ]
        }
      ]
    },
    {
      "cell_type": "markdown",
      "source": [
        "Handling Node Attributes, The Pandas Way"
      ],
      "metadata": {
        "id": "Pm8XpKPL_2uY"
      }
    },
    {
      "cell_type": "code",
      "source": [
        "events = {\"Died\": 1865, \"Born\": 1809, \"Elected Rep\": 1847, \"Elected Pres\": 1861, \"Married\": 1842}\n",
        "nx.set_node_attributes(G,events, \"date\")\n",
        "node_data = G.nodes(data=True)\n",
        "print(node_data)"
      ],
      "metadata": {
        "colab": {
          "base_uri": "https://localhost:8080/"
        },
        "id": "7V9a4NgC_06G",
        "outputId": "39c4be5c-1679-4920-90bc-e56e3a8a43fe"
      },
      "execution_count": null,
      "outputs": [
        {
          "output_type": "stream",
          "name": "stdout",
          "text": [
            "[('Died', {'date': 1865}), ('Born', {'date': 1809}), ('Elected Rep', {'date': 1847}), ('Elected Pres', {'date': 1861}), ('Married', {'date': 1842})]\n"
          ]
        }
      ]
    },
    {
      "cell_type": "code",
      "source": [
        "lincoln_ser = pd.DataFrame(node_data).set_index(0)[1]\n",
        "print(lincoln_ser)"
      ],
      "metadata": {
        "colab": {
          "base_uri": "https://localhost:8080/"
        },
        "id": "O15tbAdq_4Ff",
        "outputId": "828724f7-999e-41c0-c4e4-ff8b0215c376"
      },
      "execution_count": null,
      "outputs": [
        {
          "output_type": "stream",
          "name": "stdout",
          "text": [
            "0\n",
            "Died            {'date': 1865}\n",
            "Born            {'date': 1809}\n",
            "Elected Rep     {'date': 1847}\n",
            "Elected Pres    {'date': 1861}\n",
            "Married         {'date': 1842}\n",
            "Name: 1, dtype: object\n"
          ]
        }
      ]
    },
    {
      "cell_type": "code",
      "source": [
        "df = lincoln_ser.apply(pd.Series)\n",
        "print(df)"
      ],
      "metadata": {
        "colab": {
          "base_uri": "https://localhost:8080/"
        },
        "id": "-t2zvlpg_4Cz",
        "outputId": "3c74d0e2-1d88-4024-9c28-847f488f3599"
      },
      "execution_count": null,
      "outputs": [
        {
          "output_type": "stream",
          "name": "stdout",
          "text": [
            "              date\n",
            "0                 \n",
            "Died          1865\n",
            "Born          1809\n",
            "Elected Rep   1847\n",
            "Elected Pres  1861\n",
            "Married       1842\n"
          ]
        }
      ]
    },
    {
      "cell_type": "code",
      "source": [
        "#calculate duration in years\n",
        "spans = df.sort_values('date').diff()\n",
        "print(spans)"
      ],
      "metadata": {
        "colab": {
          "base_uri": "https://localhost:8080/"
        },
        "id": "Zp4RRd6g_8Ke",
        "outputId": "4a207019-91f2-435f-a416-8485b5cf27ec"
      },
      "execution_count": null,
      "outputs": [
        {
          "output_type": "stream",
          "name": "stdout",
          "text": [
            "              date\n",
            "0                 \n",
            "Born           NaN\n",
            "Married       33.0\n",
            "Elected Rep    5.0\n",
            "Elected Pres  14.0\n",
            "Died           4.0\n"
          ]
        }
      ]
    },
    {
      "cell_type": "markdown",
      "source": [
        "Incidence Matrix"
      ],
      "metadata": {
        "id": "QiVeHt6X__0R"
      }
    },
    {
      "cell_type": "code",
      "source": [
        "J = nx.incidence_matrix(G, oriented=True).todense()\n",
        "print(J)"
      ],
      "metadata": {
        "colab": {
          "base_uri": "https://localhost:8080/"
        },
        "id": "ibkXndmd_9oB",
        "outputId": "3231ca3a-856b-4e5d-e438-78eb97141f7e"
      },
      "execution_count": null,
      "outputs": [
        {
          "output_type": "stream",
          "name": "stdout",
          "text": [
            "[[-1. -1.  0.  0.  0.]\n",
            " [ 1.  0. -1.  0.  0.]\n",
            " [ 0.  0.  0. -1. -1.]\n",
            " [ 0.  1.  0.  1.  0.]\n",
            " [ 0.  0.  1.  0.  1.]]\n"
          ]
        }
      ]
    },
    {
      "cell_type": "markdown",
      "source": [
        "Work with Edge lists and node dictionaries"
      ],
      "metadata": {
        "id": "nxCijrUgADXy"
      }
    },
    {
      "cell_type": "code",
      "source": [
        "ed = nx.to_edgelist(G)\n",
        "print(ed)"
      ],
      "metadata": {
        "colab": {
          "base_uri": "https://localhost:8080/"
        },
        "id": "eezSP5eRAD69",
        "outputId": "9723c8e9-697d-4228-fa20-dfe076041a19"
      },
      "execution_count": null,
      "outputs": [
        {
          "output_type": "stream",
          "name": "stdout",
          "text": [
            "[('Died', 'Born', {'weight': 0.1}), ('Died', 'Elected Pres', {'weight': 1.0}), ('Born', 'Married', {'weight': 1.0}), ('Elected Rep', 'Elected Pres', {'weight': 1.0}), ('Elected Rep', 'Married', {'weight': 1.0})]\n"
          ]
        }
      ]
    },
    {
      "cell_type": "code",
      "source": [
        "K = nx.from_edgelist(ed)\n",
        "print(K.edges(data=True))"
      ],
      "metadata": {
        "colab": {
          "base_uri": "https://localhost:8080/"
        },
        "id": "CsbzrCYSAFcC",
        "outputId": "7cb0ed21-1f7b-487a-cacd-75881f142543"
      },
      "execution_count": null,
      "outputs": [
        {
          "output_type": "stream",
          "name": "stdout",
          "text": [
            "[('Died', 'Born', {'weight': 0.1}), ('Died', 'Elected Pres', {'weight': 1.0}), ('Born', 'Married', {'weight': 1.0}), ('Elected Pres', 'Elected Rep', {'weight': 1.0}), ('Married', 'Elected Rep', {'weight': 1.0})]\n"
          ]
        }
      ]
    },
    {
      "cell_type": "markdown",
      "source": [
        "Dictionary of lists"
      ],
      "metadata": {
        "id": "THR5iaZlAOCw"
      }
    },
    {
      "cell_type": "code",
      "source": [
        "dict_list = nx.to_dict_of_lists(G)\n",
        "print(dict_list)"
      ],
      "metadata": {
        "colab": {
          "base_uri": "https://localhost:8080/"
        },
        "id": "NzgF6uQPAHIZ",
        "outputId": "9fb6b4ec-92ff-4b03-c46f-00a7ade17088"
      },
      "execution_count": null,
      "outputs": [
        {
          "output_type": "stream",
          "name": "stdout",
          "text": [
            "{'Died': ['Born', 'Elected Pres'], 'Born': ['Died', 'Married'], 'Elected Rep': ['Elected Pres', 'Married'], 'Elected Pres': ['Elected Rep', 'Died'], 'Married': ['Elected Rep', 'Born']}\n"
          ]
        }
      ]
    },
    {
      "cell_type": "code",
      "source": [
        "F = nx.from_dict_of_lists(dict_list, create_using=G)\n",
        "nx.is_isomorphic(F,G)"
      ],
      "metadata": {
        "colab": {
          "base_uri": "https://localhost:8080/"
        },
        "id": "Kdmt9SzZAQus",
        "outputId": "c90cb328-5245-44d9-df0d-cc9512b4befd"
      },
      "execution_count": null,
      "outputs": [
        {
          "output_type": "execute_result",
          "data": {
            "text/plain": [
              "True"
            ]
          },
          "metadata": {},
          "execution_count": 69
        }
      ]
    },
    {
      "cell_type": "code",
      "source": [
        "print(G.edges)"
      ],
      "metadata": {
        "colab": {
          "base_uri": "https://localhost:8080/"
        },
        "id": "oS4VhyeRASd5",
        "outputId": "1fc5317a-8003-440d-ad27-2a6d9b5d9307"
      },
      "execution_count": null,
      "outputs": [
        {
          "output_type": "stream",
          "name": "stdout",
          "text": [
            "[('Died', 'Born'), ('Died', 'Elected Pres'), ('Born', 'Married'), ('Elected Rep', 'Elected Pres'), ('Elected Rep', 'Married')]\n"
          ]
        }
      ]
    },
    {
      "cell_type": "markdown",
      "source": [
        "Generate Synthetic Networks"
      ],
      "metadata": {
        "id": "lULfZdJTATv3"
      }
    },
    {
      "cell_type": "code",
      "source": [
        "#generate and draw classic  networks \n",
        "G0 = nx.path_graph(20)\n",
        "G1 = nx.cycle_graph(20)\n",
        "G4 = nx.star_graph(20)\n",
        "G5 = nx.complete_graph(20)\n",
        "G2 = nx.balanced_tree(2, 5)\n",
        "G3 = nx.grid_2d_graph(5, 4)\n",
        "\n",
        "names = (\"Linear (Path)\", \"Ring(Cycle)\", \"Balanced Tree\", \"Mesh (Grid)\", \"Start\", \"Complete\")"
      ],
      "metadata": {
        "id": "61xHUxe8AVov"
      },
      "execution_count": null,
      "outputs": []
    },
    {
      "cell_type": "code",
      "source": [
        "#generate and draw random networks\n",
        "G0 = nx.erdos_renyi_graph(50, 0.05)\n",
        "G1 = nx.connected_watts_strogatz_graph(50, 4, 0.5 )\n",
        "G2 = nx.barabasi_albert_graph(50, 4  )\n",
        "G3 = nx.powerlaw_cluster_graph(50, 4, 0.5 )\n",
        "names = (\"Erdos-Renye (p=0.05\", \"Watts-Strogatz (k=4, p=0.5)\", \"Barabasi-Albert(k=4)\", \"Holme-Kim (k=4, p=0.5)\")"
      ],
      "metadata": {
        "id": "RAL6XJX-AbSF"
      },
      "execution_count": null,
      "outputs": []
    },
    {
      "cell_type": "code",
      "source": [
        "#generate and draw famous social networks\n",
        "G0 = nx.karate_club_graph()\n",
        "G1 = nx.davis_southern_women_graph()\n",
        "G2 = nx.florentine_families_graph()\n",
        "names = (\"Zachary's Karate club\", \"Davis Southern Women\",\"Florentine Families\")"
      ],
      "metadata": {
        "id": "Fv77dNhTAeFt"
      },
      "execution_count": null,
      "outputs": []
    },
    {
      "cell_type": "code",
      "source": [
        "import slice_network as snl"
      ],
      "metadata": {
        "id": "StMne-q0AfmM"
      },
      "execution_count": null,
      "outputs": []
    },
    {
      "cell_type": "code",
      "source": [
        "def slice_network(G,T, copy = True):\n",
        "  F = G.copy if copy else G\n",
        "  F.remove_edges_from((n1,n2) for n1, n2, w in F.edges(data=\"weight\")\n",
        "                      if w < T)\n",
        "  return F"
      ],
      "metadata": {
        "id": "3GNK0L3OClI3"
      },
      "execution_count": null,
      "outputs": []
    },
    {
      "cell_type": "code",
      "source": [
        "OP = slice_network(G,0.9)\n",
        "print(OP.edges())"
      ],
      "metadata": {
        "colab": {
          "base_uri": "https://localhost:8080/",
          "height": 304
        },
        "id": "23Otpv5GFWN_",
        "outputId": "ae42ce76-6916-4739-8b25-094861bf6b0d"
      },
      "execution_count": null,
      "outputs": [
        {
          "output_type": "error",
          "ename": "AttributeError",
          "evalue": "ignored",
          "traceback": [
            "\u001b[0;31m---------------------------------------------------------------------------\u001b[0m",
            "\u001b[0;31mAttributeError\u001b[0m                            Traceback (most recent call last)",
            "\u001b[0;32m<ipython-input-104-3c4e7be52ccc>\u001b[0m in \u001b[0;36m<module>\u001b[0;34m\u001b[0m\n\u001b[0;32m----> 1\u001b[0;31m \u001b[0mOP\u001b[0m \u001b[0;34m=\u001b[0m \u001b[0mslice_network\u001b[0m\u001b[0;34m(\u001b[0m\u001b[0mG\u001b[0m\u001b[0;34m,\u001b[0m\u001b[0;36m0.9\u001b[0m\u001b[0;34m)\u001b[0m\u001b[0;34m\u001b[0m\u001b[0;34m\u001b[0m\u001b[0m\n\u001b[0m\u001b[1;32m      2\u001b[0m \u001b[0mprint\u001b[0m\u001b[0;34m(\u001b[0m\u001b[0mOP\u001b[0m\u001b[0;34m.\u001b[0m\u001b[0medges\u001b[0m\u001b[0;34m(\u001b[0m\u001b[0;34m)\u001b[0m\u001b[0;34m)\u001b[0m\u001b[0;34m\u001b[0m\u001b[0;34m\u001b[0m\u001b[0m\n",
            "\u001b[0;32m<ipython-input-103-51c7687d2e4e>\u001b[0m in \u001b[0;36mslice_network\u001b[0;34m(G, T, copy)\u001b[0m\n\u001b[1;32m      1\u001b[0m \u001b[0;32mdef\u001b[0m \u001b[0mslice_network\u001b[0m\u001b[0;34m(\u001b[0m\u001b[0mG\u001b[0m\u001b[0;34m,\u001b[0m\u001b[0mT\u001b[0m\u001b[0;34m,\u001b[0m \u001b[0mcopy\u001b[0m \u001b[0;34m=\u001b[0m \u001b[0;32mTrue\u001b[0m\u001b[0;34m)\u001b[0m\u001b[0;34m:\u001b[0m\u001b[0;34m\u001b[0m\u001b[0;34m\u001b[0m\u001b[0m\n\u001b[1;32m      2\u001b[0m   \u001b[0mF\u001b[0m \u001b[0;34m=\u001b[0m \u001b[0mG\u001b[0m\u001b[0;34m.\u001b[0m\u001b[0mcopy\u001b[0m \u001b[0;32mif\u001b[0m \u001b[0mcopy\u001b[0m \u001b[0;32melse\u001b[0m \u001b[0mG\u001b[0m\u001b[0;34m\u001b[0m\u001b[0;34m\u001b[0m\u001b[0m\n\u001b[0;32m----> 3\u001b[0;31m   F.remove_edges_from((n1,n2) for n1, n2, w in F.edges(data=\"weight\")\n\u001b[0m\u001b[1;32m      4\u001b[0m                       if w < T)\n\u001b[1;32m      5\u001b[0m   \u001b[0;32mreturn\u001b[0m \u001b[0mF\u001b[0m\u001b[0;34m\u001b[0m\u001b[0;34m\u001b[0m\u001b[0m\n",
            "\u001b[0;31mAttributeError\u001b[0m: 'function' object has no attribute 'remove_edges_from'"
          ]
        }
      ]
    },
    {
      "cell_type": "code",
      "source": [
        "OP = snl(G,0.9)\n",
        "print(OP.edges())"
      ],
      "metadata": {
        "colab": {
          "base_uri": "https://localhost:8080/",
          "height": 182
        },
        "id": "aBHiNhN5Ag6S",
        "outputId": "d086f086-72b1-4ad2-f54f-7a7a472e26d0"
      },
      "execution_count": null,
      "outputs": [
        {
          "output_type": "error",
          "ename": "TypeError",
          "evalue": "ignored",
          "traceback": [
            "\u001b[0;31m---------------------------------------------------------------------------\u001b[0m",
            "\u001b[0;31mTypeError\u001b[0m                                 Traceback (most recent call last)",
            "\u001b[0;32m<ipython-input-102-77ef654f736f>\u001b[0m in \u001b[0;36m<module>\u001b[0;34m\u001b[0m\n\u001b[0;32m----> 1\u001b[0;31m \u001b[0mOP\u001b[0m \u001b[0;34m=\u001b[0m \u001b[0msnl\u001b[0m\u001b[0;34m(\u001b[0m\u001b[0mG\u001b[0m\u001b[0;34m,\u001b[0m\u001b[0;36m0.9\u001b[0m\u001b[0;34m)\u001b[0m\u001b[0;34m\u001b[0m\u001b[0;34m\u001b[0m\u001b[0m\n\u001b[0m\u001b[1;32m      2\u001b[0m \u001b[0mprint\u001b[0m\u001b[0;34m(\u001b[0m\u001b[0mOP\u001b[0m\u001b[0;34m.\u001b[0m\u001b[0medges\u001b[0m\u001b[0;34m(\u001b[0m\u001b[0;34m)\u001b[0m\u001b[0;34m)\u001b[0m\u001b[0;34m\u001b[0m\u001b[0;34m\u001b[0m\u001b[0m\n",
            "\u001b[0;31mTypeError\u001b[0m: 'module' object is not callable"
          ]
        }
      ]
    },
    {
      "cell_type": "markdown",
      "source": [
        "##Chapter 8"
      ],
      "metadata": {
        "id": "onYeTR_vsl_9"
      }
    },
    {
      "cell_type": "code",
      "source": [
        "SEED = \"Complex network\".title()\n",
        "\n",
        "STOPS = (\"International Standard Serial Number\",\n",
        "         \"International Standard Book Number\",\n",
        "         \"National Diet Library\",\n",
        "         \"International Standard Name Identifier\",\n",
        "         \"International Standard Book Number (Identifier)\",\n",
        "         \"Pubmed Identifier\", \"Pubmed Central\",\n",
        "         \"Digital Object Identifier\", \"Arxiv\",\n",
        "         \"Proc Natl Acad Sci Usa\", \"Bibcode\",\n",
        "         \"Library Of Congress Control Number\", \"Jstor\")\n",
        "\n",
        "todo_lst = [(0, SEED)] # The SEED is in the layer 0\n",
        "todo_set = set(SEED)   # The SEED itself\n",
        "done_set = set()       # Nothing is done yet\n",
        "\n",
        "F = nx.DiGraph()\n",
        "layer, page = todo_lst[0]\n",
        "\n",
        "while layer < 2:\n",
        "    del todo_lst[0] #(1)\n",
        "    done_set.add(page)\n",
        "    print(layer, page) # Show progress\n",
        "\n",
        "    try: #(2)\n",
        "        wiki = wikipedia.page(page)\n",
        "    except:\n",
        "        layer, page = todo_lst[0]\n",
        "        print(\"Could not load\", page)\n",
        "        continue\n",
        "\n",
        "    for link in wiki.links: #(3)\n",
        "        link = link.title()\n",
        "        if link not in STOPS and not link.startswith(\"List Of\"):\n",
        "            if link not in todo_set and link not in done_set:\n",
        "                todo_lst.append((layer + 1, link))\n",
        "                todo_set.add(link)\n",
        "            F.add_edge(page, link)\n",
        "\n",
        "    layer, page = todo_lst[0] #(4)\n",
        "print(\"{} nodes, {} edges\".format(len(F), nx.number_of_edges(F)))\n",
        "# 11597 nodes, 21331 edges\n",
        "\n",
        "F.remove_edges_from(nx.selfloop_edges(F))\n",
        "duplicates = [(node, node + \"s\") for node in F if node + \"s\" in F]\n",
        "for dup in duplicates:\n",
        "    F = nx.contracted_nodes(F, *dup, self_loops=False)\n",
        "duplicates = [(x, y) for x, y \n",
        "              in [(node, node.replace(\"-\", \" \")) for node in F]\n",
        "              if x != y and y in F]\n",
        "for dup in duplicates:\n",
        "    F = nx.contracted_nodes(F, *dup, self_loops=False)\n",
        "nx.set_node_attributes(F, \"contraction\", 0)"
      ],
      "metadata": {
        "colab": {
          "base_uri": "https://localhost:8080/"
        },
        "id": "hd7FWkvqHaxU",
        "outputId": "e33aeeca-5953-4c15-af9c-0a668c8277a2"
      },
      "execution_count": null,
      "outputs": [
        {
          "output_type": "stream",
          "name": "stdout",
          "text": [
            "0 Complex Network\n",
            "1 Adjacency List\n",
            "1 Adjacency Matrix\n",
            "1 Agent-Based Model\n",
            "1 Albert-László Barabási\n",
            "1 Arxiv (Identifier)\n",
            "1 Artificial Neural Network\n",
            "1 Assortativity\n",
            "1 Autonomous System (Internet)\n",
            "1 Balance Theory\n",
            "1 Barabási–Albert Model\n",
            "1 Bianconi–Barabási Model\n",
            "1 Bibcode (Identifier)\n",
            "1 Biological Network\n",
            "1 Biology\n",
            "1 Bipartite Graph\n",
            "1 Blockmodeling\n",
            "Could not load Boolean Network\n",
            "1 Boolean Network\n",
            "1 Branching Process\n",
            "1 Centrality\n",
            "1 Climate\n",
            "1 Climate Networks\n",
            "1 Clique (Graph Theory)\n",
            "1 Clustering Coefficient\n",
            "1 Combinatorial Optimization\n",
            "1 Community Structure\n",
            "1 Complete Graph\n",
            "1 Complex Networks\n",
            "1 Complex Adaptive System\n",
            "1 Complex Contagion\n",
            "1 Complex Systems\n",
            "1 Computer Network\n",
            "1 Computer Science\n",
            "1 Connected Component (Graph Theory)\n",
            "1 Connectome\n",
            "Could not load Cut (Graph Theory)\n",
            "1 Cut (Graph Theory)\n",
            "1 Cycle (Graph Theory)\n",
            "1 Degree (Graph Theory)\n",
            "1 Degree Distribution\n",
            "1 Dependency Network\n",
            "1 Directed Graph\n",
            "1 Distance (Graph Theory)\n",
            "1 Doi (Identifier)\n",
            "1 Dual-Phase Evolution\n",
            "1 Duncan J. Watts\n",
            "1 Dynamic Network Analysis\n",
            "1 Edge (Graph Theory)\n",
            "1 Efficiency (Network Science)\n",
            "1 Entropy (Information Theory)\n",
            "1 Epidemic Model\n",
            "1 Epidemiology\n",
            "1 Erdős–Rényi Model\n",
            "1 Evolving Networks\n",
            "1 Exponential Random Graph Models\n",
            "1 Fitness Model (Network Theory)\n",
            "1 Flow Network\n",
            "1 Frigyes Karinthy\n",
            "1 Graph (Abstract Data Type)\n",
            "1 Graph (Discrete Mathematics)\n",
            "1 Graph Drawing\n",
            "1 Herbert A. Simon\n",
            "1 Hierarchical Network Model\n",
            "1 Hierarchy\n",
            "1 Homophily\n",
            "1 Hyperbolic Geometric Graph\n",
            "1 Hypercube\n",
            "Could not load Hypergraph\n",
            "1 Hypergraph\n",
            "1 Isbn (Identifier)\n",
            "1 Issn (Identifier)\n",
            "1 Incidence List\n",
            "1 Incidence Matrix\n",
            "Could not load Interdependent Networks\n",
            "1 Interdependent Networks\n",
            "1 Lancichinetti–Fortunato–Radicchi Benchmark\n",
            "1 Lattice Graph\n",
            "1 Link Analysis\n",
            "1 Loop (Graph Theory)\n",
            "1 Mathematics\n",
            "1 Matthew Effect (Sociology)\n",
            "1 Maximum-Entropy Random Graph Model\n",
            "1 Metrics (Networking)\n",
            "1 Modularity (Networks)\n",
            "1 Multigraph\n",
            "Could not load Neighbourhood (Graph Theory)\n",
            "1 Neighbourhood (Graph Theory)\n",
            "1 Network Controllability\n",
            "1 Network Effect\n",
            "1 Network Motif\n",
            "1 Network On A Chip\n",
            "1 Network Science\n",
            "1 Network Theory\n",
            "1 Pmc (Identifier)\n",
            "Could not load Pmid (Identifier)\n",
            "1 Pmid (Identifier)\n",
            "1 Path (Graph Theory)\n",
            "1 Percolation\n",
            "1 Percolation Theory\n",
            "1 Physics\n",
            "Could not load Poisson Distribution\n",
            "1 Poisson Distribution\n",
            "Could not load Power-Law\n",
            "1 Power-Law\n",
            "1 Power Law\n",
            "1 Preferential Attachment\n",
            "1 Random Geometric Graph\n",
            "1 Random Graph\n",
            "1 Random Graph Theory Of Gelation\n",
            "1 Random Regular Graphs\n",
            "1 Reciprocity (Network Science)\n",
            "1 Reciprocity In Network\n",
            "1 Regular Lattices\n",
            "Could not load S2Cid (Identifier)\n",
            "1 S2Cid (Identifier)\n",
            "1 Sir Model\n",
            "1 Scale-Free Network\n",
            "1 Scale-Free Networks\n",
            "1 Scientific Collaboration Network\n",
            "1 Semantic Network\n",
            "1 Six Degrees Of Separation\n",
            "1 Small-World Network\n",
            "1 Small-World Networks\n",
            "1 Small-World Phenomenon\n",
            "1 Small World Networks\n",
            "1 Social Capital\n",
            "1 Social Influence\n",
            "1 Social Network\n",
            "1 Social Network Analysis Software\n",
            "1 Sociology\n",
            "1 Soft Configuration Model\n",
            "1 Spatial Network\n",
            "1 Stanley Milgram\n",
            "1 Steven Strogatz\n",
            "1 Stochastic Block Model\n",
            "1 Telecommunications Network\n",
            "1 Topological\n",
            "1 Transitive Relation\n",
            "1 Transport Network\n",
            "1 Triadic Closure\n",
            "1 Trophic Coherence\n",
            "1 Vertex (Graph Theory)\n",
            "1 Watts–Strogatz Model\n",
            "1 Weighted Network\n",
            "1 World Wide Web\n",
            "1 Yule-Simon Distribution\n",
            "14002 nodes, 27716 edges\n"
          ]
        }
      ]
    },
    {
      "cell_type": "code",
      "source": [
        "core = [node for node, deg in dict(F.degree()).items() if deg >= 2]\n",
        "G = nx.subgraph(F, core)\n",
        "print(\"{} nodes, {} edges\".format(len(G), nx.number_of_edges(G)))"
      ],
      "metadata": {
        "colab": {
          "base_uri": "https://localhost:8080/"
        },
        "id": "DW8m-AtZHgHh",
        "outputId": "ef23ed4d-2d29-4a62-c705-29cf6d94ce9a"
      },
      "execution_count": null,
      "outputs": [
        {
          "output_type": "stream",
          "name": "stdout",
          "text": [
            "3775 nodes, 16333 edges\n"
          ]
        }
      ]
    },
    {
      "cell_type": "code",
      "source": [
        "len(G)\n",
        "len(G.nodes)\n",
        "len(G.nodes())\n",
        "nx.number_of_nodes(G)\n",
        "len(G.edges())"
      ],
      "metadata": {
        "colab": {
          "base_uri": "https://localhost:8080/"
        },
        "id": "e9E7TlEE_VlI",
        "outputId": "aeb98e9f-6e92-4585-db47-109303e42ee8"
      },
      "execution_count": null,
      "outputs": [
        {
          "output_type": "execute_result",
          "data": {
            "text/plain": [
              "16333"
            ]
          },
          "metadata": {},
          "execution_count": 121
        }
      ]
    },
    {
      "cell_type": "code",
      "source": [
        "len(G.edges())\n",
        "nx.number_of_edges(G)"
      ],
      "metadata": {
        "id": "I4Iiu6Aismum",
        "colab": {
          "base_uri": "https://localhost:8080/"
        },
        "outputId": "2dc27f87-d4d5-47dd-ce6e-6f36dd214cb2"
      },
      "execution_count": null,
      "outputs": [
        {
          "output_type": "execute_result",
          "data": {
            "text/plain": [
              "16333"
            ]
          },
          "metadata": {},
          "execution_count": 122
        }
      ]
    },
    {
      "cell_type": "code",
      "source": [
        "nx.density(G)"
      ],
      "metadata": {
        "colab": {
          "base_uri": "https://localhost:8080/"
        },
        "id": "IgQXgax-GE8G",
        "outputId": "8826c0aa-d8c9-422f-a450-18fb061c9068"
      },
      "execution_count": null,
      "outputs": [
        {
          "output_type": "execute_result",
          "data": {
            "text/plain": [
              "0.0011464288597128488"
            ]
          },
          "metadata": {},
          "execution_count": 123
        }
      ]
    },
    {
      "cell_type": "markdown",
      "source": [
        "Explore neighbors"
      ],
      "metadata": {
        "id": "9vPeRLcqGI6k"
      }
    },
    {
      "cell_type": "code",
      "source": [
        "from networkx import ego_graph"
      ],
      "metadata": {
        "id": "25kY8nGEGH4_"
      },
      "execution_count": null,
      "outputs": []
    },
    {
      "cell_type": "code",
      "source": [
        "ego = \"Neighbourhood (Graph Theory)\"\n",
        "\n",
        "alters1 = ego_graph(G,ego)\n",
        "print(alters1)\n",
        "print(len(alters1))"
      ],
      "metadata": {
        "colab": {
          "base_uri": "https://localhost:8080/"
        },
        "id": "r5WKS9IzGLHZ",
        "outputId": "4c9549bd-1211-4bbe-d98b-f238bd5a25e7"
      },
      "execution_count": null,
      "outputs": [
        {
          "output_type": "stream",
          "name": "stdout",
          "text": [
            "DiGraph with 37 nodes and 128 edges\n",
            "37\n"
          ]
        }
      ]
    },
    {
      "cell_type": "code",
      "source": [
        "alters2=list(nx.all_neighbors(G, ego))\n",
        "print(alters2)\n",
        "print(len(alters2))"
      ],
      "metadata": {
        "colab": {
          "base_uri": "https://localhost:8080/"
        },
        "id": "FelWAlytGMmb",
        "outputId": "e0fb9e8d-125b-4b03-c4f7-b854af0b8080"
      },
      "execution_count": null,
      "outputs": [
        {
          "output_type": "stream",
          "name": "stdout",
          "text": [
            "['Complex Network', 'Adjacency Matrix', 'Artificial Neural Network', 'Assortativity', 'Barabási–Albert Model', 'Bianconi–Barabási Model', 'Biological Network', 'Boolean Network', 'Centrality', 'Clustering Coefficient', 'Combinatorial Optimization', 'Community Structure', 'Computer Network', 'Degree Distribution', 'Efficiency (Network Science)', 'Erdős–Rényi Model', 'Evolving Networks', 'Hierarchical Network Model', 'Homophily', 'Hyperbolic Geometric Graph', 'Hypergraph', 'Interdependent Networks', 'Lancichinetti–Fortunato–Radicchi Benchmark', 'Maximum-Entropy Random Graph Model', 'Modularity (Networks)', 'Network Motif', 'Network On A Chip', 'Network Science', 'Network Theory', 'Percolation Theory', 'Preferential Attachment', 'Random Geometric Graph', 'Random Graph', 'Reciprocity (Network Science)', 'Reciprocity In Network', 'Scale-Free Network', 'Scientific Collaboration Network', 'Semantic Network', 'Small-World Network', 'Social Network', 'Soft Configuration Model', 'Spatial Network', 'Stochastic Block Model', 'Telecommunications Network', 'Transport Network', 'Triadic Closure', 'Watts–Strogatz Model', 'Exponential Random Graph Model', 'Adjacency List', 'Adjacency Matrix', 'Chordal Graph', 'Chromatic Number', 'Clustering Coefficient', 'Complement Graph', 'Complete Graph', 'Cycle Graph', 'Degree (Graph Theory)', 'Dense Graph', 'Discrete Mathematics (Journal)', 'Doi (Identifier)', 'Edge (Graph Theory)', 'Graph (Discrete Mathematics)', 'Graph Isomorphism', 'Graph Theory', 'Hdl (Identifier)', 'Isbn (Identifier)', 'Independence Number', 'Independent Set (Graph Theory)', 'Induced Subgraph', 'Isolated Vertex', 'Journal Of Combinatorial Theory', 'Journal Of The Acm', 'Linear Time', 'Loop (Graph Theory)', 'Mr (Identifier)', 'Moore Neighborhood', 'Perfect Graph', 'Planar Graph', 'S2Cid (Identifier)', 'Triangle-Free Graph', 'Turán Graph', 'Vertex (Graph Theory)', 'Vertex Figure', 'Von Neumann Neighborhood']\n",
            "84\n"
          ]
        }
      ]
    },
    {
      "cell_type": "code",
      "source": [
        "#egocentric network\n",
        "egonet = nx.ego_graph(G,ego)"
      ],
      "metadata": {
        "id": "2OOnsRAYGOEN"
      },
      "execution_count": null,
      "outputs": []
    },
    {
      "cell_type": "markdown",
      "source": [
        "Clustering coeficient"
      ],
      "metadata": {
        "id": "hQQjazmxGQsh"
      }
    },
    {
      "cell_type": "code",
      "source": [
        "cc = nx.clustering(nx.Graph(G), ego)\n",
        "print(cc)"
      ],
      "metadata": {
        "colab": {
          "base_uri": "https://localhost:8080/"
        },
        "id": "rqB1Dt0BGPYh",
        "outputId": "6b400302-f3de-4a79-9cd1-e156a6e4892c"
      },
      "execution_count": null,
      "outputs": [
        {
          "output_type": "stream",
          "name": "stdout",
          "text": [
            "0.5043661547726589\n"
          ]
        }
      ]
    },
    {
      "cell_type": "code",
      "source": [
        "acc = nx.average_clustering(nx.Graph(G))\n",
        "print(acc)"
      ],
      "metadata": {
        "colab": {
          "base_uri": "https://localhost:8080/"
        },
        "id": "378LuI8gGSmk",
        "outputId": "a8b8163c-2b88-4185-ee03-ee59416df0ba"
      },
      "execution_count": null,
      "outputs": [
        {
          "output_type": "stream",
          "name": "stdout",
          "text": [
            "0.7164026712687708\n"
          ]
        }
      ]
    },
    {
      "cell_type": "code",
      "source": [
        "trans = nx.transitivity(G)\n",
        "print(trans)"
      ],
      "metadata": {
        "colab": {
          "base_uri": "https://localhost:8080/"
        },
        "id": "uNtsFnmsGT2e",
        "outputId": "cc28ea48-f915-48da-f5cc-8cac2dbb34b0"
      },
      "execution_count": null,
      "outputs": [
        {
          "output_type": "stream",
          "name": "stdout",
          "text": [
            "0.05623434800208296\n"
          ]
        }
      ]
    },
    {
      "cell_type": "markdown",
      "source": [
        "Think in terms of path"
      ],
      "metadata": {
        "id": "wLU0-X2LGXHe"
      }
    },
    {
      "cell_type": "code",
      "source": [
        "path_gen = nx.shortest_simple_paths(G, ego, \"Agent-Based Model\")\n",
        "next(path_gen)"
      ],
      "metadata": {
        "colab": {
          "base_uri": "https://localhost:8080/"
        },
        "id": "dckp5u-sGVwX",
        "outputId": "81c81a05-9e05-403d-9987-cd4e7cad383f"
      },
      "execution_count": null,
      "outputs": [
        {
          "output_type": "execute_result",
          "data": {
            "text/plain": [
              "['Neighbourhood (Graph Theory)',\n",
              " 'Clustering Coefficient',\n",
              " 'Degree Distribution',\n",
              " 'Agent-Based Model']"
            ]
          },
          "metadata": {},
          "execution_count": 132
        }
      ]
    },
    {
      "cell_type": "code",
      "source": [
        "next(path_gen)"
      ],
      "metadata": {
        "colab": {
          "base_uri": "https://localhost:8080/"
        },
        "id": "Gk09SPTcGZfw",
        "outputId": "cbcd102f-806d-4f7b-f0b6-99cec83b46cf"
      },
      "execution_count": null,
      "outputs": [
        {
          "output_type": "execute_result",
          "data": {
            "text/plain": [
              "['Neighbourhood (Graph Theory)',\n",
              " 'Degree (Graph Theory)',\n",
              " 'Degree Distribution',\n",
              " 'Agent-Based Model']"
            ]
          },
          "metadata": {},
          "execution_count": 133
        }
      ]
    },
    {
      "cell_type": "code",
      "source": [
        "#returns shortest path between source and target\n",
        "path = nx.shortest_path(G, ego, \"Agent-Based Model\")\n",
        "path"
      ],
      "metadata": {
        "colab": {
          "base_uri": "https://localhost:8080/"
        },
        "id": "kqPyPnGoGafP",
        "outputId": "17173bf1-7a74-4460-bd40-b4b0d78f163f"
      },
      "execution_count": null,
      "outputs": [
        {
          "output_type": "execute_result",
          "data": {
            "text/plain": [
              "['Neighbourhood (Graph Theory)',\n",
              " 'Clustering Coefficient',\n",
              " 'Degree Distribution',\n",
              " 'Agent-Based Model']"
            ]
          },
          "metadata": {},
          "execution_count": 134
        }
      ]
    },
    {
      "cell_type": "code",
      "source": [
        "#how far or close to the center a node is\n",
        "ecc = nx.eccentricity(nx.Graph(G))\n",
        "print(ecc)"
      ],
      "metadata": {
        "colab": {
          "base_uri": "https://localhost:8080/"
        },
        "id": "oWO-ojfKGdgs",
        "outputId": "586c3a18-b859-4cc8-b2d7-475bb155d4a3"
      },
      "execution_count": null,
      "outputs": [
        {
          "output_type": "stream",
          "name": "stdout",
          "text": [
            "{'Emergent Properties': 4, 'Iso-Timeml': 3, 'Iso/Iec 17025': 3, \"Doob'S Martingale Inequality\": 4, 'David S. Johnson': 4, 'Tbh (App)': 4, 'Community Recognition': 4, 'Multimedia Database': 4, 'Mpeg-4 Part 2': 3, 'Bioterrorism': 4, 'Requirements Engineering': 3, 'Categorical Distribution': 4, 'Cognitive Psychology': 4, \"Kuratowski'S Theorem\": 4, 'Plane (Geometry)': 4, 'Badoo': 4, 'Invisible Hand': 4, 'Iso 10628': 3, 'Qaiku': 4, 'Universality (Dynamical Systems)': 4, 'Sir Model': 3, 'Iso 1629': 3, 'Iso 11783': 3, 'Opensocial': 4, 'Power-Law Distribution': 4, 'Metrics (Networking)': 3, 'Structural Endogamy': 4, 'Joint Probability Distribution': 4, 'Simulated Reality': 4, 'Stanley Schachter': 4, 'Cross-Sectional Study': 4, 'Complement Graph': 4, 'Degree (Graph Theory)': 3, 'Field (Physics)': 4, 'Protein-Protein Interaction': 4, 'Social Commerce': 4, 'Chill': 3, 'Ideology': 4, 'Jurisprudence': 4, 'Printed Circuit Board': 4, 'Differential Psychology': 4, 'Dénes Kőnig': 4, 'Visual Analytics': 4, 'The New York Times': 3, 'Glossary Of Graph Theory': 4, 'Marco Polo (App)': 4, 'Vasicek Model': 4, 'Friends Reunited': 4, 'Common Language Infrastructure': 3, 'Bose–Einstein Condensation: A Network Theory Approach': 4, 'Semantic Reasoner': 4, 'Wildfire Modeling': 4, 'Kevin Bacon': 4, 'Semantic Web Rule Language': 4, 'E-Commerce': 4, 'Measles': 4, 'Free Category': 4, 'Charles Wheatstone': 4, 'Control-Flow Graph': 4, 'Beta Function': 4, 'Anthony Wilden': 4, 'Passive Immunity': 4, 'Vaccine': 4, 'Monograph': 4, 'History Of Artificial Intelligence': 4, 'Oclc (Identifier)': 3, 'Decision Problem': 4, 'Social Proof': 4, 'Rendleman–Bartter Model': 4, 'Mathematics Genealogy Project': 4, 'Non-Linear': 4, 'Social Network Analysis': 4, 'Edward Thorndike': 4, 'Lifestyle (Sociology)': 4, 'Emergence': 4, 'Differentiable Function': 4, 'Small-World Experiment': 4, 'Science': 4, 'Belief': 4, 'Semantics': 4, 'Turtle (Syntax)': 4, 'Logistic Regression': 4, 'Energy System': 4, 'Computer Scientist': 4, 'Geometric Process': 4, 'Jean Piaget': 4, 'Network Theory In Risk Assessment': 4, 'Data Mining': 4, 'Outline Of Social Science': 4, 'Orcid (Identifier)': 4, 'Ice Core': 4, 'Rdf/Xml': 4, 'Digraph (Mathematics)': 4, 'Heston Model': 4, 'Climate Variability And Change': 4, 'Campus Network': 4, 'Sixdegrees.Com': 4, 'Pat Morin': 4, 'Bijection': 4, 'Radiotelephone': 4, 'Programming Team': 4, 'Iso/Iec 7812': 3, 'Fraud': 4, 'Basis (Linear Algebra)': 4, 'Erdős-Bacon Number': 4, 'Hilda Phoebe Hudson': 4, 'Sociology Of Death': 4, 'Social Anthropology': 4, \"Kolmogorov'S Zero–One Law\": 4, 'Biconnected Component': 4, 'Propaganda': 4, 'Glossary Of Artificial Intelligence': 4, 'Protein Structure Prediction': 4, 'Random Forest': 4, 'Media Studies': 4, 'Paleoclimatology': 4, 'Orcid': 4, 'Software Configuration Management': 4, 'Neoclassical Economics': 4, 'Bookland': 4, 'Quantum Mechanics': 4, 'Economic System': 4, 'Astrobiology': 4, 'Web Ontology Language': 4, 'Theorem': 4, 'Virtual Globe': 4, 'Linear Time': 4, 'Assignment Problem': 4, 'Machine Learning': 3, 'Tide': 4, 'American Philosophical Society': 4, 'Iso 10206': 3, 'Microdata (Html)': 4, 'History Of Technology': 4, 'Mpeg-4 Part 11': 3, 'Incidence (Graph)': 4, 'Computational Geometry': 4, \"Edholm'S Law\": 4, 'Very-Large-Scale Integration': 4, 'Graph-Tool': 4, 'Ruin Theory': 4, 'Doob–Meyer Decomposition Theorem': 4, 'Meteorology': 4, 'A Greek–English Lexicon': 4, 'Bebo': 4, 'Torx': 3, 'Immune System': 4, 'Spectral Graph Theory': 4, 'Geologic Time Scale': 4, 'Issue Tree': 4, 'Gaia Hypothesis': 4, 'Foodborne Illness': 4, 'Planetall': 4, 'Harold Hopkins (Physicist)': 4, 'Internal Structure Of Earth': 4, 'Tulip (Software)': 4, 'Memory': 4, 'Sociology Of Law': 4, 'Stereotype': 4, 'Wayback Machine': 3, 'Audio Signal': 4, 'Iso 8601': 3, 'Curlie': 4, 'System Identification': 4, 'Erlang Distribution': 4, 'Integrated Assessment Modelling': 4, 'Fiber Distributed Data Interface': 3, 'Paul Baran': 4, 'Law Of Mass Action': 4, 'Möbius Strip': 4, 'International Standard Link Identifier': 3, 'Martin Kröger (Physiker)': 4, 'Subgraph (Graph Theory)': 4, 'Ubiquitous Computing': 4, 'Mit': 4, 'Confounding': 4, 'Brownian Meander': 4, 'Beauty': 4, 'Teleprinter': 4, 'Iso 3864': 3, 'Inductive Reasoning': 4, 'Embryo': 4, 'Protein–Protein Interaction': 4, 'Vertex-Transitive Graph': 4, 'Mathematician': 4, 'Stationary Process': 4, 'Cumulative Distribution Function': 4, 'Encryption': 4, 'Colostrum': 4, 'Unordered Pair': 4, 'Cryptography': 4, 'Article-Level Metrics': 4, 'Whisper (App)': 4, 'Kunrei-Shiki Romanization': 3, 'Finance': 4, 'Parallel Computing': 4, 'Igtv': 4, 'Fungus': 4, 'User Interface': 4, 'Rubella': 4, 'Persuasion': 4, 'Literature Review': 4, 'Approximation': 4, 'Cloud': 4, 'Germany': 4, 'Video Coding Format': 4, 'Up To': 4, 'Abstract Wiener Space': 4, 'Iso 5428': 3, 'Posix': 3, 'Node (Graph Theory)': 4, 'Samuel Morse': 4, 'Philosophy And Economics': 4, 'Wide Area Network': 4, 'Social Television': 4, 'Sociology Of Sport': 4, 'Hypertext': 4, 'Amino Acid': 4, 'Common Logic': 3, 'Partial Differential Equation': 4, 'Standard Generalized Markup Language': 3, 'Gene Regulatory Network': 3, 'Aesthetic': 4, 'Depth-First Search': 4, 'Euler': 4, 'Iso 361': 3, 'Antimicrobial': 4, 'Vertically Transmitted Infection': 4, 'Insurance': 4, 'Mastodon (Software)': 4, 'Livejournal': 4, 'Random Sampling': 4, 'Fecal–Oral Route': 4, 'Enterprise Systems Engineering': 4, 'Animal Testing': 4, 'Superprocess': 4, 'Mathematics': 3, 'Iso 14031': 3, 'Mathematical Optimization': 4, 'Ronald L. Rivest': 4, 'Watts–Strogatz Model': 3, \"Lévy'S Zero–One Law\": 4, \"Itô'S Lemma\": 4, 'Ansi Escape Code': 3, 'Scientific Literature': 4, 'Philosophy Of Artificial Intelligence': 4, 'Càdlàg': 4, 'Likelihood': 4, 'Wretch (Website)': 4, 'Intranet': 4, 'Enzyme': 4, 'Stretched Exponential Function': 4, 'Iso/Iec 8859-16': 3, 'Exotoxin': 4, 'Geology': 4, 'Particle Swarm Optimization': 4, 'University Of Chicago': 4, 'Consumer Behaviour': 4, 'Gxl': 4, 'Iso 15189': 3, 'International Standard Musical Work Code': 3, 'Law': 4, 'Ocr-B': 3, 'Itô Integral': 4, 'Iso/Iec 8859-7': 3, 'Geisteswissenschaft': 4, 'Thesis': 4, 'Sociometry': 4, 'Regular Graph': 4, 'Iso 639': 3, 'Kappa Number': 3, 'Regression Analysis': 4, 'Olog': 4, 'Academic Journal Publishing Reform': 4, 'Autoregressive–Moving-Average Model': 4, 'Gibbs Entropy': 4, 'Pager': 4, 'Linear Programming': 4, 'Comparative Psychology': 4, 'Vehicle Routing Problem': 4, 'Biogeology': 4, 'Uucp': 4, 'Markov Property': 4, 'National Science Foundation': 4, 'Book': 3, 'Cross-Validation (Statistics)': 4, 'Antifungal': 4, 'Network Delay': 4, 'Hospitality Exchange Service': 4, 'Shortest Path Problem': 4, 'Fleming–Viot Process': 4, 'Personal Knowledge Networking': 4, 'Iso/Iec 8859-8': 3, 'Autonomy': 4, 'Tumblr': 4, 'University': 4, 'Antarctica': 4, 'Internet Assigned Numbers Authority': 4, 'Osi Model': 3, 'Interpersonal Ties': 4, 'Minimum Cut': 4, 'Web 2.0 Suicide Machine': 4, 'Principia Cybernetica': 4, 'Quantum Social Science': 4, 'Chemistry': 4, 'Cellular Network': 4, 'Glossary Of Ecology': 4, 'Category Theory': 4, 'Sociology Of Space': 4, 'Time Series Analysis': 4, 'Paradigm Shift': 4, 'Education': 4, 'Earth': 4, 'Telegraphy': 4, 'Geophysics': 4, 'Influencer Marketing': 4, 'Kevin Warwick': 4, 'Statistical Hypothesis Testing': 4, 'White Noise': 4, 'Community Development': 4, 'Statistical Model': 4, 'Molecular Communication': 4, 'Systems Thinking': 4, 'Empiricism': 4, 'Pragmatism': 4, 'Minimal Infective Dose': 4, 'Iso/Ieee 11073': 3, 'Harrison White': 4, 'Family Of Sets': 4, 'Discovery Of Disease-Causing Pathogens': 4, 'Wikidata': 3, 'Collective Action': 4, 'Philosophy Of Psychology': 4, 'Elementary Algebra': 4, 'Michael T. Goodrich': 4, 'Statistical Dispersion': 4, 'Semantic Search': 4, 'Scientific Method': 4, 'Gender Differences In Social Network Service Use': 4, 'Affective Science': 4, 'Atmosphere Of Earth': 4, 'Solar System': 4, 'William Ross Ashby': 4, 'Correlation': 4, 'Online Video Platform': 4, 'Formal Language': 4, 'Independence Number': 4, '23Snaps': 4, 'Eigenvalues And Eigenvectors': 4, 'Alexander Schrijver': 4, 'Peripheral': 4, 'Normal Distribution': 4, 'Endemic (Epidemiology)': 4, 'Eugene Wigner': 4, 'International Bank Account Number': 3, 'Diego Garlaschelli': 4, 'Stochastic Matrix': 4, 'Iso 2146': 3, 'Large Deviations Theory': 4, 'Ranking': 4, 'Irawati Karve': 4, 'Infectious Diseases Of Humans: Dynamics And Control': 4, 'Psychometrics': 4, 'Sparse Matrix': 4, 'Knowledge Extraction': 3, 'Iso 19136': 3, 'Erosion': 4, 'Engelbert–Schmidt Zero–One Law': 4, 'Richard E. Nisbett': 4, 'Machine Translation': 4, 'Network Performance': 4, 'Isbn': 4, 'Icanhazpdf': 4, 'Ithiel De Sola Pool': 4, 'Gene Expression': 4, 'Collada': 3, 'Psychological Testing': 4, 'Springer Science+Business Media': 4, 'Sociology Of Emotions': 4, 'Internet Area Network': 4, 'Mewe': 4, 'Algebraic Topology': 4, 'Legal History': 4, 'Blood-Borne Disease': 4, 'Robert Axelrod': 4, 'Mathematical Object': 4, 'Cognitive Model': 4, 'Linear Regression': 4, 'Matlab': 4, 'Municipal Wireless Network': 4, 'Quantitative Psychology': 4, 'Maximum Transmission Unit': 4, 'Ip Network': 4, 'Timeline Of Mathematics': 4, 'Social Aspects Of Jealousy': 4, 'Diabetic Foot Infection': 4, 'Iso/Iec 8859-10': 3, 'Trophic Level': 4, 'Atmospheric Model': 4, 'Chromatic Number': 4, 'Viral Marketing': 4, 'Itô Process': 4, 'Orientation (Graph Theory)': 4, 'Ethernet': 4, 'Joseph E. Ledoux': 4, 'Directed Graph': 3, 'Wiener Process': 4, 'Self-Avoiding Walk': 4, 'Semimartingale': 4, 'Case Study': 4, 'Statistical Theory': 4, 'Domain Name System': 4, 'Kolmogorov–Smirnov Test': 4, 'Irc-Galleria': 4, 'Iso/Iec 27006': 3, 'Thermodynamic Limit': 4, 'Knowledge Management': 4, 'Fourth Industrial Revolution': 4, 'Pacific Ocean': 4, 'Compound Poisson Process': 4, 'Humanities': 4, 'Phage Therapy': 4, 'Internet Engineering Task Force': 4, 'Aristotle': 4, 'Factor Analysis': 4, 'Shacl': 4, 'Distributed Artificial Intelligence': 4, 'Post-Exposure Prophylaxis': 4, 'Lunarstorm': 4, 'Fiscal Sociology': 4, 'Cultural Anthropology': 4, 'Social Media Addiction': 4, 'Iso 31-10': 3, 'Radar': 4, 'Donald Davies': 4, 'Influenza': 4, 'Burn': 4, 'Ronald Ross': 4, 'Vector (Epidemiology)': 4, 'Whistled Language': 4, 'Photographic Activity Test': 3, 'Subclinical Infection': 4, 'Harry Harlow': 4, 'Social Interaction': 4, 'Hyperbolic Tree': 4, 'Apple Inc.': 3, 'Stratified Sampling': 4, 'Cell (Biology)': 4, 'Iso 965': 3, 'Sociology Of Punishment': 4, 'Climate System': 4, 'Implementation': 4, 'Claude Shannon': 4, 'Antiviral Drug': 4, 'Hcl Connections': 4, 'Stay-At-Home Order': 4, 'Transport Network': 3, 'Eworld': 4, 'Patricia Hill Collins': 4, 'Standard Deviation': 4, 'M/M/C Queue': 4, 'Kazimierz Kuratowski': 4, 'Topological Space': 4, 'Iso 11940': 3, 'Iso 7637': 3, 'Ocr-A': 3, 'Scimago Journal Rank': 4, 'Free-Space Optical Communication': 4, 'Doob Decomposition Theorem': 4, 'Self-Organized Criticality': 4, 'Model Theory': 4, 'Discrete Cosine Transform': 4, 'Impact Factor': 4, 'Telecommunication Circuit': 4, 'Opportunistic Infection': 4, 'Natural Transformation': 4, 'Ideaplane': 4, 'Rain': 4, 'G. S. Ghurye': 4, 'Yahoo! Mash': 4, 'Semantics (Computer Science)': 4, 'Iso 20400': 3, 'Perception': 4, 'Iso 999': 3, 'Neal E. Miller': 4, 'Theory Of Generations': 4, 'Peter Senge': 4, 'Mathematical Finance': 4, 'Hydrological Model': 4, 'Rule Interchange Format': 4, 'Writing System': 4, 'Social Distancing': 4, 'Principal Component Analysis': 4, 'Asymptomatic Carrier': 4, 'R (Programming Language)': 4, 'Wasserman, Stanley': 4, 'Star System': 4, 'Programming Language': 4, 'Paywall': 4, 'Case Fatality Rate': 4, 'Millennium Prize Problems': 4, 'Ilya Prigogine': 4, 'Linear Discriminant Analysis': 4, 'Association List': 4, 'Fourier Transform': 4, 'Latin': 4, 'Environmental Epidemiology': 4, 'Word Of Mouth': 4, 'Multiprocessing': 4, 'Philosophy': 4, 'Iso-8859-8-I': 3, 'Oxford University Press': 4, 'Syndemic': 4, 'Collection Of Articles': 4, 'Iso/Iec 18000': 3, 'Quantum Chemistry': 4, 'Iso 2': 3, 'Social Status': 4, 'History Of Telecommunication': 4, 'Gardiner Greene Hubbard': 4, 'Object Constraint Language': 3, 'Lattice (Group)': 4, 'Telecommunications Link': 4, 'Value (Ethics)': 4, 'Word2Vec': 4, 'Scalability': 4, 'Perfect Matching': 4, 'Jaccard Index': 4, 'British Standard Pipe': 3, 'Computer Cluster': 4, 'Wi-Fi': 4, 'Longitudinal Redundancy Check': 3, 'Code-Division Multiple Access': 4, 'Library 2.0': 4, 'Trophic Coherence': 3, 'Soft Configuration Model': 3, 'Radcliffe-Brown': 4, 'Academic Journal': 4, 'Statistical Classification': 4, 'Sampling (Statistics)': 4, 'Branches Of Sociology': 4, 'Unpaywall': 4, 'Fritz Heider': 4, 'Iso/Iec 42010': 3, 'Vicat Softening Point': 3, 'Notation3': 4, 'Community Studies': 4, 'Personal Network': 4, 'Humberto Maturana': 4, 'Combinatorial Optimization': 3, 'Antimicrobial Resistance': 4, 'Chemical Transport Model': 4, 'Wiener Space': 4, 'Information Age': 4, 'New York City': 3, 'Graph Drawing': 3, 'Mixed Reality': 4, 'Glossary Of Botanical Terms': 4, 'Dawon Kahng': 4, 'Atom': 4, 'Comparison Of Social Networking Software': 4, 'Martingale (Probability Theory)': 4, 'Human–Computer Interaction': 3, 'Topological Invariant': 4, 'Communication Studies': 4, 'Robert Hooke': 4, 'Internet Archive': 4, 'Predictable Process': 4, 'Windows Live Spaces': 4, 'Urn Problem': 4, 'Video Game': 4, 'Occupational Health Psychology': 4, 'Cyworld': 4, 'Dirichlet Process': 4, 'Climatology': 4, 'Iso 10303-22': 3, 'Mathworld': 4, 'Tc 46/Sc 9': 4, 'Simple Knowledge Organization System': 4, 'Friendster': 4, 'Marxist': 4, 'Population Dynamics': 4, 'Iso 15686': 3, 'Friending And Following': 4, 'Gender Studies': 4, 'Electrical Engineering': 3, 'Google Currents': 4, 'Climate As Complex Networks': 4, 'Relevance': 4, 'Neurophysiology': 4, 'Encyclopedia Of Mathematics': 4, 'Semantic Html': 4, 'Biogeochemical Cycle': 4, 'Iso/Iec 27001': 3, 'Photo Manipulation': 4, 'Burkholder–Davis–Gundy Inequalities': 4, 'Directed Cycle': 4, 'Exosphere': 4, 'Lattice Graph': 3, 'Optical Networking': 4, 'Notices Of The American Mathematical Society': 4, 'Leonard Kleinrock': 4, 'Barbara J. Grosz': 4, 'Distributed Social Network': 4, 'Magnetic Ink Character Recognition': 3, 'Iso 3103': 3, 'Altmetrics': 4, 'Macroeconomics': 4, 'Journal Of Graph Algorithms And Applications': 4, 'Mr (Identifier)': 4, 'Susan Fiske': 4, 'Line (Geometry)': 4, 'Iwiw': 4, 'Fixed-Parameter Tractable': 4, 'Mesoendemic': 4, 'Thomas Edison': 4, 'C. Wright Mills': 4, 'Sustainability': 4, 'Cornell University': 4, 'Linear': 4, 'Adolescent Cliques': 4, 'Demographic': 3, 'Exchangeable Random Variables': 4, 'Web Science Trust': 4, 'Cris Moore': 4, 'Http': 4, 'Iso/Iec 17024': 3, 'Graph (Discrete Mathematics)': 3, 'Information Science': 4, 'Index Of Sociology Articles': 4, 'Posterior Probability': 4, 'Social Psychology (Sociology)': 4, 'Basic Reproduction Number': 4, 'Terminal (Telecommunication)': 4, 'Geoffrey Hinton': 4, 'Plurk': 4, 'Industrial Revolution': 4, 'World Map': 4, 'Social Media': 4, 'Interaction Design': 4, 'Web Search': 4, 'Legal Entity Identifier': 3, 'North America': 4, 'Mckean–Vlasov Process': 4, 'Scholarly Communication': 4, 'Girth (Graph Theory)': 4, 'Contact Tracing': 4, 'John Robert Anderson (Psychologist)': 4, 'Structural Linguistics': 4, 'Capital (Economics)': 4, 'Game Theory': 4, 'Actuarial Mathematics': 4, 'Graphic Matroid': 4, 'Xml': 4, 'Black–Derman–Toy Model': 4, 'Maximum Matching': 4, 'Anomalistic Psychology': 4, 'Annual Report': 4, 'Philosophy Of Social Science': 4, 'Time Reversibility': 4, 'Internet Protocol': 4, 'Hermeneutic': 4, 'Bipartite Dimension': 4, 'Intrusion Detection System': 4, 'Central Tendency': 4, 'Chemical Process Modeling': 4, 'Six Degrees Of Kevin Bacon': 4, 'Mathematical Logic': 4, 'John Seddon': 4, 'Distance Matrix': 4, 'Business Networking': 4, 'Network Controllability': 3, 'Deviance (Sociology)': 4, 'Iso/Iec 9995': 3, 'Pdf/Vt': 3, 'Copyright Policies Of Academic Publishers': 4, 'Brendan Mckay (Mathematician)': 4, 'Henry Sutton (Inventor)': 4, 'Statistical Physics': 4, 'Holon (Philosophy)': 4, 'Pamphlet': 4, 'Hashtag': 4, 'Ecmascript': 3, 'Semantic Matching': 4, 'Food Studies': 4, 'Random Walk': 4, 'Physical Review Letters': 4, 'Phase Space': 4, 'Intellectual Property': 3, 'Epidemic': 4, 'Cordon Sanitaire (Medicine)': 4, 'John B. Watson': 4, 'Sociology Of The Body': 4, 'Ergodicity': 4, 'Embedded Rdf': 4, 'Programming Tool': 4, 'Protective Sequestration': 4, 'X3D': 3, 'University Of Chicago Press': 4, 'Biological System': 4, 'Semantic Wiki': 4, 'Hreview': 4, 'Axiom': 4, 'Tanaka Equation': 4, 'Time-Division Multiplexing': 4, 'Hamming Distance': 4, 'Allen Newell': 4, 'Commutative Diagram': 4, 'Prior Probability': 4, 'Quality Of Service': 4, 'Food Safety': 4, 'Telex': 4, 'Sociological Theory': 4, 'Entropy': 4, 'Moment (Mathematics)': 4, 'Species': 4, 'Web Engineering': 4, 'Prontor-Compur': 3, 'Iso 14698': 3, 'Stratosphere': 4, 'Text Mining': 4, 'Power (Social And Political)': 4, 'Constant Elasticity Of Variance Model': 4, 'Symbol': 4, 'Itô Diffusion': 4, 'Iso/Iec 7811': 3, 'Complex Analysis': 4, 'Amikumu': 4, 'Jpeg 2000': 3, 'Wikiversity': 4, 'Gettr': 4, 'Vision Processing Unit': 4, 'Complex Adaptive System': 3, 'Universal Turing Machine': 4, 'Netscape Navigator': 4, 'Planetmath': 4, 'Random Variable': 4, 'Regenerative Process': 4, 'Journal Ranking': 4, 'P Versus Np Problem': 4, 'Information Geometry': 4, 'Mathematical Modelling In Epidemiology': 4, 'Statistical Parameter': 4, 'Relax Ng': 3, 'Trust (Social Science)': 4, 'Human Geography': 4, 'Latent Period (Epidemiology)': 4, 'Iso 19114': 3, 'Iso 3166-3': 3, 'Ostatus': 4, 'Construction And Management Simulation': 4, 'Digital Television': 4, 'Comparison Of Software And Protocols For Distributed Social Networking': 4, 'Computer Security': 4, 'Meronymy': 4, 'Sparql': 4, 'Portable Document Format': 3, 'Erna Schneider Hoover': 4, 'Greedy Algorithm': 4, 'Vector Space': 4, 'Computational Mathematics': 4, 'Security Service (Telecommunication)': 4, 'Time': 4, 'Clique Problem': 4, 'Iso 1745': 3, 'Political Science': 4, 'Artificial Neural Network': 3, 'Structure': 4, 'Manuela M. Veloso': 4, 'Erik Erikson': 4, 'Social Construction Of Technology': 4, 'Transcendental Equation': 4, 'History': 4, 'Treemapping': 4, 'Sociology Of Architecture': 4, 'Ulrik Brandes': 4, 'Foursquare City Guide': 4, 'Pattern Recognition': 4, 'Universal Coded Character Set': 3, 'Risk Of Infection': 4, 'Pixel': 4, 'Random Tree': 4, 'Benoit Mandelbrot': 4, 'Charles Bourseul': 4, 'Collaboration Graph': 4, 'Robert Metcalfe': 4, 'Econozco': 4, 'Topic Map': 3, 'History Of The Transistor': 4, 'Erdos-Renyi Model': 4, 'Pattern Formation': 4, 'Coding Theory': 4, 'Jump Process': 4, 'Iso 31-1': 3, 'Mathematical Biology': 4, 'Social Darwinism': 4, 'Philo Farnsworth': 4, 'International Symposium On Graph Drawing': 4, 'Evidence': 4, 'Sociology Of The History Of Science': 4, 'Process Specification Language': 3, 'Linguistics': 4, 'Climate Justice': 4, 'Bitnet': 4, 'Formal Methods': 4, 'Iso 2711': 3, 'Semantic Publishing': 4, 'Building Area Network': 4, 'Iso 13584': 3, 'Complexity Measurement': 4, 'Infection Prevention And Control': 4, 'Communities': 4, 'Kermack–Mckendrick Theory': 4, 'Computer Animation': 4, 'Deductive Reasoning': 4, 'Iso 2047': 3, 'Street Hierarchy': 4, 'International Relations': 4, 'Sociology Of Religion': 4, 'The Telephone Cases': 4, 'Times Higher Education': 4, 'Attractor': 4, 'Biological Organisation': 4, 'Iso/Iec 7064': 3, 'Dependency Network': 3, 'Semantically-Interlinked Online Communities': 4, 'Discretization': 4, 'Jstor (Identifier)': 3, 'Software Design': 4, 'Proquest (Identifier)': 4, 'Karhunen–Loève Theorem': 4, 'Airborne Disease': 4, 'Culture': 4, 'Collective Animal Behavior': 4, 'Triller (App)': 4, 'Local Time (Mathematics)': 4, 'Grid Graph': 4, 'Trivial Graph Format': 4, 'Process (Computing)': 4, 'Disjoint Union Of Graphs': 4, 'Sanitation': 4, 'Super-Spreader': 4, 'Europe': 4, 'Medicine': 4, 'Peach (Social Network)': 4, 'Atlantic Ocean': 4, 'Embedding': 4, 'World-Systems Theory': 4, 'Graph Partition': 4, 'Sparre–Anderson Model': 4, 'File System': 4, 'Content Analysis': 4, 'Iso 1000': 3, 'Gestalt Psychology': 4, 'Military': 4, 'App.Net': 4, 'Abstract Algebra': 4, 'Google Buzz': 4, 'Preprint': 4, 'Øystein Ore': 4, 'Hysterical Contagion': 4, 'Exponential Family': 4, 'Turing Test': 4, 'Social Mobility': 4, 'Neuroepidemiology': 4, 'Pluralistic Ignorance': 4, 'Scientific Control': 4, \"Metcalfe'S Law\": 4, 'Lecture Notes In Computer Science': 4, 'Telecommunications Network': 3, 'Probability-Generating Function': 4, 'Rule-Based System': 4, \"Lotka'S Law\": 4, 'Activity Stream': 4, 'Matroid': 4, 'Pseudoforest': 4, 'Laplacian Matrix': 4, 'Multigraph': 3, 'Topological': 3, 'Np-Complete': 4, 'Directed Multigraph': 4, 'Counseling Psychology': 4, 'Electronic Publishing': 3, 'Design Of Experiments': 4, 'International Standard Text Code': 3, 'Archival Research': 4, 'Complexity': 4, 'Duncan J. Watts': 3, 'Dissipative Structures': 4, 'Digital Art': 4, 'Cae Number': 3, 'Manufacturing Message Specification': 3, 'Vector Control': 4, 'Frank Harary': 4, 'Swarm Intelligence': 4, 'Internet': 3, 'Paleontology': 4, 'Algebraic Number Theory': 4, 'Outline Of Psychology': 4, 'Mass Media': 4, 'Genome': 4, 'Wildfire': 4, 'Amartya Sen': 4, 'Academia.Edu': 4, 'Metaphysics': 4, 'Euclidean Geometry': 4, 'Energy Modeling': 4, 'Metropolitan Area Network': 4, 'Food Chain': 4, 'Computational Biology': 4, 'Iso 6385': 3, 'Electrical Telegraph': 4, 'Computational Engineering': 4, 'History Of Computing': 4, 'Minds': 4, 'Multiple Edges': 4, 'Form (Html)': 4, 'Iso/Iec 8859-3': 3, 'K-Vertex-Connected Graph': 4, 'Integrated Services Digital Network': 4, 'Scientific Publishing': 4, 'Sociology Of Sociology': 4, 'Geologic Record': 4, 'Charles A. S. Hall': 4, \"Conway'S Game Of Life\": 4, 'Sociocultural Evolution': 4, 'Narinder Singh Kapany': 4, 'Fauna': 4, 'Iso 8583': 3, 'Confidence Interval': 4, \"Zipf'S Law\": 4, 'Scopus': 4, 'Iso/Iec 80000': 3, 'Sample-Continuous Process': 4, 'Cross-Species Transmission': 4, 'Iso 31-8': 3, 'Jane Addams': 4, 'Network Congestion': 4, 'Sociology Of Immigration': 4, 'Geoscience': 4, 'Criminal Procedure': 4, 'Maximal Ergodic Theorem': 4, 'Endel Tulving': 4, 'Systems Science': 4, 'Dense Graph': 4, 'Generative Model': 4, 'Behavioural Genetics': 4, 'At&T Corporation': 4, 'Simple Feature Access': 3, 'Exponential Growth': 4, 'Optional Stopping Theorem': 4, 'Gauss–Markov Process': 4, 'Edmodo': 4, 'Robert Tarjan': 4, 'Discrete Applied Mathematics': 4, 'Artificial Life': 4, 'Reachability': 4, 'Perron–Frobenius Theorem': 4, 'Rooted Tree': 4, 'Me2Day': 4, 'Computational Learning Theory': 4, 'Mobile Computing': 4, 'Software': 4, 'Daniel Davis Jr.': 4, 'On-Board Diagnostics': 3, 'Phrase-Structure Grammar': 4, 'Brain': 4, 'Urban Planning': 4, 'Boost Graph Library': 4, 'Unified Modeling Language': 3, 'Integrated Development Environment': 4, 'Iso 860': 3, 'Ssrn (Identifier)': 4, 'Group (Sociology)': 4, 'Iso 2033': 3, 'Nobel Prize In Physiology Or Medicine': 4, 'Hedy Lamarr': 4, 'Iso 7001': 3, 'Random Field': 4, 'Autopoiesis': 4, 'Attack Rate': 4, 'John Dewey': 4, 'Pmid (Identifier)': 3, 'Pixnet': 4, 'Partial Correlation': 4, 'Cognitivism (Psychology)': 4, 'Graphical Model': 4, 'Earth Day': 4, 'Iso 2014': 3, 'Random Graph': 3, 'Traffic Analysis': 4, 'Hand Washing': 4, 'Html': 3, 'Continuous Function': 4, 'Ask.Fm': 4, 'Psychological Manipulation': 4, 'Tinder (App)': 4, 'Concept Lattice': 4, 'Mathematical Modeling': 4, 'Social Exchange': 4, 'Social Action': 4, 'Hcard': 4, 'Samuel Bowles (Economist)': 4, 'Method Of Lagrange Multipliers': 4, 'Social Stress': 4, 'Internet Video': 4, 'Supply Chain Optimization': 4, 'Thirst Trap': 4, 'Max Weber': 4, 'Ad Hoc': 4, 'University Of Cambridge': 4, 'Coden': 4, 'Iso 217': 3, 'Combinatorics': 4, 'Frank Kelly (Mathematician)': 4, 'Graphic Communication': 4, 'Black–Scholes Model': 4, 'Iso 5427': 3, 'Springer-Verlag': 4, 'Network Motif': 3, 'Libor Market Model': 4, 'Peer-To-Peer': 4, 'Armscii': 3, 'Tivadar Puskás': 4, 'Geology Of Solar Terrestrial Planets': 4, 'Cloud Infrastructure Management Interface': 3, 'Algorithmic Efficiency': 4, 'My World@Mail.Ru': 4, 'Coupled Human–Environment System': 4, 'Mean': 4, 'Tout (Company)': 4, 'Salt Spray Test': 3, 'Behaviorism': 4, 'Ibn Khaldun': 4, 'Nextdoor': 4, 'Betti Number': 4, 'Albert Bandura': 4, 'Software Deployment': 4, 'Weighted Network': 3, 'Kurt Lewin': 4, 'Covid-19 Pandemic': 4, 'Operating System': 4, 'Iso 10487': 3, 'Weighted Correlation Network Analysis': 4, 'Computational Complexity Theory': 4, 'Fractal Dimension': 4, 'Alireza Mashaghi': 4, 'Cox Process': 4, 'Mx Takatak': 4, 'Rhetoric': 4, 'Extremes On Earth': 4, 'Walter Mischel': 4, 'Youtube': 3, 'Convolution': 4, 'Linear Algebra': 4, 'Infection Rate': 4, 'Open Access': 3, 'Dissipative System': 4, 'Gab (Social Network)': 4, 'Pmc (Identifier)': 3, 'Clifford Stein': 4, 'Gerontology': 4, 'Timeline Of Psychology': 4, 'Network Protocol': 4, 'Hi5': 4, 'Max-Flow Min-Cut Theorem': 4, 'B. F. Skinner': 4, 'Data Compression': 4, 'Chemical Patent': 4, 'Analysis Of Algorithms': 4, 'Pump.Io': 4, 'Algebraic Graph Theory': 4, 'History Of Psychology': 4, 'Multiply (Website)': 4, 'Incidence (Epidemiology)': 4, 'Safe Sex': 4, 'Nicholas A. Christakis': 4, 'Intersection Graph': 4, 'Four Color Theorem': 4, 'Virus': 4, 'Sociology Of Human Consciousness': 4, 'Open Data Protocol': 3, 'Triadic Closure': 3, 'Epidemiology': 3, 'Sexually Transmitted Infection': 4, 'Social Relation': 4, 'Herd Immunity': 4, 'Spectral Clustering': 4, 'Symbolic Capital': 4, 'History Of Sociology': 4, 'History Of General-Purpose Cpus': 4, 'Skorokhod Space': 4, 'Quality Function Deployment': 3, 'Topology': 4, 'Bolt (Website)': 4, 'Node Influence Metric': 4, 'Logistic Function': 4, 'Small-World Phenomenon': 3, \"Doob'S Martingale Convergence Theorems\": 4, 'Iso 3977': 3, 'Iso 6346': 3, 'Medical Psychology': 4, 'Arxiv (Identifier)': 3, 'Pownce': 4, 'Community': 4, 'Inter-Process Communication': 4, 'Social Norm': 4, 'Transpose Graph': 4, 'Milieu Control': 4, 'Time-Series': 4, 'Wicked Problem': 4, 'Software Quality': 4, 'Lithosphere': 4, 'Iso 2015': 3, 'Stopping Time': 4, 'Six Degrees: The Science Of A Connected Age': 4, 'Booster Dose': 4, 'Reverse Zoonosis': 4, 'Risk Assessment': 4, 'Drug Repositioning': 4, 'Semiconductor': 4, 'Parler': 4, 'Cultural History': 4, \"Dijkstra'S Algorithm\": 4, 'Social Media Intelligence': 4, 'Sociology Of Terrorism': 4, 'Frequency-Division Multiplexing': 4, 'Sociology Of Food': 4, 'Cluster Graph': 4, 'Arithmetic': 4, 'Trix (Serialization Format)': 4, 'Speech Recognition': 4, 'David Krackhardt': 4, 'Iso 2145': 3, 'Microsoft Excel': 4, 'Indoctrination': 4, 'Dual Graph': 4, 'Signal Processing': 4, 'Paris': 4, 'Linux Standard Base': 3, 'Geotagging': 4, 'Network (Mathematics)': 4, 'Survey (Human Research)': 4, 'Harvard University': 4, 'Copyright Status Of Works By The Federal Government Of The United States': 4, 'Bayesian Inference': 4, 'Ftam': 3, 'Kenya': 4, 'Sci-Hub': 4, 'Sociology Of Knowledge': 4, 'Distributed Social Networking Protocol': 4, 'Social Group': 4, 'Cable Protection System': 4, 'Iso/Iec 9797-1': 3, 'Robert Zajonc': 4, 'Kathleen Carley': 4, 'Body Area Network': 4, 'Cosmic Ray': 4, 'Sufficient Statistic': 4, 'Iso 8000': 3, 'Erratum': 4, 'Jun-Ichi Nishizawa': 4, 'South America': 4, 'Iso/Tr 11941': 3, 'Linked Data': 4, 'Mixed Raster Content': 3, 'Noam Chomsky': 4, 'Knowledge': 4, 'Mind Map': 4, 'System Of Measurement': 4, 'Homological Algebra': 4, 'Community Practice': 4, 'Jon Kleinberg': 4, 'Wind': 4, 'Stanford Prison Experiment': 4, 'Ferdinand Tönnies': 4, 'Traffic Congestion': 4, 'Scientific Collaboration Network': 3, 'Transmission Medium': 4, 'Calculus': 4, 'Alexander Bogdanov': 4, 'Weighted Graph': 4, 'Local Martingale': 4, 'Sequential Dynamical System': 4, 'Strongly Connected Component': 4, 'Crossing Number (Graph Theory)': 4, 'Longitudinal Study': 4, 'Information Visualization': 4, 'Radio Network': 4, 'Southern Ocean': 4, 'Social History': 4, 'Network Science': 3, 'Charles E. Leiserson': 4, 'Open Scientific Data': 4, 'Ising Model': 4, 'Pagerank': 4, 'Pre-Exposure Prophylaxis': 4, 'Spin Glass': 4, 'First-Order Logic': 4, 'Neuroscience': 3, 'Iso/Iec 8859-14': 3, 'Materials Science': 4, 'Business Administration': 4, 'Optical Character Recognition': 4, 'Snapchat': 4, 'Group Dynamics': 4, 'Skorokhod Integral': 4, 'Daniel Kahneman': 4, 'C++': 3, 'Trace (Linear Algebra)': 4, 'Cascading Failure': 4, 'Graduate Student': 4, 'Library And Archives Canada': 4, 'Sexual Network': 4, 'Common Cold': 4, 'Chunking (Psychology)': 4, 'Model Of Computation': 4, 'Immunodeficiency': 4, 'Gaussian Process': 4, 'Mathematics Education': 4, 'Supervised Learning': 4, 'Next-Generation Matrix': 4, 'Flory–Stockmayer Theory': 4, 'Disjoint Set': 4, 'Spamdexing': 4, 'Memory Hierarchy': 4, 'Outline Of Telecommunication': 4, 'Jewish': 4, \"Reed'S Law\": 4, 'Social Web': 4, 'Brand Page': 4, 'Mathematical And Theoretical Biology': 4, 'Consequential Strangers': 4, 'Version Of Record': 4, 'Information Retrieval': 3, 'Climate Change': 4, 'Iso 17100': 3, 'Semantic Web': 4, 'Stable Process': 4, 'Applied Mathematics': 4, 'Zbl (Identifier)': 4, 'Researchgate': 4, 'Renewal Process': 4, 'Sigmund Freud': 4, 'Pythagoreanism': 4, 'Design Rationale': 4, 'Iso 37001': 3, 'Neuroinformatics': 4, 'Ecological Network': 4, 'Social Experiment': 4, 'Guidelines For The Definition Of Managed Objects': 3, 'Reciprocity In Network': 3, 'Digital Marketing': 4, 'Iso 45001': 3, 'Force Of Infection': 4, 'Zigzag (Software)': 4, 'Np-Completeness': 4, 'Humidity': 4, 'Empirical Process': 4, 'Simulated Annealing': 4, 'National Center For Biotechnology Information': 4, 'Stochastic Chains With Memory Of Variable Length': 4, 'Domain-Specific Language': 4, 'Semantic Lexicon': 4, 'Adaptive System': 4, 'Benchmark (Computing)': 4, 'Iso 19115': 3, 'Ant': 4, 'Backbone Network': 4, 'Communication Protocol': 4, 'Oriented Tree': 4, 'Connectome': 3, 'Romanization Of Georgian': 3, 'Real Number': 4, 'Degree Centrality': 4, 'Robert Scott (Philologist)': 4, 'Geobiology': 4, 'Location Of Earth': 4, 'Girsanov Theorem': 4, 'Reputation System': 4, 'Iso/Iec 27000': 3, 'Yoshua Bengio': 4, 'Vaccine Efficacy': 4, 'Budapest': 4, 'Ingelfinger Rule': 4, 'Oliver Heaviside': 4, 'Belongingness': 4, 'Privacy Issues Of Social Networking Sites': 4, 'Beacon': 4, 'Rm-Odp': 3, 'Network Layer': 4, 'Riemann Sum': 4, 'Peter Whittle (Mathematician)': 4, 'Mosaic (Web Browser)': 4, 'Iso 9897': 3, 'Science (Journal)': 3, 'Peter Eades': 4, 'Historical Method': 4, 'Outline Of Earth': 4, 'Anderson Gray Mckendrick': 4, 'Pheed': 4, \"Earth'S Orbit\": 4, 'Problem Structuring Methods': 4, 'Mathematical Statistics': 4, 'Herbert Spencer': 4, 'Regularization (Mathematics)': 4, 'Viral Messages': 4, 'Iso 8373': 3, 'History Of Earth': 4, 'Learned Society': 4, 'Graph Style Sheets': 4, 'Marvin Minsky': 4, 'Animal': 4, 'Signal-Flow Graph': 4, 'Gamma Function': 4, 'Usual Hypotheses': 4, 'Xanga': 4, 'Processor (Computing)': 4, 'Amos Dolbear': 4, 'Network Scheduler': 4, 'Clustering Coefficient': 3, 'Database': 4, 'Strongly Regular Graph': 4, 'Web Content Accessibility Guidelines': 3, 'Submartingale': 4, 'D. J. Watts': 4, 'Evolutionary Developmental Biology': 4, 'Fernando J. Corbató': 4, 'Search Engine': 3, 'Cycle Space': 4, 'Mathematical Physics': 4, 'Micro.Blog': 4, 'Legal Psychology': 4, 'Web Browser': 4, 'Public Administration': 4, 'Cyclades': 4, 'Rationalism': 4, 'Canonical Ensemble': 4, 'Tropical Cyclone': 4, '3Blue1Brown': 4, 'International Standard Audiovisual Number': 3, 'Ronald C. Kessler': 4, 'Bibliogram': 4, 'Eukaryote': 4, 'Jaiku': 4, 'Iso 25964': 3, 'Perseus Project': 4, 'Queueing Model': 4, 'Uniform Resource Name': 3, 'Vertex Figure': 4, 'Cognitive Science': 3, 'Hyperdata': 4, 'Erdős–Bacon Number': 4, 'Taringa!': 4, 'Inference': 4, 'Social Research': 4, 'Travel Ban': 4, 'Visualization (Graphics)': 4, 'Brainwashing': 4, 'Cavity Method': 4, 'Adaptation': 4, 'Iso 6709': 3, 'Jpeg Xr': 3, 'Faina Mihajlovna Kirillova': 4, 'Discrete Mathematics': 4, 'Unicode': 4, 'Collective Consciousness': 4, 'Ernest Hilgard': 4, 'Satire': 4, 'Lateral Communication': 4, 'Hypothesis Testing': 4, 'World Economy': 4, 'Iso 11898': 3, 'Solaborate': 4, 'Snowball Sampling': 4, 'Social Bot': 4, 'Reviews Of Modern Physics': 4, 'Bidirected Graph': 4, 'Sport Psychology': 4, 'Email': 4, 'Software Repository': 4, 'Differential Geometry': 4, 'Abel Prize': 4, 'Potts Model': 4, 'Sociology Of Gender': 4, 'Bereal': 4, 'Mohamed M. Atalla': 4, 'Closeness Centrality': 4, 'Peer Review': 4, 'Kolmogorov Continuity Theorem': 4, 'Emergent Virus': 4, 'Essay': 4, 'Psychology Today': 4, 'Experimental Psychology': 4, 'Social Influence': 3, 'Pdf/E': 3, 'Draugiem.Lv': 4, 'Mathematical Chemistry': 4, 'Stanley Wasserman': 4, 'Domain Name': 4, 'Public Health Intervention': 4, 'Transmission (Medicine)': 4, 'Auxiliary Sciences Of History': 4, 'Language Of Temporal Ordering Specification': 3, 'Meetup': 4, 'University Of Pennsylvania': 4, 'Ontology (Information Science)': 4, 'Argument Map': 4, 'Online Identity': 4, 'Rado Graph': 4, 'Christianity': 4, 'Facebook Platform': 4, 'Iatf 16949': 3, 'Emile Berliner': 4, 'Iso 19011': 3, 'Proceedings Of The National Academy Of Sciences': 4, 'Geoffrey Grimmett': 4, 'Clubhouse (App)': 4, 'Fat-Tailed Distribution': 4, 'Spanning Forest': 4, 'Genealogy': 4, 'Flow Chart': 4, 'Erving Goffman': 4, 'Probabilistic Method': 4, 'Duncan Watts': 4, 'Iso 11940-2': 3, 'Law Of Large Numbers': 4, 'Medical Glove': 4, 'Heterophily': 4, 'Morphological Analysis (Problem-Solving)': 4, 'Critical Exponent': 4, 'Self-Organization': 4, 'Scale-Free Network': 3, 'Iso 18245': 3, 'Signaling (Telecommunications)': 4, 'Knowledge Visualization': 4, 'Social Networking': 4, 'Internationalized Resource Identifier': 4, 'Contact Process (Mathematics)': 4, 'Friendfeed': 4, 'Iso/Iec 11801': 3, 'Institute Of Electrical And Electronics Engineers': 4, 'Iso/Iec 7813': 3, 'Pathogen': 4, 'Mental Health': 4, 'Uniform Resource Identifier': 3, 'Data Structure': 4, 'Fax': 4, 'Iso 2852': 3, 'Projective Plane': 4, 'Causal Inference': 4, 'Partially Ordered Set': 4, 'Mesosphere': 4, 'Stockholm': 4, 'Orbital Angular Momentum Multiplexing': 4, 'Streetlife (Website)': 4, 'Roy M. Anderson': 4, 'Iso 31-2': 3, 'Molecule': 4, 'Health Informatics': 3, 'Pearson Product-Moment Correlation Coefficient': 4, 'Ancient Greek': 4, 'Solid Modeling': 4, 'Matrix (Mathematics)': 4, 'Efficiency (Network Science)': 3, 'Variance Gamma Process': 4, 'Cell Cycle': 4, 'Health Education': 4, 'Group (Online Social Networking)': 4, 'Environmental Studies': 4, 'Journal Of Graph Theory': 4, 'Systems Engineering': 4, 'Galton–Watson Process': 4, 'Hopcroft–Karp Algorithm': 4, 'Knot (Mathematics)': 4, 'Computer Graphics Metafile': 3, 'Iso 4157': 3, 'Transshipment Problem': 4, 'Singly Linked List': 4, 'Connectomics': 4, 'Bühlmann Model': 4, 'Least Publishable Unit': 4, 'Kluwer Academic Publishers': 4, 'Iso 22395': 3, 'Markov Process': 4, 'Torus': 4, 'Viadeo': 4, 'Caroline Haythornthwaite': 4, 'Application Security': 4, 'Quantitative Research': 4, 'Iso 14617': 3, 'Multi-Task Learning': 4, 'Social Movement': 4, 'Maximum Likelihood Estimation': 4, 'Conventional Wisdom': 4, 'Simon Model': 4, 'Word': 4, 'Robert K. Merton': 4, 'Versatile Video Coding': 3, 'Power Graph Analysis': 4, 'Ecosystem': 4, 'Lie Group': 4, 'Indian Ocean': 4, 'Systematics': 4, 'Structural Cut-Off': 4, 'Donald T. Campbell': 4, 'Convergence Test': 4, 'Sociology Of Philosophy': 4, 'Circuit Switching': 4, 'Etiology': 4, 'Astronomy': 4, 'Princeton University Press': 4, 'Bob Kahn': 4, 'Statistical Ensemble (Mathematical Physics)': 4, 'Kumu (Social Network)': 4, 'Centrality': 3, 'Algebraic Geometry': 4, 'Cross-Cultural Psychology': 4, 'Individualism': 4, 'Sigma-Martingale': 4, 'Mixi': 4, 'Flatten The Curve': 4, 'Probability': 4, 'Raymond Cattell': 4, 'Reflection Principle (Wiener Process)': 4, 'Iso/Iec 19794-5': 3, 'Michael Artin': 4, 'Knowledge Base': 4, 'Sociology Of Disaster': 4, 'Infographic': 4, 'Eigenvalue': 4, 'Disease X': 4, 'Bernoulli Process': 4, 'Configuration Model': 4, 'Mode (Statistics)': 4, 'Political History': 4, 'Microarchitecture': 4, 'Visual Sociology': 4, 'Harvard Medical School': 4, 'Public Health Journal': 4, 'Degree Distribution': 3, 'Foundations Of Mathematics': 4, 'Network Management': 4, 'Hello (Social Network)': 4, 'Continent': 4, 'Gamma Process': 4, 'International Organization For Standardization': 3, 'Log-Normal Distribution': 4, 'Mathematical Software': 4, 'Sociology Of Language': 4, 'Visual Language': 4, 'John Adrian Bondy': 4, 'Biology': 3, 'Tagged (Website)': 4, 'Katia Sycara': 4, 'Ergodic Theory': 4, 'Mathematical Economics': 4, 'Modular Arithmetic': 4, 'Iso 10161': 3, 'Anthony Stafford Beer': 4, 'Modular Ocean Model': 4, 'Xml Metadata Interchange': 3, 'Prime Number': 4, 'Iso 10303-21': 3, 'Logic': 4, 'Eulerian Path': 4, 'Bandwidth (Computing)': 4, 'Gospel Of Matthew': 4, 'Ba Model': 4, 'Co-Occurrence Network': 4, 'Base (Search Engine)': 4, 'Biostatistics': 4, 'Peer Pressure': 4, 'Iso 28000': 3, 'Outdegree': 4, 'History Of The Social Sciences': 4, 'Random Matrix': 4, 'Systems Psychology': 4, 'Film Speed': 3, 'Phenomenology (Philosophy)': 4, 'Integer': 4, 'Graphviz': 4, 'Architecture': 4, 'Turing Machine': 4, 'Industrial And Organizational Psychology': 4, 'Google': 4, 'General Topology': 4, 'Fediverse': 4, 'Area Studies': 4, 'Microeconomics': 4, 'Henri Poincaré': 4, 'Chan–Karolyi–Longstaff–Sanders Process': 4, 'Eradication Of Infectious Diseases': 4, 'Educational Technology': 4, 'Iso/Iec 19752': 3, 'Iso 31-12': 3, 'Enumeration': 4, 'Postprint': 4, 'Information Revolution': 4, 'Embedded System': 4, 'Cladistics': 4, 'Isofix': 3, 'Metadata': 3, 'Iso 4': 3, 'Iso 259': 3, 'Host (Biology)': 4, 'Swarm Behaviour': 4, \"Fermat'S Last Theorem\": 4, 'Description Logic': 4, 'Concept Map': 4, 'Cybersectarianism': 4, 'Alexis De Tocqueville': 4, 'Functional Analysis': 4, 'Moral Psychology': 4, 'Iso 31-11': 3, \"Gibrat'S Law\": 4, 'Reaction-Diffusion Systems': 4, 'Pearson Correlation Coefficient': 4, 'Mobile Social Network': 4, 'History Of Radio': 4, 'Hdl (Identifier)': 3, 'Hash Table': 4, 'Initial Public Offering': 3, 'Connectedness': 4, 'Leaderless Resistance': 4, 'Public Good (Economics)': 4, 'History Of The Telephone': 4, \"Ramsey'S Theorem\": 4, 'Observational Study': 4, 'Fidonet': 4, 'Flora': 4, 'Parameter': 4, 'Genetic Algorithm': 4, 'Triangle-Free Graph': 4, 'Walter Houser Brattain': 4, 'Truth Social': 4, \"Sanov'S Theorem\": 4, 'Requirements Analysis': 4, 'Evolutionary Biology': 4, 'Virtual Private Network': 4, 'World': 4, 'Virulence': 4, 'Sociogram': 4, 'Hypercomputation': 4, 'Digital Humanities': 4, 'History Of Videotelephony': 4, 'Fred Brooks': 4, 'Big O Notation': 4, 'Pinterest': 4, 'Hopfield Model': 4, 'Induced Subgraph': 4, 'Equivalence Relation': 4, 'Military Organization': 4, 'Iso 5': 3, 'Wireless Lan': 4, 'Hypercomplex Analysis': 4, 'Number Theory': 4, 'Markov Chain': 4, 'Social Control': 4, 'Iso 704': 3, 'Basic Science (Psychology)': 4, 'Snow (App)': 4, 'Kenneth E. Boulding': 4, 'Multi-Agent System': 4, 'Iso 13490': 3, 'Floyd–Warshall Algorithm': 4, 'Abraham Maslow': 4, 'Critical Psychology': 4, 'Toasternet': 4, 'Projective Geometry': 4, 'Springer International Publishing Ag': 4, 'Truth': 4, 'Gottfried Wilhelm Leibniz': 4, 'Glossary Of Geology': 4, 'Directed Acyclic Graph': 4, \"Price'S Model\": 4, 'Breadth-First Search': 4, 'Sociology Of Leisure': 4, 'Observation': 4, 'Outline Of Computer Science': 4, 'Behavioral Epigenetics': 4, 'Stochastic Control': 4, 'Uniform Resource Locator': 4, 'Mutual Information': 4, 'Computer Engineering': 4, 'Conflict Theories': 4, 'Iso 31-9': 3, 'Russell L. Ackoff': 4, 'Utilitarianism': 4, 'Wilhelm Wundt': 4, 'Exponential Random Graph Model': 3, 'Self-Similar Process': 4, 'Ivan Pavlov': 4, 'Recreational Mathematics': 4, 'Elliptical Distribution': 4, 'Socialization': 4, 'Semantic Mapper': 4, 'Sharechat': 4, 'Branching Process': 3, 'Graph Enumeration': 4, 'Mathematical Psychology': 4, 'Globalization': 4, 'Hierarchy': 3, 'Girvan–Newman Algorithm': 4, 'Abiogenesis': 4, 'Near-Me Area Network': 4, 'Iso 12006': 3, 'Psychological Review': 4, 'Triadic Relation': 4, 'R. Duncan Luce': 4, 'Systems Theory In Archaeology': 4, 'Iso 13485': 3, 'Partial Order': 4, 'Human History': 4, 'Semantic Analytics': 4, 'José Fernando Ferreira Mendes': 4, 'Router (Computing)': 4, 'Interpreter (Computing)': 4, 'Statistic': 3, 'Earth In Culture': 4, 'Complex Geometry': 4, 'David Eppstein': 4, 'Erdős Number': 4, 'Array Data Structure': 4, 'Viral Phenomenon': 4, 'George Klir': 4, 'Cycle (Graph Theory)': 3, 'Networking Hardware': 4, 'Neural Machine Translation': 4, 'Psychology Of Religion': 4, 'O-Ring': 3, 'Process Control': 4, 'Energy': 4, 'Richard Davidson': 4, 'Iso 11784 And Iso 11785': 3, 'Hatom': 4, 'Preorder': 4, 'Émile Durkheim': 4, 'George Herbert Mead': 4, 'Attitude Change': 4, 'Social Cognitive Neuroscience': 4, 'Infectivity': 4, 'Sporadic Disease': 4, 'Marcinkiewicz–Zygmund Inequality': 4, 'El Niño': 4, 'Self-Report Inventory': 4, 'Geomatics': 4, 'Abstract (Summary)': 4, 'Quadratic Variation': 4, 'Sociology Of Literature': 4, 'Iso 21500': 3, 'Wiener Sausage': 4, 'Tropical Disease': 4, 'Iso 22300': 3, 'Bruce Mcewen': 4, 'Fast Fourier Transform': 4, 'Eigenvector Centrality': 4, 'Logic In Computer Science': 4, 'Political Psychology': 4, 'Citation Analysis': 3, 'Keek': 4, 'Sina Weibo': 4, 'Reflexive Relation': 4, 'Trig (Syntax)': 4, 'Structural Functionalism': 4, 'Integro-Differential Equation': 4, 'David George Kendall': 4, 'Arpanet': 4, 'Search Engine Spammer': 4, 'Real Utopian Sociology': 4, 'Enterprise Information System': 4, 'Spontaneous Order': 4, 'Geovisualization': 4, 'George Armitage Miller': 4, 'Groundwater': 4, 'Next-Generation Network': 4, 'Iso 22000': 3, '(0,1)-Matrix': 4, 'Birth Process': 4, 'Dynamical Systems Theory': 4, 'Organisation': 4, 'Self-Replication': 4, 'Functor Category': 4, 'Iso/Iec 20000': 3, 'Diagram': 4, 'Universal Algebra': 4, 'Sociology Of Race And Ethnic Relations': 4, 'Cellular Automata': 4, 'Yogen Dalal': 4, 'Network Dynamics': 4, 'Journal Of The Acm': 4, 'Human Impact On The Environment': 4, 'Meta-Object Facility': 3, 'Multitree': 4, 'Political Movement': 4, 'Human Science': 4, 'Globalization And Disease': 4, 'Trust (Social Sciences)': 4, 'Iso 14971': 3, 'Subset': 4, 'Human Bonding': 4, 'Indegree': 4, 'Operations Research': 4, 'S2Cid (Identifier)': 3, 'Sparse Graph': 4, 'Neural Network': 4, 'Rich Get Richer': 4, 'Dublin Core': 4, 'Amos Tversky': 4, 'Python (Programming Language)': 4, 'Publisher Item Identifier': 4, 'Dendrochronology': 4, 'Signed Graph': 4, 'Tree (Graph Theory)': 4, 'Compiler Construction': 4, 'Continuous Stochastic Process': 4, 'Measure Theory': 4, 'Network Effect': 3, 'Genetic Programming': 4, 'Transitive Relation': 3, 'Geological History Of Earth': 4, 'Assortativity': 3, 'Sensory System': 4, 'Mutation': 4, 'Psycholinguistics': 4, 'Iso 2709': 3, 'Imprint (Trade Name)': 4, 'Iso 25178': 3, 'Political System': 4, 'Maximum-Entropy Random Graph Model': 3, 'Iso Metric Screw Thread': 3, 'Master Equation': 4, 'Wireless': 4, 'Google Scholar': 4, 'Kunita–Watanabe Inequality': 4, 'Photophone': 4, 'Groundwater Model': 4, 'Feynman–Kac Formula': 4, 'Cayley Graph': 4, 'Pietro Panzarasa': 4, 'Logistics': 4, 'Personal Protective Equipment': 4, 'Manifold': 4, 'Induced Path': 4, 'Interdependent Networks': 3, 'Cluster Analysis': 4, 'Computer Architecture': 4, 'Webgraph': 4, 'Virtual Reality': 4, 'Jump Diffusion': 4, 'Percolation Threshold': 4, 'Sociobiology': 4, 'Evolvability': 4, 'Iso/Iec 8859-9': 3, 'Qualitative Research': 4, 'Location–Scale Family': 4, 'Universe': 4, 'Is-Is': 3, 'Central Limit Theorem': 4, 'History Of Life': 4, 'Biome': 4, 'Popular Culture': 3, 'Henry Liddell': 4, 'Compartmental Models In Epidemiology': 4, 'Forensic Psychology': 4, 'Philosophical Transactions Of The Royal Society B': 4, 'Type Theory': 4, 'Online Etymology Dictionary': 4, 'Psychophysiology': 4, 'John Wiley & Sons': 4, 'Cellular Model': 4, 'Public Switched Telephone Network': 4, 'Adjacency Matrix': 3, 'Iso 10303': 3, 'Split Graph': 4, 'Columbia University': 4, 'Katz Centrality': 4, 'Mosfet': 4, 'Space-Division Multiple Access': 4, 'Author-Level Metrics': 4, 'Karl Popper': 4, 'Boston University': 4, 'Programming Paradigm': 4, 'Cooperation': 4, 'Philosophy Of History': 4, 'Information Architecture': 4, 'Iso/Iec 38500': 3, 'Algol 60': 3, 'Automated Planning And Scheduling': 4, 'Social Network Game': 4, 'Biological Patent': 4, 'Client (Computing)': 4, 'Postmodernism': 4, 'History Of Mobile Phones': 4, 'International Securities Identification Number': 3, 'Gottfried Leibniz': 4, 'Human Factors And Ergonomics': 4, 'Inheritance (Object-Oriented Programming)': 4, 'Donella Meadows': 4, 'Political Economy': 4, 'History Of Broadcasting': 4, 'Discrete Uniform Distribution': 4, 'Planar Graph': 4, 'Galves–Löcherbach Model': 4, 'James Samuel Coleman': 4, 'John Harriss': 4, 'Control Theory': 4, 'Flow Network': 3, 'Nature': 4, 'Telecommunication': 3, 'Abnormal Psychology': 4, 'Standard Error': 4, 'History Of Mathematics': 4, 'Object-Oriented Programming': 4, 'Biased Random Walk On A Graph': 4, 'Business Studies': 4, 'Species Richness': 4, 'Comparison Of Online Dating Websites': 4, 'Schema.Org': 4, 'American Physical Society': 4, 'Cultural Economics': 4, 'Australia (Continent)': 4, 'Cognitive Neuroscience': 4, 'Acm Computing Classification System': 4, 'Density Estimation': 4, 'Iso 5776': 3, 'Bounded Rationality': 4, 'Natural Environment': 4, 'Hassler Whitney': 4, 'Biological Network Inference': 4, 'Data Communication': 4, 'Semantic Computing': 4, 'Homotopy Theory': 4, 'Sharing Economy': 4, 'Feedback': 4, 'Mathematical Modelling Of Infectious Disease': 4, 'Maximal Entropy Random Walk': 4, 'Chromatic Polynomial': 4, 'Science And Technology Studies': 4, 'Timeline': 4, 'Ansi C': 3, 'Readgeek': 4, 'Econometrics': 4, 'Influence-For-Hire': 4, 'Tv Time': 4, 'Chapter (Books)': 4, 'Scicrunch': 4, 'Newick Format': 4, 'Classification Scheme': 4, 'Doléans-Dade Exponential': 4, 'Barabási–Albert Model': 3, 'Cut (Graph Theory)': 3, 'Semantic Network': 3, 'E (Mathematical Constant)': 4, 'Stochastic Process': 4, 'Pseudoscience': 4, 'Activitypub': 4, 'Georg Cantor': 4, 'Iso 20121': 3, 'Margaret Mead': 4, 'Disjoint-Set Data Structure': 4, 'Space': 4, 'Climate Networks': 3, 'Url': 4, 'Like Button': 4, 'Historical Sociology': 4, 'Social Equity': 4, 'Manfred Kochen': 4, 'Cardinality': 4, 'Surfbook': 4, 'Iso 15292': 3, 'Information Design': 4, 'Ergodic Theorem': 4, 'Iso/Iec 14651': 3, 'James G. March': 4, 'Digital Media': 4, 'Boolean Algebra': 4, 'Ocean': 4, 'Bipartite Hypergraph': 4, 'Giant Component': 4, 'Graph Of A Function': 4, 'Document Style Semantics And Specification Language': 3, 'Simplicial Complex': 4, 'Applied Psychology': 4, 'Vaccine Resistance': 4, 'Integrated Geography': 4, 'Science Studies': 4, 'Iso/Iec 27005': 3, 'Richard E. Bellman': 4, 'Fitfinder': 4, 'Binary Relation': 4, 'Search Engine Optimization': 4, 'Gemeinschaft': 4, 'Human Brain': 4, 'Isolation (Health Care)': 4, 'Conference Proceeding': 4, 'Graph (Abstract Data Type)': 3, 'Software Development': 4, 'Ello (Social Network)': 4, 'File Allocation Table': 3, 'Open-Notebook Science': 4, 'Evolutionary Game Theory': 4, 'Independent Set (Graph Theory)': 4, 'Building': 4, 'Charles Grafton Page': 4, 'Fitness Model (Network Theory)': 3, 'Peter Blau': 4, 'George Dantzig': 4, 'Paul Lazarsfeld': 4, 'Ip Address': 4, 'Iso 20022': 3, 'Random Network': 3, 'Graphical Kernel System': 3, 'Doctoral Advisor': 4, 'Iso/Iec 15288': 3, 'Polynomial Time': 4, 'American Psychological Association': 4, 'Communication': 4, 'Computer Network': 3, 'Predictive Analytics': 4, 'Quantization (Signal Processing)': 4, 'Iso 5775': 3, 'Harry Kesten': 4, 'Allenna Leonard': 4, 'Lancichinetti–Fortunato–Radicchi Benchmark': 3, 'Doap': 4, 'Biosphere': 4, 'Iso 5964': 3, 'Twelve Leverage Points': 4, 'Reductionism': 4, 'Logical Matrix': 4, 'Limiting Factor': 4, 'Conceptual Graph': 4, 'Human': 4, 'Cell Signaling': 4, 'Wikisource': 4, 'Future Of Earth': 4, 'Shelley E. Taylor': 4, 'Regional Internet Registry': 4, 'Iso 31-3': 3, 'Iso 10005': 3, 'Phase Transition': 4, 'Food Web': 4, 'Earth System Science': 4, 'Hydraulic Telegraph': 4, 'Network Medicine': 4, 'Neil Robertson (Mathematician)': 4, 'Metric System': 4, 'Douban': 4, 'Frigyes Karinthy': 3, 'Wilkie Investment Model': 4, 'Hamiltonian Cycle': 4, 'Atmosphere': 4, 'Systems Theory In Political Science': 4, 'Economic Model': 4, 'Social Behavior': 4, 'Biomarker': 4, 'Grddl': 4, 'Artificial Society': 4, 'Nanonetwork': 4, 'Kleitman–Wang Algorithm': 4, 'Steady State': 4, 'Line Segment': 4, 'Iso 31-4': 3, 'Murray Bowen': 4, 'Office Open Xml': 3, 'Roy Baumeister': 4, 'Bianconi–Barabási Model': 3, 'Nk.Pl': 4, 'American Academy Of Arts And Sciences': 4, 'Stephanie Forrest': 4, 'Equal-Loudness Contour': 3, 'Michel Foucault': 4, 'Gesellschaft': 4, 'Real-Time Computing': 4, 'Self-Reference': 4, 'Field (Mathematics)': 4, 'Snell Envelope': 4, 'History Of Operating Systems': 4, 'Iso 31-6': 3, \"Student'S T-Distribution\": 4, 'Systemics': 4, 'Network Topology': 4, 'Regional Planning': 4, 'Zoology': 4, 'Semiotic': 4, 'Emerging Infectious Disease': 4, 'Causality': 4, 'Time Complexity': 4, 'Vint Cerf': 4, 'Point Process': 4, 'Scientific Modelling': 4, 'Systems Theory': 4, 'Political Party': 4, 'Lexical Markup Framework': 3, 'Percolation': 3, 'Chemical Element': 4, 'Audio Coding Format': 4, 'Q–Q Plot': 4, 'Matching (Graph Theory)': 4, 'Disease Surveillance': 4, 'Branching Factor': 4, 'M. N. Srinivas': 4, 'Dataspaces': 4, 'Open Access Poll': 4, 'Vine (Service)': 4, 'Thermosphere': 4, 'Imperialism': 4, 'Organizational Chart': 4, 'Mpeg-4 Part 3': 3, 'Dot (Graph Description Language)': 4, 'Business Decision Mapping': 4, 'Connected Component (Graph Theory)': 3, 'Gender Roles': 4, 'Aol': 3, 'Jerome Bruner': 4, 'Vladimir K. Zworykin': 4, 'Object-Role Modeling': 4, 'Clinical Psychology': 4, 'Iso 10006': 3, 'Radio Wave': 4, 'Input/Output': 4, 'Michelle Girvan': 4, 'Development Studies': 4, 'Massimo Marchiori': 4, 'Bibliography Of Sociology': 4, 'Internet Service Provider': 4, 'Atmospheric Science': 4, 'Skewness': 4, 'Harvard Department Of Social Relations': 4, 'Censorship': 4, 'Uniform Integrability': 4, 'Fractional Brownian Motion': 4, 'Value Network': 4, 'Glossary Of Biology': 4, 'Barry Wellman': 4, 'Vk (Service)': 4, 'Iso 9660': 3, 'Node (Computer Science)': 4, 'Micropub (Protocol)': 4, 'Geometric Topology': 4, 'Cloob': 4, 'Social Equality': 4, 'Mobbing': 4, 'Vertex (Graph Theory)': 3, 'Qzone': 4, 'Karl Marx': 4, 'Geometric Graph Theory': 4, 'Biometrika': 4, 'Fomite': 4, 'Hamiltonian Path': 4, 'Water Resistant Mark': 3, 'Open System (Systems Theory)': 4, 'Enterprise Social Networking': 4, 'Network Architecture': 4, 'Mathematics And Art': 4, 'Poincaré Conjecture': 4, 'Self-Similarity': 4, 'Disease Outbreak': 4, 'Hierarchical Network Model': 3, 'Dual-Phase Evolution': 3, 'Reciprocity (Network Science)': 3, 'Elliot Aronson': 4, 'C Sharp (Programming Language)': 3, 'Search Algorithm': 4, 'Hawkes Process': 4, 'Preemption (Computing)': 4, 'Code': 4, 'Polygonal Chain': 4, 'Ordinary Differential Equation': 4, 'Iso 13406-2': 3, 'Martingale Representation Theorem': 4, 'Language': 4, 'Iso 19092-1': 3, 'Rdfa': 4, 'Viaf (Identifier)': 4, 'Social Network': 3, 'Human Subject Research': 4, 'Video': 4, 'Gaussian Random Field': 4, 'Adjacency List': 3, 'Green Computing': 4, 'Computer Hardware': 4, 'Transitive Closure': 4, 'Iso/Iec 8859-11': 3, 'Convergence Of Random Variables': 4, 'Weather': 4, 'Catastrophe Modeling': 4, 'Throughput': 4, 'Theoretical Psychology': 4, 'Metabolic Network': 4, 'Ancient Greece': 4, 'Software Maintenance': 3, 'Path Graph': 4, 'Open Access (Publishing)': 4, 'Principle Of Maximum Entropy': 4, 'Thermodynamic': 4, 'Nonlinear System': 4, 'Social Polarization': 4, 'Microsociology': 4, 'Mathematical Sociology': 4, 'Iso 31-5': 3, 'Computer System': 4, 'Serial Interval': 4, 'John Mccarthy (Computer Scientist)': 4, 'Facility Location Problem': 4, 'Friend Of A Friend': 4, 'Tribe (Internet)': 4, 'Tournament (Mathematics)': 4, 'Identifier': 4, 'Iso 11170': 3, 'Socialism': 4, 'Logarithm': 4, 'Iso/Iec 2022': 3, 'Semiconductor Device': 4, 'Overlay Network': 4, 'Internet2': 4, 'Second-Order Cybernetics': 4, 'Michael Posner (Psychologist)': 4, 'Market (Economics)': 4, 'Complexity Science': 4, 'Computer Graphics': 4, 'Independent And Identically Distributed Random Variables': 4, 'Coaxial Cable': 4, 'Social Democracy': 4, 'Cheirank': 4, 'Odnoklassniki': 4, 'László Lovász': 4, 'Iso 233': 3, 'John Hopcroft': 4, 'Pitman–Yor Process': 4, 'Incubation Period': 4, 'Spillover Infection': 4, 'Issue-Based Information System': 4, 'Lcf Notation': 4, 'Critical Theory': 4, 'Issn (Identifier)': 3, 'Robin Thomas (Mathematician)': 4, 'Radhika Nagpal': 4, 'Ethics': 4, 'Social Software': 4, 'Symmetric Graph': 4, 'Non-Pharmaceutical Intervention (Epidemiology)': 4, 'Yed': 4, 'Multilinear Algebra': 4, 'Cauchy Process': 4, 'Heath–Jarrow–Morton Framework': 4, 'Hygiene': 4, 'Taxonomy (General)': 4, 'Entropy (Statistical Thermodynamics)': 4, 'Acknowledgment Index': 4, 'Robotics': 4, 'Social Network Aggregation': 4, 'Iso/Iec 18014': 3, 'Algorithm': 4, 'H-Index': 3, 'Computing Platform': 4, 'Social Network Change Detection': 4, 'Modeling Language': 4, 'Network Probability Matrix': 4, 'Sociolinguistics': 4, 'Iso/Iec 8859': 3, 'Glossary Of Mathematical Symbols': 4, 'Clark L. Hull': 4, 'Telecommunications Equipment': 4, 'Collective Behaviour': 4, 'Iso 10007': 3, 'Network Bridge': 4, 'Kibibyte': 4, 'Determinism': 4, 'Flag Of Earth': 4, 'Set (Mathematics)': 4, 'Vero (App)': 4, 'Zoonosis': 4, 'Spotify Greenroom': 4, '135 Film': 3, 'Placenta': 4, 'Iso 639-5': 3, 'Capital Accumulation': 4, 'Fei Xiaotong': 4, 'Check Digit': 3, 'Interpersonal Relationship': 4, 'Fellows Of The Network Science Society': 4, 'Positive Feedback': 4, 'Public Health': 4, 'University Of Notre Dame': 4, 'Feminist Psychology': 4, 'Iso/Iec 4909': 3, 'Myspace': 4, 'Nonlinear Dynamical System': 4, 'Chess': 4, 'Gephi': 4, 'Information Technology': 4, 'Typhoid Fever': 4, 'Administrative Distance': 4, 'Decision Tree Learning': 4, 'Iso/Iec 9529': 3, 'Shusaku Number': 4, 'Application Software': 4, 'Friedrich Hayek': 4, 'Wireless Revolution': 4, 'Untappd': 4, 'Anthony Giddens': 4, 'Iso 657': 3, 'Social System': 4, 'Market Identifier Code': 3, 'Moore Neighborhood': 4, 'So.Cl': 4, 'Uncertainty Principle': 4, 'Dyad (Sociology)': 4, 'Nature (Journal)': 3, 'Iso 13567': 3, 'Hardware Acceleration': 4, 'Computational Complexity': 4, 'Null Model': 4, 'Niklas Luhmann': 4, 'Norbert Wiener': 4, 'Cyberwarfare': 4, 'Turing Award': 4, 'Mumps': 4, 'Venn Diagram': 4, \"Wagner'S Theorem\": 4, 'Interacting Particle System': 4, 'Cache Hierarchy': 4, 'Digraph Realization Problem': 4, 'Blockmodeling': 3, 'Iso/Iec 8859-13': 3, 'Limit (Mathematics)': 4, 'Chromatic Index': 4, 'Iso 9': 3, 'Mihalis Yannakakis': 4, 'Cult': 4, 'Entropy (Information Theory)': 3, 'Breakthrough Infection': 4, 'Npl Network': 4, 'Tropical Medicine': 4, 'Friendship Paradox': 3, 'Affective Neuroscience': 4, 'Immune Network Theory': 4, 'Storage Area Network': 4, 'Reference (Computer Science)': 4, 'Finite Field': 4, 'Mary Cartwright': 4, 'Natter Social Network': 4, 'Giant Global Graph': 4, 'Renewal Theory': 4, 'Hierarchical Clustering': 4, 'Tvtag': 4, 'Comparative Politics': 4, 'Folksonomy': 4, 'Nation State': 4, 'Iso/Iec 8859-5': 3, 'Bacteria': 4, 'Cartography': 4, 'Astrosociology': 4, 'Bessel Process': 4, 'Trustrank': 4, 'Robustness (Computer Science)': 4, 'Bibliometrics': 4, 'Quarantine': 4, 'Horsepower': 3, 'Tribe.Net': 4, 'American Journal Of Sociology': 4, 'Discrete Mathematics (Journal)': 4, 'Ant Colony Optimization': 4, 'Orkut': 4, 'Evolutionary Computation': 4, 'Sabr Volatility Model': 4, 'U. S. R. Murty': 4, 'Anobii': 4, 'Diffusion Process': 4, 'Urban Metabolism': 4, 'Iso 9362': 3, 'Progressively Measurable Process': 4, 'Iso 6344': 3, 'Lévy–Prokhorov Metric': 4, 'Telecommunication Network': 4, 'Vulnerability (Computing)': 4, 'William James': 4, 'Archaeology': 4, 'Internet Protocol Suite': 4, 'Mark Granovetter': 4, 'Information Processing': 4, 'Radial Tree': 4, 'Behavioral Neuroscience': 4, \"Blumenthal'S Zero–One Law\": 4, 'Euclidean Space': 4, 'Iso 668': 3, 'Gs1': 3, 'Social Networking Potential': 4, 'Maxicode': 3, 'History Of Television': 4, 'Geography': 4, 'Markov Random Field': 4, 'Talcott Parsons': 4, 'Eigenfactor': 4, 'Chemical Compound': 4, 'Eric Trist': 4, 'International Network For Social Network Analysis': 4, 'Pastoral Psychology': 4, 'Rational Number': 4, 'Markov Additive Process': 4, 'Jennifer Wilby': 4, 'Dynamic Programming': 4, 'Set Theory': 4, 'Iso 9564': 3, 'Thermodynamic System': 4, 'Public Sociology': 4, 'Disinfectant': 4, 'Interplanetary Internet': 4, 'Hierarchical State Machine': 4, 'Speech Synthesis': 4, 'The Tipping Point': 4, 'Hierarchy Of Evidence': 4, 'Psychologist': 4, 'Thomas H. Cormen': 4, 'Cox–Ingersoll–Ross Model': 4, 'Social Work': 4, 'Citation Index': 4, 'Operationalization': 4, 'Decision Tree': 4, 'Geographic Information System': 4, 'Ulric Neisser': 4, 'Huffman Coding': 4, 'Sudoc (Identifier)': 4, 'Simplex': 4, 'Gravity Of Earth': 4, 'Iso 8501-1': 3, 'Pinyin': 3, 'Statistical Analysis': 4, 'Scientometrics': 3, 'Hydrological Transport Model': 4, 'Expert': 4, 'Urban Sociology': 4, 'Ecosystem Model': 4, 'Scientific Journal': 4, 'Iso 15398': 3, 'Pdf/A': 3, '126 Film': 3, 'Tram': 4, 'Endotoxin': 4, 'Bandwagon Effect': 4, 'Thomas A. Watson': 4, 'Iso 4031': 3, 'Software Framework': 4, 'Dominating Set': 4, 'White-Label Product': 4, 'Alexander Stepanovich Popov': 4, 'Window Period': 4, 'Lévy Process': 4, 'Gene': 4, 'Ambient Awareness': 4, 'Empty Graph': 4, 'Learning': 4, 'Systems Pharmacology': 4, 'Arctic Ocean': 4, 'Annals Of Mathematics': 4, 'Nobel Prize In Physics': 4, 'Xiaohongshu': 4, 'Race (Human Categorization)': 4, 'Smartphone': 4, 'Tea Party Community': 4, 'Positive Psychology': 4, 'Auguste Comte': 4, 'Ornstein–Uhlenbeck Process': 4, 'Linked List': 4, 'Asmo 449': 3, 'Hyperbolic Geometric Graph': 3, 'Publish Or Perish': 4, 'Hidden Markov Model': 4, 'Inoculation': 4, 'Klein Bottle': 4, 'Peter Naur': 4, 'Military Psychology': 4, 'Balance Theory': 3, 'Conference On Neural Information Processing Systems': 4, 'Binomial Distribution': 4, 'Drakon': 4, 'Group Theory': 4, 'Personality Psychology': 4, 'Jacob Moreno': 4, 'Diaspora (Software)': 4, 'Online Dating Service': 4, 'Albert Einstein': 4, 'Common Criteria': 3, 'Hrecipe': 4, 'Geometry': 4, 'Wall.Fm': 4, 'Data Link': 4, 'Prebiotic Atmosphere': 4, 'Watts And Strogatz Model': 4, 'Online Petition': 4, 'Canonical Correlation': 4, 'Holoendemic': 4, 'Extreme Value Theory': 4, 'Hole Punch': 3, 'Iso 1413': 3, 'Iso/Iec Tr 12182': 3, 'Crossref': 4, 'Brainly': 4, 'Personal Area Network': 4, 'Undirected Graph': 4, 'Santa Fe Institute': 4, 'Mathematical Model': 4, 'Computer Graphics (Computer Science)': 4, 'Evolutionary Algorithm': 4, 'Domain Theory': 4, 'Africa': 4, 'Udny Yule': 4, 'Heavy-Tailed Distribution': 4, 'Claude Lévi-Strauss': 4, 'Wilderness': 4, 'Non-Homogeneous Poisson Process': 4, 'Ernest Burgess': 4, 'Crc Press': 4, 'Political Ecology': 4, 'Tree Structure': 4, 'Glossary Of Meteorology': 4, 'Network Theory': 3, 'Planetary System': 4, 'Reason': 4, 'Virtual Collective Consciousness': 4, 'Internet Of Things': 4, 'Symmetric Group': 4, 'Surveillance': 4, 'Kolmogorov Complexity': 4, 'Iso 639-2': 3, 'Coaching Psychology': 4, 'Evolving Networks': 3, 'Iso 639-3': 3, 'Ucla': 4, 'Cable Television': 4, 'Limiting Case (Mathematics)': 4, 'Vaccination': 4, 'Earth Symbol': 4, 'Community Psychology': 4, 'Community Structure': 3, 'Herd Mentality': 4, 'Transfer Function': 4, 'Likelihood-Ratio Test': 4, 'Computer': 4, 'Packet Switching': 4, \"Dunbar'S Number\": 4, 'Criminology': 4, 'Six Degrees Of Separation': 3, 'Microarray': 4, 'Phylogenetic Tree': 4, 'Prolog': 3, 'Cograph': 4, 'Life': 4, 'Ada Semantic Interface Specification': 3, 'Labour Power': 4, 'Conflict Epidemiology': 4, 'Semi-Supervised Learning': 4, 'Complex Network': 2, 'Resource Description Framework': 4, 'James J. Kay': 4, 'Power Take-Off': 3, 'Dgml': 4, 'Autoregressive Model': 4, 'Core (Research Service)': 4, 'Alexander Graham Bell': 4, 'Binary Search': 4, 'Dna': 4, 'Random Assignment': 4, 'Ning (Website)': 4, 'Associative Array': 4, 'Scale Parameter': 4, 'Highlight (Application)': 4, 'Biodiversity': 4, 'Human Behavior': 4, 'Symbolic Computation': 4, 'World Wide Web': 3, 'Iso 11992': 3, 'Rutgers University': 4, 'Quiver (Mathematics)': 4, 'Sequential Search': 4, 'Mihajlo D. Mesarovic': 4, 'Statistical Mechanics': 4, 'Graph Automorphism': 4, 'Open Set': 4, 'Military History': 4, 'Store And Forward': 4, 'Checkerboard': 4, 'Biomedicine': 4, 'Peter Sheridan Dodds': 4, 'Organizational Network Analysis': 4, 'Perfect Graph': 4, 'Communications Of The Acm': 4, 'Topological Graph Theory': 4, 'Monte Carlo Method': 4, 'Facebook': 4, 'Error Detection': 3, 'Iso/Iec Base Media File Format': 3, 'Bank': 4, 'Tweedie Distribution': 4, 'J. P. Guilford': 4, 'Permutation': 4, 'State Diagram': 4, 'Natural Reservoir': 4, 'Hydrology': 4, 'Social Science': 4, 'Poster Session': 4, 'Synchronization': 4, 'Systems Neuroscience': 4, 'Global Studies': 4, 'Leonhard Euler': 4, 'Malliavin Calculus': 4, 'Pareto Distribution': 4, 'Transport Problem': 4, 'Usenet': 4, 'Chordal Graph': 4, 'Iso 10160': 3, 'Iso/Iec 19770': 3, 'Physics': 3, 'Semantic Service-Oriented Architecture': 4, 'Trusted Platform Module': 3, 'Social Network Hosting Service': 4, 'Philip Warren Anderson': 4, 'Models Of Computation': 4, 'Donald O. Hebb': 4, 'Qian Xuesen': 4, 'Numerical Analysis': 4, 'Cambridge University Press': 4, 'Fred Emery': 4, 'Paul Cilliers': 4, 'Random Graph Theory Of Gelation': 3, 'Immune Response': 4, 'Ginestra Bianconi': 4, 'Shoe Size': 3, 'Homeostasis': 4, 'Sociotechnical System': 4, 'User (Computing)': 4, 'Herbert A. Simon': 3, 'Bumble': 4, 'Isolated Vertex': 4, 'Text File': 4, 'Graph Entropy': 4, 'Anthrozoology': 4, 'Betweenness Centrality': 4, 'Word Processor': 4, 'Sympathy': 4, 'Knowledge Discovery Metamodel': 3, 'Spatial Fractals': 4, 'Charles Sumner Tainter': 4, 'Musical.Ly': 4, 'Issues Relating To Social Networking Services': 4, 'School Psychology': 4, 'Iso/Iec 27000-Series': 3, 'Data Processing': 4, 'Data Transmission': 4, 'Iso/Iec 8859-1': 3, 'Holonymy': 4, 'Alternative Media': 4, 'University Of Paris': 4, 'Jerome Kagan': 4, 'Erdős–Rényi Model': 3, 'Instant Messaging': 4, 'Multiplexing': 4, 'Algorithm Design': 4, 'Routing Table': 4, 'Statistical Population': 4, 'Iso 898': 3, 'Guglielmo Marconi': 4, 'Iso 2788': 3, 'Filtration (Probability Theory)': 4, 'Authority': 4, 'Discrete-Time Stochastic Process': 4, 'Iso 5426': 3, 'Flattening The Curve': 4, 'Caste': 4, 'Emotional Contagion': 4, 'Shortest Path': 4, 'Television Broadcasting': 4, 'Mpeg-4 Part 14': 3, 'Planetary Science': 4, 'Vertebrate': 4, 'Anthropology': 4, 'Guido Van Rossum': 4, 'Chinese Restaurant Process': 4, 'Nonlinear Dynamics': 4, 'Differential Topology': 4, 'Entity–Relationship Model': 4, 'London School Of Economics': 4, 'Motion Jpeg 2000': 3, 'Philosophy Of Mathematics': 4, 'Goal-Oriented': 4, 'Symmetric Relation': 4, 'Ecology': 4, 'Iso 31-13': 3, 'Finite-State Machine': 4, 'Telautograph': 4, 'Population': 4, 'Community Identification': 4, 'Sociomusicology': 4, 'Topological Sorting': 4, 'Arithmetic Geometry': 4, 'Networkx': 4, 'Eissn (Identifier)': 4, 'Iso 56000': 3, 'Fluid Queue': 4, 'Path (Social Network)': 4, 'Piczo': 4, 'Communications Satellite': 4, 'Charles K. Kao': 4, 'Citation Impact': 4, 'Blocking (Statistics)': 4, 'Carl Rogers': 4, 'Information Security': 4, 'Whirlpool (Hash Function)': 3, 'Iso 19439': 3, 'Moving-Average Model': 4, 'Genotype': 4, 'Republicanism': 4, 'Yahoo! Meme': 4, 'Stochastic Analysis': 4, 'Natural Language Processing': 3, 'Ruzena Bajcsy': 4, 'Bernhard Korte': 4, 'Facial Recognition System': 4, 'Automata Theory': 4, 'Letterboxd': 4, 'Working Paper': 4, 'Howard T. Odum': 4, 'Sociologist': 4, 'Iso/Iec 29110': 3, 'Link Analysis': 3, 'Data Transmission Circuit': 4, 'Derek J. De Solla Price': 4, 'Collective Intelligence': 4, 'Percolation Theory': 3, 'Iso 3166-2': 3, 'University Of Wisconsin–Madison': 4, 'Locality Of Reference': 4, 'Lists Of Academic Journals': 4, 'Conversation Analysis': 4, 'Random Dynamical System': 4, 'Schramm–Loewner Evolution': 4, 'Google+': 4, 'Stigmergy': 4, 'Garman–Kohlhagen Model': 4, 'Bit': 4, 'Step-Nc': 3, 'Computer Program': 4, 'Idka': 4, 'Neighbourhood (Graph Theory)': 3, 'Self-Archiving': 4, 'Cameron–Martin Formula': 4, 'Iso/Iec 12207': 3, 'Telegraph Process': 4, 'Information Theory': 4, 'Network On A Chip': 3, 'Biregular Graph': 4, 'Boolean Network': 3, 'International Development': 4, 'Petri Net': 4, 'Mpeg-21': 3, 'Non-Linear Preferential Attachment': 4, 'Pdf417': 3, 'Social Philosophy': 4, 'Hungary': 4, 'Pdf/Ua': 3, 'Distributed Computing': 4, 'Diaspora (Social Network)': 4, 'Iso/Iec 10967': 3, 'Francisco Varela': 4, 'Multiculturalism': 4, 'Supermartingale': 4, 'Stories (Social Media)': 4, 'Iso 9241': 3, 'Iso 31-7': 3, 'Industrial Sociology': 4, 'Iso 639-6': 3, 'Computer Vision': 4, 'Functor': 4, 'Reblogging': 4, 'Kinship': 4, 'Immunotherapy': 4, 'Exponential Distribution': 4, 'Stability Analysis': 4, 'Web 2.0': 4, 'Evolutionary Robotics': 4, 'Iso 6438': 3, 'Homeomorphism': 4, 'Computational Social Science': 4, 'Open Document Architecture': 3, 'Bifurcation Theory': 4, 'Jürgen Habermas': 4, 'Graph Invariant': 4, 'Iso 3166': 3, 'Seven Bridges Of Königsberg': 4, 'Kurt Gödel': 4, 'Social Environment': 4, 'Swarm Development Group': 4, 'Margaret Boden': 4, 'Source Control (Respiratory Disease)': 4, 'Generative Sciences': 4, 'Complex Contagion': 3, 'Attention Inequality': 4, 'Electronic Voting': 4, 'Modularity (Networks)': 3, 'Social Simulation': 4, 'Objective Function': 4, 'Tsū (Social Network)': 4, 'Nervous System': 4, 'Topic Model': 4, 'Deforestation': 4, 'Software Construction': 4, 'Spaces (Social Network)': 4, 'Sociology': 3, 'Modernism': 4, 'Evolutionary Psychology': 4, 'Tensor Processing Unit': 4, 'Civil Engineering': 4, 'Interactome': 4, 'Packing Problem': 4, 'Iso 13399': 3, 'Fields Medal': 4, 'Spatial Network': 3, 'Clique': 4, 'Digital Revolution': 4, 'Piecewise Deterministic Markov Process': 4, 'Richard Lazarus': 4, 'Computational Physics': 4, 'Iso/Iec 7816': 3, 'Elisha Gray': 4, 'Edge List': 4, 'French Revolution': 4, 'Euclidean Distance': 4, 'Complete Graph': 3, 'Avatars United': 4, 'Speciation': 4, 'Thomas J. Watson Research Center': 4, 'Mathematical Analysis': 4, 'Information System': 4, 'European Mathematical Society': 4, 'Programming Language Theory': 4, 'Oriented Graph': 4, \"Earth'S Energy Budget\": 4, 'Index Case': 4, 'Human Ecology': 4, 'Nasir Ahmed (Engineer)': 4, 'Cramér–Lundberg Model': 4, 'Warren Weaver': 4, 'Iso 1': 3, 'Openurl': 4, 'Modularity': 4, 'Birth–Death Process': 4, 'Cellular Automaton': 4, 'Global Warming': 4, 'Iso 19600': 3, 'Sawsdl': 4, 'Computer Algebra': 4, 'Social Constructionism': 4, 'Mugshot (Website)': 4, 'Iso 9000': 3, 'Green Transport Hierarchy': 4, 'Yo (App)': 4, 'Graph Theory': 3, 'C. West Churchman': 4, 'International Standard Music Number': 3, 'Mediation-Driven Attachment Model': 4, 'Iso 31': 3, 'Macrosociology': 4, 'Antibiotic': 4, 'Cartesian Product Of Graphs': 4, 'Bioinformatics': 4, 'John Von Neumann': 4, 'Epidemic Model': 3, 'Neuromorphic Engineering': 4, 'Checksum': 4, 'Ramon Llull': 4, 'Gary Chartrand': 4, 'Victimology': 4, 'Unique Identifier': 4, 'Iso 7736': 3, 'Identity (Social Science)': 4, 'Von Neumann Neighborhood': 4, 'Greek Language': 4, 'Fiber-Optic Communication': 4, 'Transaction Cost': 4, 'Request For Comments': 3, 'Metric (Mathematics)': 4, 'Connected Graph': 4, 'Instagram': 3, 'Geomorphology': 4, 'Fdi World Dental Federation Notation': 3, 'Iso/Iec 8859-15': 3, 'Nist': 4, 'Georg Simmel': 4, 'Iso/Iec 8859-12': 3, 'Waymo': 4, 'Tele-Epidemiology': 4, 'Media Psychology': 4, 'Yahoo! 360°': 4, 'Computer Security Compromised By Hardware Failure': 4, 'Incidence Matrix': 3, 'Systems Biology': 4, 'Multistability': 4, 'Gender': 4, 'Sunlight': 4, 'Protist': 4, 'Manfred Clynes': 4, 'Iso 19092-2': 3, 'Feller Process': 4, 'Gapo': 4, 'Vegan Studies': 4, 'Probability Distribution': 3, 'Lambert W Function': 4, 'Iso/Iec 27002': 3, 'Thread (Computing)': 4, 'Environmental Sociology': 4, 'Self-Fulfilling Prophecy': 4, 'Cognitive Computing': 4, 'Moj (App)': 4, 'Unsupervised Learning': 4, 'Interview (Research)': 4, 'Streaming Television': 4, 'Controllability': 4, 'Multithreading (Computer Architecture)': 4, 'Cultural Studies': 4, 'Element (Mathematics)': 4, 'Social Class': 4, 'Social Physics': 4, 'Telephone Exchange': 4, 'Systems Art': 4, 'Agent-Based Modelling': 4, 'Urban Network': 4, 'Neighborhood (Graph Theory)': 4, 'Layered Graph Drawing': 4, 'Skype': 4, '110 Film': 3, 'Communitarianism': 4, 'Stratonovich Integral': 4, 'Routing': 4, 'Social Reality': 4, 'Probability Theory': 4, 'Friendica': 4, 'Computational Chemistry': 4, 'Caenorhabditis Elegans': 4, 'Feminist Sociology': 4, 'Paul Ekman': 4, 'William Ogilvy Kermack': 4, 'Partition Function (Mathematics)': 4, 'Glossary Of Clinical Research': 4, 'Basic Books': 4, 'Dimitri Bertsekas': 4, 'Réka Albert': 4, 'Discrete Optimization': 4, 'Heliograph': 4, 'Iso 31-0': 3, 'Diagrammatic Reasoning': 4, 'Sensemaking': 4, 'Optical Telegraph': 4, 'Neuropsychology': 4, 'Plant': 4, 'Semidefinite Programming': 4, 'Thomas M. Cover': 4, 'Channel Capacity': 4, 'Iso 216': 3, 'Data Link Layer': 4, 'Maximum Entropy Probability Distribution': 4, 'Economic Sociology': 4, 'Geometric Brownian Motion': 4, 'Harmonic Analysis': 4, 'Authoritarianism': 4, 'Library (Computing)': 4, 'Prokaryote': 4, 'Gibbs Measure': 4, 'Organism': 4, 'Weighted Planar Stochastic Lattice (Wpsl)': 4, 'Ecological Niche': 4, 'Optical Communication': 4, 'Incidence List': 3, 'Separation Of Variables': 4, 'Zero–One Law': 4, 'Von Neumann Architecture': 4, 'Data Visualization': 4, 'Autoregressive Integrated Moving Average': 4, 'J. Doyne Farmer': 4, 'Waterborne Disease': 4, 'Cosma Shalizi': 4, 'Iso 8691': 3, 'János Pach': 4, 'Cauchy Distribution': 4, 'Pierre Bourdieu': 4, 'Iso 15919': 3, 'Pdf/X': 3, 'Almon Brown Strowger': 4, 'Theda Skocpol': 4, 'Cobol': 3, 'Iso 843': 3, 'Iso 4165': 3, 'Network Switch': 4, 'Document Management System': 4, 'Rendering (Computer Graphics)': 4, 'Rfc (Identifier)': 3, 'Larry Squire': 4, 'Leon Festinger': 4, 'Edward Witten': 4, 'Concept': 4, 'Harriet Martineau': 4, 'Houseparty (App)': 4, 'Public Law': 4, 'Common Good': 4, 'Jay Wright Forrester': 4, 'Paul Seymour (Mathematician)': 4, 'Reinforcement Learning': 4, 'Iterative Maps': 4, 'Third Voice': 4, 'Social Capital': 3, 'International Standard Identifier For Libraries And Related Organizations': 3, 'Iso 26262': 3, 'Association For Computing Machinery': 4, 'Tiff/Ep': 3, 'Integrated Circuit': 4, 'Density Matrix': 4, 'Ho–Lee Model': 4, 'Antiseptic': 4, 'Sociology Of Peace, War, And Social Conflict': 4, 'Iso/Iec 8859-2': 3, 'Flow Graph (Mathematics)': 4, 'Average Path Length': 4, 'Fractal': 4, 'Continuous-Time Random Walk': 4, 'Mental Model': 4, 'Github': 4, 'Iso/Iec 7810': 3, 'Scapegoating': 4, 'Scientific Theory': 4, 'Romanization Of Armenian': 3, 'Virtue': 4, 'Yule-Simon Distribution': 3, 'Chaos Theory': 4, 'Moon': 4, 'Groupthink': 4, 'Eigenvector': 4, 'Leadership': 4, 'Thomas Schelling': 4, 'Digital Mapping': 4, 'Flood': 4, 'Psychotherapy': 4, 'Similarity Measure': 4, 'Maximum Likelihood': 4, 'Iso 55000': 3, 'Irrational Behaviour': 4, 'Flowchart': 3, 'Tony Hoare': 4, 'Iso/Iec 15504': 3, 'The Rich Get Richer And The Poor Get Poorer': 4, 'Graph Rewriting': 4, 'Yik Yak': 4, 'Lawrence Kohlberg': 4, 'Iso/Iec 646': 3, 'Lenka Zdeborová': 4, 'Submarine Communications Cable': 4, 'Instrumentalism': 4, 'Charles Sanders Peirce': 4, 'Concurrency (Computer Science)': 4, 'Coupled Map Lattice': 4, 'General-Purpose Computing On Graphics Processing Units': 4, 'Pandemic': 4, 'Wolfram Mathematica': 4, 'Ed Diener': 4, 'Percolation Critical Exponents': 4, 'Quantitative Psychological Research': 4, 'Ant Colony Optimization Algorithm': 4, 'Self-Driving Car': 4, 'Sociocybernetics': 4, 'Doubling Time': 4, 'Dirac Delta Function': 4, 'N-Triples': 4, 'Concurrent Computing': 4, 'History Of Science': 4, 'Computability Theory': 4, 'Mathematical Structure': 4, 'Demography': 4, 'Fulkerson–Chen–Anstee Theorem': 4, 'Median Graph': 4, 'Chen Model': 4, 'Survey Methodology': 4, 'Neuroimaging': 4, 'Computer Simulation': 4, 'Asia': 4, 'Diffusion Of Innovations': 4, 'Hyperlink': 3, 'Iso 10218': 3, 'Additive Process': 4, 'Iso 15926 Wip': 3, 'Critical Path Analysis': 4, 'Semantic Broker': 4, 'Edwin Howard Armstrong': 4, 'Ethnocentrism': 4, 'Bron–Kerbosch Algorithm': 4, 'Moodle': 4, 'Cybernetics': 4, 'Biological Neural Network': 4, 'Helium': 4, 'Social Computing': 4, 'Béla Bollobás': 4, 'Stochastic Differential Equation': 4, 'Computational Sociology': 4, 'Factor Graph': 4, 'Z Notation': 3, 'Order Theory': 4, 'Brownian Bridge': 4, 'Network Service': 4, 'Joshua M. Epstein': 4, 'Developmental Psychology': 4, 'Lydia Kavraki': 4, 'Hypercube Graph': 4, 'Control Variable (Programming)': 4, \"Karp'S 21 Np-Complete Problems\": 4, 'Firefox': 4, 'Meetme': 4, 'Iso 12620': 3, 'Netlog': 4, 'Foaf': 4, 'Homophily': 3, 'Classical Wiener Space': 4, 'Grey Literature': 4, 'Yammer': 4, 'Parameterized Complexity': 4, 'Software Engineering': 4, 'Xmpp': 4, 'Mixing (Mathematics)': 4, 'Historicism': 4, 'Information': 4, 'Iso 732': 3, 'Abstract Simplicial Complex': 4, 'Finite Geometry': 4, 'Regional Geography': 4, 'Chronobiology': 4, 'Social Exchange Theory': 4, 'Electronic Design Automation': 4, 'Innocenzo Manzetti': 4, 'Service (Economics)': 4, 'Strong Perfect Graph Theorem': 4, 'Post-Structuralism': 4, 'Posterous': 4, 'Iso/Iec 14443': 3, 'Philosophy Of Science': 4, 'Climate Model': 4, 'John Guare': 4, 'Renren': 4, 'Evolution': 4, 'Ludwig Von Bertalanffy': 4, 'Edge (Graph Theory)': 3, 'Genetics': 4, 'Spatial Analysis': 4, 'Memetics': 4, 'Skeleton (Topology)': 4, 'Forest (Graph Theory)': 4, 'International Standard Atmosphere': 3, 'Carnegie-Mellon University': 4, 'System': 4, 'W.E.B. Du Bois': 4, 'Binomial Coefficient': 4, 'Marxist Sociology': 4, 'Heello': 4, 'Digital Electronics': 4, 'Environmental Social Science': 4, 'Conceptual System': 4, 'Transistor Count': 4, 'Random Geometric Graph': 3, 'Bibcode (Identifier)': 3, 'James H. Fowler': 4, 'Retractions In Academic Publishing': 4, 'Neuron': 4, 'Janet': 4, 'Binomial Options Pricing Model': 4, 'Yahoo! Kickstart': 4, 'Bert (Language Model)': 4, 'Lattice (Order)': 4, 'Iso/Iec 8652': 3, 'Sociology Of Education': 4, 'Social Psychology': 4, 'Iso/Iec 11404': 3, 'Social Networking Service': 4, 'Iso 14644': 3, 'Living Systems': 4, 'Political Sociology': 4, 'Minimum Spanning Tree': 4, 'Expected Value': 4, 'Physical Anthropology': 4, 'Object Oriented': 4, 'Drums In Communication': 4, 'Lifeknot': 4, 'Iso 7010': 3, 'Suicidology': 4, 'Critical Community Size': 4, 'Technical University Of Madrid': 4, 'Edgar Gilbert': 4, 'Zeta Distribution': 4, 'Finite Set': 4, 'Stanley Milgram': 3, 'Defense Advanced Research Projects Agency': 4, 'Alfréd Rényi': 4, 'Outline Of Mathematics': 4, 'Near-Field Communication': 4, 'Isbn (Identifier)': 3, 'Iso/Iec 5218': 3, 'Iso 690': 3, 'Accuracy And Precision': 3, \"Doob'S Optional Stopping Theorem\": 4, 'Integer Programming': 4, 'Polarization-Division Multiplexing': 4, 'Differential Equation': 4, 'Network (Disambiguation)': 4, 'Hostname': 4, 'Iso/Iec 21827': 3, 'Printing': 3, 'Branchout': 4, 'Lee De Forest': 4, 'Time Zone': 4, 'The New Palgrave Dictionary Of Economics': 4, 'Poisson Distribution': 3, 'Estimation Theory': 4, 'Béla H. Bánáthy': 4, 'Metaheuristic': 4, \"Prokhorov'S Theorem\": 4, 'Renard Series': 3, 'Matter': 4, 'Structural Cohesion': 4, 'Self-Organizing': 4, 'Dynamical System': 4, 'Photosynthesis': 4, 'Global Trade Item Number': 4, 'Sociology Of Jewry': 4, 'Ontology': 4, 'Semaphore': 4, 'Isni (Identifier)': 4, 'Multihoming': 4, 'Brownian Excursion': 4, 'Social Organization': 4, 'Clash (App)': 4, 'Richard M. Karp': 4, 'Random Regular Graph': 3, 'Hcalendar': 4, 'Archaea': 4, 'Capitalism': 4, 'Web Of Science': 4, 'Iso/Iec 15693': 3, 'Linear Map': 4, 'Geologic Modelling': 4, 'Social Network Analysis Software': 3, 'Sterilization (Microbiology)': 4, 'Assortative Mixing': 3, 'Line Graph': 4, 'Steven Strogatz': 3, 'Gary Becker': 4, 'Troposphere': 4, 'Princeton University': 4, 'Position Paper': 4, 'Formspring': 4, 'Robert Sedgewick (Computer Scientist)': 4, 'Orientability': 4, 'John Bardeen': 4, 'Itunes Ping': 4, 'Periscope (Service)': 4, 'Gradient Descent': 4, 'Music Psychology': 4, 'M/G/1 Queue': 4, 'Dependability': 4, 'Business Process Model And Notation': 3, 'Clique (Graph Theory)': 3, 'Climate Change And Infectious Diseases': 4, 'Hyperendemic': 4, 'Eric W. Weisstein': 4, 'Susceptible Individual': 4, 'Oceanography': 4, 'Graphics Processing Unit': 4, 'Screening (Medicine)': 4, 'Mark Newman': 4, 'Spring.Me': 4, 'Reaction–Diffusion System': 4, 'Json-Ld': 4, 'Biological Network': 3, 'Academic Publishing': 4, 'Introduction To Algorithms': 4, 'Computer Data Storage': 4, 'Internetworking': 4, 'Francis Blake (Telephone)': 4, 'Iso 7027': 3, 'Iso 8178': 3, 'Partition Of A Set': 4, 'Hospital-Acquired Infection': 4, 'Sociology Of The Internet': 4, 'Circle': 4, 'Mobile Telephony': 4, 'Gnu Social': 4, 'Preferential Attachment': 3, 'Cooperative Multitasking': 4, 'Ethnography': 4, 'Health Communication': 4, 'Bridge (Interpersonal)': 4, 'Group Action (Sociology)': 4, 'Iso 15926': 3, 'Indecs Content Model': 4, 'Power-Law': 3, 'Ibm': 4, 'Euclidean Plane': 4, 'Hewitt–Savage Zero–One Law': 4, 'Schema (Psychology)': 4, 'Iso 3307': 3, 'Express (Data Modeling Language)': 3, 'Index Of Psychology Articles': 4, 'Richard Karp': 4, 'Asianave': 4, 'Miaopai': 4, 'Cognition': 4, 'Ordered Pair': 4, 'Radia Perlman': 4, 'European Union': 4, 'Sidney Redner': 4, 'Dependent Territory': 4, 'Regional Science': 4, 'Infectious Period': 4, 'Yule–Simon Distribution': 4, 'Human-To-Human Transmission': 4, 'Tuberculosis': 4, 'Graph Minor': 4, 'Engineering': 4, 'Foursquare Swarm': 4, 'Hits Algorithm': 4, 'Monoclonal Antibody Therapy': 4, 'Quantum Complex Network': 4, 'Black–Karasinski Model': 4, 'Microformat': 4, 'Iso 4217': 3, 'Oxford English Dictionary': 4, 'Open Research': 4, 'Milgram Experiment': 4, 'Transmission Risks And Rates': 4, 'Central Processing Unit': 4, 'Radiation': 4, 'Collective Behavior': 4, 'Bipartite Graph': 3, 'Iso/Iec 8859-4': 3, 'Virtual Machine': 4, 'Sociology Of Health And Illness': 4, 'Small-World Network': 3, 'Autonomous System (Internet)': 3, 'Interoperability': 4, 'Holism': 4, 'Human Body': 4, \"Earth'S Magnetic Field\": 4, 'User Profile': 4, 'Criminal': 4, 'Disease Ecology': 4, 'Snow': 4, 'Loop (Graph Theory)': 3, 'Opendocument': 3, 'Point-To-Point (Telecommunications)': 4, 'Probability Density Function': 4, 'Collaborative Consumption': 4, 'Epistemology': 4, 'Computational Science': 4, 'Psychophysics': 4, 'Dynamic Network Analysis': 3, 'Johann Philipp Reis': 4, 'Reginald Fessenden': 4, 'Roberto Tamassia': 4, 'Sql': 3, 'Graph Isomorphism': 4, 'Social Identity Theory': 4, 'Logic Gate': 4, 'Jbig': 3, 'Positivism': 4, 'Distance (Graph Theory)': 3, 'Earth Science': 4, 'Edoardo Airoldi': 4, 'Mathematica': 4, 'Postoperative Wounds': 4, 'Hull–White Model': 4, 'Immunization': 4, 'Infinite Graph': 4, 'Intelligence': 4, 'Anatol Rapoport': 4, 'Gpu': 4, 'Long Tail': 4, 'Existentialism': 4, 'Iso 7002': 3, 'Network Security': 4, 'Immunosuppression': 4, 'Path (Graph Theory)': 3, 'Pert': 4, 'Economic History': 4, 'Iso 14000': 3, 'Tree (Data Structure)': 4, 'Text Corpus': 4, 'Breaching Experiment': 4, \"Prisoner'S Dilemma\": 4, 'Sociology Of Scientific Knowledge': 4, 'Simulation': 4, 'Satellite Imagery': 4, 'Transmission Line': 4, 'Artificial Intelligence': 3, 'Modelling Biological Systems': 4, 'Infinitesimal Generator (Stochastic Processes)': 4, 'Social Structure': 4, 'Reciprocity (Social Psychology)': 4, 'Ecological Psychology': 4, 'Claude Berge': 4, 'Field-Programmable Gate Array': 4, 'Autoregressive Conditional Heteroskedasticity': 4, 'Plate Tectonics': 4, 'Tore Opsahl': 4, 'Smoke Signal': 4, 'Computation Theory': 4, 'Biopsychosocial Model': 4, 'Optical Fiber': 4, 'Risk Process': 4, 'G-Network': 4, 'Knowledge Representation And Reasoning': 4, 'Social Data Revolution': 4, 'Social Choice Theory': 4, 'Emojli': 4, 'Public Policy': 4, 'Symmetry': 4, 'Iso 3166-1': 3, 'Qr Code': 3, 'Infection': 4, 'Tuenti': 4, 'Dennis Sullivan': 4, 'Robert May, Baron May Of Oxford': 4, 'Qualitative Psychological Research': 4, 'Modifiable Areal Unit Problem': 4, 'Land-Use Planning': 4, 'Iso/Iec 6523': 3, 'Pascal (Programming Language)': 3, 'Iso 15706-2': 3, 'Crime Mapping': 4, \"Braess'S Paradox\": 4, 'Open Access Citation Advantage': 4, 'Systems Theory In Anthropology': 4, 'Professional Network Service': 4, 'Nationalism': 4, 'Iso/Iec 10116': 3, 'Microcontroller': 4, 'Agency (Sociology)': 4, 'Cyberspace': 4, 'Mary Mallon': 4, 'Randomized Algorithm': 4, 'Scientific Writing': 4, 'Bulk Queue': 4, 'Home Network': 4, 'Informal Mathematics': 4, 'Eyegroove': 4, 'David Mcclelland': 4, 'Sociology Of Art': 4, 'Interested Parties Information': 3, 'Polynomial': 4, 'Timeline Of Sociology': 4, 'Graphml': 4, 'Metric Space': 4, 'Vlan': 4, 'Www': 4, 'Connectivity (Graph Theory)': 4, 'Paul Erdős': 4, 'Triangle': 4, 'Society': 4, 'Analytic Number Theory': 4, 'Richard Dawkins': 4, 'Poisson Point Process': 4, 'Outline Of Sociology': 4, 'Islisp': 3, 'Ring (Mathematics)': 4, 'Wash': 4, 'Sociology Of The Family': 4, 'Semantic Triple': 4, 'Aminer (Database)': 4, 'Voronoi Diagram': 4, 'Advanced Video Coding': 3, 'Sciencescape': 4, 'Cognitive Dissonance': 4, 'Measure (Mathematics)': 4, 'Wireless Network': 4, 'Malcolm Gladwell': 4, 'Gregory Bateson': 4, 'Xgmml': 4, 'Web Site': 4, 'Turán Graph': 4, 'Private Law': 4, 'Iso/Iec 11179': 3, 'Infectious Disease (Medical Specialty)': 4, 'Grono.Net': 4, 'Vertex Separator': 4, \"Skorokhod'S Representation Theorem\": 4, 'On-Line Encyclopedia Of Integer Sequences': 4, 'M/M/1 Queue': 4, 'Iso 7200': 3, 'Educational Psychology': 4, 'Theory': 4, 'Discrete Probability Distribution': 4, 'Hyves': 4, 'Fisher–Tippett–Gnedenko Theorem': 4, 'Disease Cluster': 4, 'Nobel Prize': 4, 'Parsing': 4, 'Edsger W. Dijkstra': 4, 'Behavioural Sciences': 4, 'Plato': 4, 'Jagadish Chandra Bose': 4, 'Meerkat (App)': 4, 'Dictionary Of Algorithms And Data Structures': 4, 'Infectious Diseases': 4, 'American Mathematical Society': 4, 'Developing Country': 4, 'Psychology': 3, 'Antimagnetic Watch': 3, 'Doi (Identifier)': 3, 'Rural Sociology': 4, 'Conformity': 4, 'Roger Brown (Psychologist)': 4, 'Market Research': 4, 'Cycle Graph': 4, 'Donald Knuth': 4, 'Phigs': 3, 'Social Stratification': 4, 'Virtual Memory': 4, 'Needle Sharing': 4, 'Traveling Salesman Problem': 4, 'Engineering Mathematics': 4, 'Formation And Evolution Of The Solar System': 4, 'Mobli': 4, 'Discrete Geometry': 4, 'Military Sociology': 4, 'Antonio Meucci': 4, 'Iso/Iec 15897': 3, 'Edward Norton Lorenz': 4, 'Applied Behavior Analysis': 4, 'Graph Modelling Language': 4, 'Beta Distribution': 4, 'Survival Function': 4, 'Sociology Of Culture': 4, 'Cultural Capital': 4, 'Borel–Cantelli Lemma': 4, 'Digital Data': 4, 'Local Area Network': 4, 'Survival Analysis': 4, 'Population Model': 4, 'Iso 26000': 3, 'Social Complexity': 4, 'Natural Science': 4, 'Level Of Analysis': 4, 'Enterprise Software': 4, 'Node (Networking)': 4, 'Basic Research': 4, 'Stochastic Block Model': 3, 'Blog': 3, 'Sociology And Complexity Science': 4, 'Algebra': 4, 'International Standard Recording Code': 3, 'Middleware': 4, 'History Of The World Wide Web': 4, 'Agent-Based Model': 3, 'Slidely': 4, 'James Grier Miller': 4, 'Complex System': 3, 'Claude Chappe': 4, 'Jean Tirole': 4, 'Statistical Inference': 4, 'Logos': 4, 'Virtual International Authority File': 3, 'Moran Process': 4, 'Symbolic Interactionism': 4, 'Law Of The Iterated Logarithm': 4, 'John Logie Baird': 4, 'Pharmacology': 4, 'Social Movement Theory': 4, 'Prentice-Hall': 4, 'Social Invisibility': 4, 'Yann Lecun': 4, 'Age Of Earth': 4, 'Martingale Difference Sequence': 4, 'Social Change': 4, 'Performance': 3, 'Serial Item And Contribution Identifier': 4, 'Vertical Constraint Graph': 4, 'Travel Medicine': 4, 'Iso 639-1': 3, 'Citeseerx (Identifier)': 3, 'Virtual Community': 4, 'Review Article': 4, 'Economic': 3, 'Dendrogram': 4, 'Simple Graph': 4, 'Twitter': 4, 'Social Network Advertising': 4, 'Model Selection': 4, 'Mike Jackson (Systems Scientist)': 4, 'Business Process Modelling': 4, 'Likee': 4, 'Covid-19': 3, 'Processor Design': 4, 'Prevalence': 4, 'Decision Support System': 4, 'Traffic Psychology': 4, 'Capazoo': 4, 'Large Deviation Principle': 4, 'Mpeg-4': 3, 'Cognitive Map': 4, 'Tim Berners-Lee': 4, 'Delivery Multimedia Integration Framework': 3, 'Gordon Allport': 4, 'Observability': 4, 'Patent': 4, 'Computational Linguistics': 4, 'Goal Orientation': 4, 'Entertainment': 3, 'Commutative Algebra': 4, 'Matthew Effect (Sociology)': 3, 'System Dynamics': 4, 'Alfred Vail': 4, 'Almost Surely': 4, 'Serials Crisis': 4, 'Industrialisation': 4, 'History Of Prepaid Mobile Phones': 4, 'Spatial Evolutionary Biology': 4, 'Iso 31000': 3, 'Levi Graph': 4, 'Kenneth Arrow': 4, 'Input–Output Model': 4, 'Collaborative Finance': 4, 'System On A Chip': 4, 'Globular Set': 4, 'Phd': 4, 'Coates Graph': 4, 'Nikola Tesla': 4, 'Hypertext Transfer Protocol': 4, 'Feller-Continuous Process': 4, \"Doob'S Upcrossing Inequality\": 4, 'Digital Library': 4, 'Computer Science': 3, 'Rooted Graph': 4, 'A440 (Pitch Standard)': 3, 'Gillespie Algorithm': 4, 'Xing': 4, \"Donsker'S Theorem\": 4, 'Creator Economy': 4, 'Reka Albert': 4, 'Hans Eysenck': 4, 'Social Aspects Of Television': 4, 'White Paper': 4, 'Strongly Connected': 4, 'Open Virtualization Format': 3, 'Methodology': 4, 'Multibus': 3, 'Herd Behavior': 4, 'Tornado': 4, 'Diseases Of Poverty': 4, 'Configuration (Geometry)': 4, 'Iso 10962': 3, 'Iso 14224': 3, 'World War I': 4, 'Systems Ecology': 4, 'Rational Choice Theory': 4, 'Complete Bipartite Graph': 4, 'Theory Of Computation': 4, 'Iso 2848': 3, 'John Henry Holland': 4, 'Function (Mathematics)': 4, 'Linkedin': 4, 'Trove (Identifier)': 4, 'Streaming Media': 4, 'Circuit (Computer Science)': 4, 'Software Development Process': 4, 'Iso/Iec 8820-5': 3, 'Iso 15022': 3, 'Social Dynamics': 4, 'Journal Of Combinatorial Theory': 4, 'Phenotype': 4, 'Fuel Oil': 3, 'Comparative Historical Research': 4, 'Iso 15924': 3, 'Ancient Greek Language': 4, 'Spatial Ecology': 4, 'Cultural Psychology': 4, 'Border Gateway Protocol': 4, 'Physical Geography': 4, 'Pdf': 3, 'Annual Review Of Sociology': 4, 'Group Cohesiveness': 4, 'Variety (Cybernetics)': 4, 'Kolmogorov Extension Theorem': 4, 'Technical Report': 4, 'Organization': 4, 'Marketing': 4, 'History Of The Internet': 4, 'Studivz': 4, 'Negative Feedback': 4, 'Systems Analysis': 4, 'Mosquito-Borne Disease': 4, 'Anomie': 4, 'Loop-Erased Random Walk': 4, 'Christian Democracy': 4, 'Iso/Iec 9126': 3, 'Heinz Von Foerster': 4, 'Attitude (Psychology)': 4, \"Dynkin'S Formula\": 4, 'Tissue (Biology)': 4, 'Lists Of Mathematics Topics': 4, 'Iso 6943': 3, 'Graph Database': 4, 'Computer Accessibility': 4, 'Continuous-Time Stochastic Process': 4, 'Rdf Schema': 4, 'Diophantine Geometry': 4, 'Network Address': 4, 'Camille Tissot': 4, 'Glossary Of Graph Theory Terms': 4, 'Edmonds–Karp Algorithm': 4, 'Use Of Social Network Websites In Investigations': 4, 'Political Philosophy': 4, 'Stable Distribution': 4, 'Permalink': 4, 'Structuralism': 4, 'Belief Propagation': 4, 'Statistical Power': 4, 'Analytic Geometry': 4, 'Group (Mathematics)': 4, 'Dorothy E. Smith': 4, 'Ruby (Programming Language)': 3, 'Closure (Mathematics)': 4, 'Theoretical Computer Science': 4, 'If And Only If': 4, 'Hypergraph': 3, 'Health Psychology': 4, 'Martin Seligman': 4, 'Sdmx': 3, 'Market Liquidity': 4, 'Metabolic Network Modelling': 4, 'Loss Function': 4, 'Emmanuel-Joseph Sieyès': 4, 'Iso/Iec 8859-6': 3, 'Hproduct': 4, 'Personal Computer': 4, 'Iso 50001': 3, 'Queueing Theory': 4, 'Logistic Distribution': 4, 'David J.C. Mackay': 4, 'Social Graph': 4, 'Medical Sociology': 4, 'Carl Jung': 4, 'Real Analysis': 4, 'Image Compression': 4, 'Iso 16750': 3, 'Canada': 4, 'Multiset': 4, 'Iso 10303-28': 3, 'Display!': 4, 'Mixbit': 4, 'Common Object Request Broker Architecture': 3, 'X.500': 3, 'Iso 518': 3, 'Thorstein Veblen': 4, 'Personal Name': 4, 'Variance': 4, 'Multivariate Normal Distribution': 4, 'Iso 128': 3, 'Open-Source Software': 4, 'Homo Economicus': 4, 'Particle': 4, 'Bayesian Probability': 4, 'Tiktok': 4, 'Climate': 3, 'Pathogenicity': 4, 'Hunt Process': 4, 'Scale Invariance': 4, 'Surgical Mask': 4, 'Game': 4, 'Application-Level Profile Semantics (Alps)': 4, 'Formal System': 4, 'Albert-László Barabási': 3}\n"
          ]
        }
      ]
    },
    {
      "cell_type": "code",
      "source": [
        "print(nx.diameter(G,ecc))"
      ],
      "metadata": {
        "colab": {
          "base_uri": "https://localhost:8080/"
        },
        "id": "eT1sdCIdGfSK",
        "outputId": "869b8b62-e93b-409f-b5bb-0e182853db0d"
      },
      "execution_count": null,
      "outputs": [
        {
          "output_type": "stream",
          "name": "stdout",
          "text": [
            "4\n"
          ]
        }
      ]
    },
    {
      "cell_type": "markdown",
      "source": [
        "Measuring.py example"
      ],
      "metadata": {
        "id": "syaBnNIvGhU0"
      }
    },
    {
      "cell_type": "code",
      "source": [
        "from networkx.drawing.nx_agraph import graphviz_layout"
      ],
      "metadata": {
        "id": "iWM0FpPJGhCL"
      },
      "execution_count": null,
      "outputs": []
    },
    {
      "cell_type": "code",
      "source": [
        "dgr = nx.degree_centrality(G)\n",
        "clo = nx.closeness_centrality(G)\n",
        "har = nx.harmonic_centrality(G)\n",
        "eig = nx.eigenvector_centrality(G)\n",
        "bet = nx.betweenness_centrality(G)\n",
        "pgr = nx.pagerank(G)\n",
        "hits = nx.hits(G)\n",
        "\n",
        "centralities =pd.concat(\n",
        "    [pd.Series(c) for c in (hits[1], eig, pgr, har, clo, hits[0], dgr, bet)], axis = 1)\n",
        "\n",
        "centralities.columns = (\"Authorities\", \"Eigenvector\", \"PageRank\", \"Harmonic Closeness\", \"Closeness\", \"Hubs\", \"Degree\", \"Betweeness\")\n",
        "\n",
        "centralities[ \"Harmonic Closeness\"] /= centralities.shape[0]"
      ],
      "metadata": {
        "id": "_B-YXTdVGlfh"
      },
      "execution_count": null,
      "outputs": []
    },
    {
      "cell_type": "code",
      "source": [
        "#calculate correlations for each pair of centralities\n",
        "\n",
        "c_df = centralities.corr()\n",
        "ll_triangle = np.tri(c_df.shape[0], k=-1)\n",
        "c_df *= ll_triangle\n",
        "c_series = c_df.stack().sort_values()\n",
        "c_series.tail()"
      ],
      "metadata": {
        "colab": {
          "base_uri": "https://localhost:8080/"
        },
        "id": "bVO0ziF7GnK8",
        "outputId": "e0cf48d6-3dd9-4e6c-a5f3-1a70e6c95ce5"
      },
      "execution_count": null,
      "outputs": [
        {
          "output_type": "execute_result",
          "data": {
            "text/plain": [
              "PageRank     Authorities           0.814857\n",
              "Betweeness   Degree                0.837449\n",
              "PageRank     Eigenvector           0.902395\n",
              "Closeness    Harmonic Closeness    0.949402\n",
              "Eigenvector  Authorities           0.958467\n",
              "dtype: float64"
            ]
          },
          "metadata": {},
          "execution_count": 139
        }
      ]
    },
    {
      "cell_type": "code",
      "source": [
        "X = \"Harmonic Closeness\"\n",
        "Y = \"Eigenvector\"\n",
        "limits = pd.concat([centralities[[X,Y]].min(), centralities[[X,Y]].max()], axis=1).values\n",
        "centralities.plot(kind='scatter', x=X, y=Y, xlim = limits[0], ylim=limits[1], s=75, logy=True, alpha=0.5)"
      ],
      "metadata": {
        "colab": {
          "base_uri": "https://localhost:8080/",
          "height": 296
        },
        "id": "dBc5JcLzGoed",
        "outputId": "4c83b424-4b4e-443c-ed60-94469c3d9dcb"
      },
      "execution_count": null,
      "outputs": [
        {
          "output_type": "execute_result",
          "data": {
            "text/plain": [
              "<matplotlib.axes._subplots.AxesSubplot at 0x7fc5e2f3ea50>"
            ]
          },
          "metadata": {},
          "execution_count": 140
        },
        {
          "output_type": "display_data",
          "data": {
            "text/plain": [
              "<Figure size 432x288 with 1 Axes>"
            ],
            "image/png": "[encoded data removed]"
          },
          "metadata": {}
        }
      ]
    },
    {
      "cell_type": "code",
      "source": [
        "my_degree, their_degree = zip(*nx.average_degree_connectivity(G).items())"
      ],
      "metadata": {
        "id": "phNP29MZGp-E"
      },
      "execution_count": null,
      "outputs": []
    },
    {
      "cell_type": "code",
      "source": [
        "nx.attribure_mixing_matrix(G, \"gender\", mapping={\"M\": 0, \"F\": 1})"
      ],
      "metadata": {
        "colab": {
          "base_uri": "https://localhost:8080/",
          "height": 287
        },
        "id": "VluD6jBFGrqq",
        "outputId": "b6b039ff-eadd-4230-cb8c-f26558589625"
      },
      "execution_count": null,
      "outputs": [
        {
          "output_type": "error",
          "ename": "AttributeError",
          "evalue": "ignored",
          "traceback": [
            "\u001b[0;31m---------------------------------------------------------------------------\u001b[0m",
            "\u001b[0;31mAttributeError\u001b[0m                            Traceback (most recent call last)",
            "\u001b[0;32m<ipython-input-145-a0f3fb084913>\u001b[0m in \u001b[0;36m<module>\u001b[0;34m\u001b[0m\n\u001b[0;32m----> 1\u001b[0;31m \u001b[0mnx\u001b[0m\u001b[0;34m.\u001b[0m\u001b[0mattribure_mixing_matrix\u001b[0m\u001b[0;34m(\u001b[0m\u001b[0mG\u001b[0m\u001b[0;34m,\u001b[0m \u001b[0;34m\"gender\"\u001b[0m\u001b[0;34m,\u001b[0m \u001b[0mmapping\u001b[0m\u001b[0;34m=\u001b[0m\u001b[0;34m{\u001b[0m\u001b[0;34m\"M\"\u001b[0m\u001b[0;34m:\u001b[0m \u001b[0;36m0\u001b[0m\u001b[0;34m,\u001b[0m \u001b[0;34m\"F\"\u001b[0m\u001b[0;34m:\u001b[0m \u001b[0;36m1\u001b[0m\u001b[0;34m}\u001b[0m\u001b[0;34m)\u001b[0m\u001b[0;34m\u001b[0m\u001b[0;34m\u001b[0m\u001b[0m\n\u001b[0m",
            "\u001b[0;32m/usr/local/lib/python3.7/dist-packages/networkx/__init__.py\u001b[0m in \u001b[0;36m__getattr__\u001b[0;34m(name)\u001b[0m\n\u001b[1;32m     49\u001b[0m             \u001b[0;34m\"This message will be removed in NetworkX 3.0.\"\u001b[0m\u001b[0;34m\u001b[0m\u001b[0;34m\u001b[0m\u001b[0m\n\u001b[1;32m     50\u001b[0m         )\n\u001b[0;32m---> 51\u001b[0;31m     \u001b[0;32mraise\u001b[0m \u001b[0mAttributeError\u001b[0m\u001b[0;34m(\u001b[0m\u001b[0;34mf\"module {__name__} has no attribute {name}\"\u001b[0m\u001b[0;34m)\u001b[0m\u001b[0;34m\u001b[0m\u001b[0;34m\u001b[0m\u001b[0m\n\u001b[0m\u001b[1;32m     52\u001b[0m \u001b[0;34m\u001b[0m\u001b[0m\n\u001b[1;32m     53\u001b[0m \u001b[0;34m\u001b[0m\u001b[0m\n",
            "\u001b[0;31mAttributeError\u001b[0m: module networkx has no attribute attribure_mixing_matrix"
          ]
        }
      ]
    },
    {
      "cell_type": "code",
      "source": [
        "nx.attribute_assortativity_coefficient(G, \"gender\")"
      ],
      "metadata": {
        "colab": {
          "base_uri": "https://localhost:8080/"
        },
        "id": "V_BdGONpIhW2",
        "outputId": "d3d31b79-471b-4399-8dff-7f48f605e381"
      },
      "execution_count": null,
      "outputs": [
        {
          "output_type": "stream",
          "name": "stderr",
          "text": [
            "/usr/local/lib/python3.7/dist-packages/networkx/algorithms/assortativity/correlation.py:261: RuntimeWarning: invalid value encountered in double_scalars\n",
            "  r = (t - s) / (1 - s)\n"
          ]
        },
        {
          "output_type": "execute_result",
          "data": {
            "text/plain": [
              "nan"
            ]
          },
          "metadata": {},
          "execution_count": 143
        }
      ]
    },
    {
      "cell_type": "code",
      "source": [
        "nx.attribute_assortativity_coefficient(G, \"age\")"
      ],
      "metadata": {
        "colab": {
          "base_uri": "https://localhost:8080/"
        },
        "id": "nUlXDYHDIhqF",
        "outputId": "379e957b-07dc-41a7-f097-ee9ff5da893a"
      },
      "execution_count": null,
      "outputs": [
        {
          "output_type": "execute_result",
          "data": {
            "text/plain": [
              "nan"
            ]
          },
          "metadata": {},
          "execution_count": 144
        }
      ]
    },
    {
      "cell_type": "markdown",
      "source": [
        "##Chapter 9"
      ],
      "metadata": {
        "id": "rlSZixyysnKy"
      }
    },
    {
      "cell_type": "code",
      "source": [
        "import pickle\n",
        "import itertools\n",
        "from collections import Counter\n",
        "from networkx.drawing.nx_agraph import graphviz_layout\n",
        "import dzcnapy_plotlib as dzcnapy"
      ],
      "metadata": {
        "id": "oD5NPuoQsnyc",
        "colab": {
          "base_uri": "https://localhost:8080/",
          "height": 354
        },
        "outputId": "6b002169-b6ad-4eeb-fc56-3d137f3ab7b6"
      },
      "execution_count": null,
      "outputs": [
        {
          "output_type": "error",
          "ename": "ModuleNotFoundError",
          "evalue": "ignored",
          "traceback": [
            "\u001b[0;31m---------------------------------------------------------------------------\u001b[0m",
            "\u001b[0;31mModuleNotFoundError\u001b[0m                       Traceback (most recent call last)",
            "\u001b[0;32m<ipython-input-1-6db1c60f95ec>\u001b[0m in \u001b[0;36m<module>\u001b[0;34m\u001b[0m\n\u001b[1;32m      3\u001b[0m \u001b[0;32mfrom\u001b[0m \u001b[0mcollections\u001b[0m \u001b[0;32mimport\u001b[0m \u001b[0mCounter\u001b[0m\u001b[0;34m\u001b[0m\u001b[0;34m\u001b[0m\u001b[0m\n\u001b[1;32m      4\u001b[0m \u001b[0;32mfrom\u001b[0m \u001b[0mnetworkx\u001b[0m\u001b[0;34m.\u001b[0m\u001b[0mdrawing\u001b[0m\u001b[0;34m.\u001b[0m\u001b[0mnx_agraph\u001b[0m \u001b[0;32mimport\u001b[0m \u001b[0mgraphviz_layout\u001b[0m\u001b[0;34m\u001b[0m\u001b[0;34m\u001b[0m\u001b[0m\n\u001b[0;32m----> 5\u001b[0;31m \u001b[0;32mimport\u001b[0m \u001b[0mdzcnapy_plotlib\u001b[0m \u001b[0;32mas\u001b[0m \u001b[0mdzcnapy\u001b[0m\u001b[0;34m\u001b[0m\u001b[0;34m\u001b[0m\u001b[0m\n\u001b[0m",
            "\u001b[0;31mModuleNotFoundError\u001b[0m: No module named 'dzcnapy_plotlib'",
            "",
            "\u001b[0;31m---------------------------------------------------------------------------\u001b[0;32m\nNOTE: If your import is failing due to a missing package, you can\nmanually install dependencies using either !pip or !apt.\n\nTo view examples of installing some common dependencies, click the\n\"Open Examples\" button below.\n\u001b[0;31m---------------------------------------------------------------------------\u001b[0m\n"
          ],
          "errorDetails": {
            "actions": [
              {
                "action": "open_url",
                "actionText": "Open Examples",
                "url": "/notebooks/snippets/importing_libraries.ipynb"
              }
            ]
          }
        }
      ]
    },
    {
      "cell_type": "code",
      "source": [
        "EDGES = \"beneficiary\"\n",
        "NODES = ((\"Entities.csv\", \"jurisdiction\", \"name\"),\n",
        "         (\"Officers.csv\", \"country_codes\", \"name\"),\n",
        "         (\"Intermediaries.csv\", \"country_codes\", \"name\"))"
      ],
      "metadata": {
        "id": "HAAkuIEyJleY"
      },
      "execution_count": null,
      "outputs": []
    },
    {
      "cell_type": "code",
      "source": [
        "from typing_extensions import reveal_type\n",
        "panama = nx.Graph()\n",
        "\n",
        "with open(\"all_edges.csv\") as infile:\n",
        "    data = csv.DictReader(infile)\n",
        "    panama.add_edges_from((link[\"node_1\"], link[\"node_2\"])\n",
        "    for link in data\n",
        "    if link[\"rel_type\"].lower().startswith(EDGES))"
      ],
      "metadata": {
        "id": "27XCf_CEJnCi"
      },
      "execution_count": null,
      "outputs": []
    },
    {
      "cell_type": "code",
      "source": [
        "nodes = set(panama.nodes())\n",
        "relabel = {}\n",
        "\n",
        "for f, cc, name in NODES:\n",
        "    with open(f) as infile:\n",
        "        kind = f.split(\".\")[0]\n",
        "        data = csv.DictReader(infile)\n",
        "        names_countries = {node[\"node_id\"] :\n",
        "                           (node[name].strip().upper(), node[cc])\n",
        "                           for node in data\n",
        "                           if node[\"node_id\"] in nodes}\n",
        "    names =     {nid: values[0] for nid, values in names_countries.items()}\n",
        "    countries = {nid: values[1] for nid, values in names_countries.items()}\n",
        "    kinds =     {nid: kind      for nid, _      in names_countries.items()}\n",
        "    nx.set_node_attributes(panama, countries, \"country\")\n",
        "    nx.set_node_attributes(panama, kinds, \"kind\")\n",
        "    relabel.update(names)\n",
        "\n",
        "nx.relabel_nodes(panama, relabel, copy=False)\n",
        "\n",
        "if \"ISSUES OF:\" in panama:\n",
        "    panama.remove_node(\"ISSUES OF:\")\n",
        "\n",
        "if \"\" in panama:\n",
        "    panama.remove_node(\"\")\n",
        "\n",
        "print(nx.number_of_nodes(panama), nx.number_of_edges(panama))"
      ],
      "metadata": {
        "colab": {
          "base_uri": "https://localhost:8080/"
        },
        "id": "SzgZS2e7UVoo",
        "outputId": "1582d7ca-9292-48b6-9bac-9fe5d014aae2"
      },
      "execution_count": null,
      "outputs": [
        {
          "output_type": "stream",
          "name": "stdout",
          "text": [
            "27926 19135\n"
          ]
        }
      ]
    },
    {
      "cell_type": "code",
      "source": [
        "components =  [p.nodes() for p in (panama.subgraph(c) for c in nx.connected_components(panama))\n",
        "              if nx.number_of_nodes(p) >= 20\n",
        "              or nx.number_of_edges(p) >= 20]\n",
        "\n",
        "panama0 = panama.subgraph(itertools.chain.from_iterable(components))\n",
        "\n",
        "print(nx.number_of_nodes(panama0), nx.number_of_edges(panama0))\n",
        "\n",
        "with open(\"panama-beneficiary.pickle\", \"wb\") as outfile:\n",
        "    pickle.dump(panama0, outfile)"
      ],
      "metadata": {
        "colab": {
          "base_uri": "https://localhost:8080/"
        },
        "id": "hjlLnlV0U1Bk",
        "outputId": "d8ae0d42-d868-4962-bc7d-627db321588e"
      },
      "execution_count": null,
      "outputs": [
        {
          "output_type": "stream",
          "name": "stdout",
          "text": [
            "1393 1926\n"
          ]
        }
      ]
    },
    {
      "cell_type": "markdown",
      "source": [
        "Draw the network"
      ],
      "metadata": {
        "id": "QYoQes1YfHD1"
      }
    },
    {
      "cell_type": "code",
      "source": [
        "cdict = {\"Entities\": \"pink\", \"Officers\": \"blue\", \n",
        "         \"Intermediaries\" : \"green\"}\n",
        "c = [cdict[panama0.nodes[n][\"kind\"]] for n in panama0]\n",
        "dzcnapy.small_attrs[\"node_color\"] = c\n",
        "pos = graphviz_layout(panama0)\n",
        "nx.draw_networkx(panama0, pos=pos, with_labels=False, **dzcnapy.small_attrs)\n",
        "dzcnapy.set_extent(pos, plt)\n",
        "dzcnapy.plot(\"panama0\")"
      ],
      "metadata": {
        "colab": {
          "base_uri": "https://localhost:8080/",
          "height": 297
        },
        "id": "g2oMTY3XU9as",
        "outputId": "0232bb09-b88f-4bb9-cd9a-ee7487d7c0a3"
      },
      "execution_count": null,
      "outputs": [
        {
          "output_type": "display_data",
          "data": {
            "text/plain": [
              "<Figure size 432x288 with 1 Axes>"
            ],
            "image/png": "[encoded data removed]"
          },
          "metadata": {}
        }
      ]
    },
    {
      "cell_type": "markdown",
      "source": [
        "Analyze the network"
      ],
      "metadata": {
        "id": "XWNapB0pVCou"
      }
    },
    {
      "cell_type": "code",
      "source": [
        "nx.attribute_assortativity_coefficient(panama0, \"kind\")\n",
        "nx.attribute_mixing_matrix(panama0, \"kind\",\n",
        "                           mapping={\"Entities\": 0, \"Officers\": 1,\n",
        "                                    \"Intermediaries\" : 2})\n",
        "nx.attribute_assortativity_coefficient(panama0, \"country\")\n",
        "nx.degree_assortativity_coefficient(panama0)\n",
        "\n",
        "deg = dict(nx.degree(panama0))\n",
        "x, y = zip(*Counter(deg.values()).items())\n",
        "\n",
        "plt.scatter(x, y, s=100, c=\"pink\")\n",
        "plt.xscale(\"log\")\n",
        "plt.yscale(\"log\")\n",
        "plt.legend()\n",
        "plt.xlim(0.9, max(x))\n",
        "plt.ylim(0.9, max(y))\n",
        "plt.xlabel(\"Degree\")\n",
        "plt.ylabel(\"Frequency\")\n",
        "dzcnapy.plot(\"panama-beneficiaries\")\n",
        "\n",
        "top10 = sorted([(n, panama0.nodes[n][\"kind\"], v) for n, v in deg.items()],\n",
        "               key=lambda x: x[2], reverse=True)[:10]\n",
        "print(\"\\n\".join([\"{} ({}): {}\".format(*t) for t in top10]))"
      ],
      "metadata": {
        "colab": {
          "base_uri": "https://localhost:8080/",
          "height": 488
        },
        "id": "A3l79pNaiySt",
        "outputId": "f459d51c-8f49-4c7b-e28d-1a6b3a32a9ab"
      },
      "execution_count": null,
      "outputs": [
        {
          "output_type": "stream",
          "name": "stderr",
          "text": [
            "WARNING:matplotlib.legend:No handles with labels found to put in legend.\n"
          ]
        },
        {
          "output_type": "display_data",
          "data": {
            "text/plain": [
              "<Figure size 432x288 with 1 Axes>"
            ],
            "image/png": "[encoded data removed]"
          },
          "metadata": {}
        },
        {
          "output_type": "stream",
          "name": "stdout",
          "text": [
            "HELITING S.A. (Officers): 80\n",
            "T.K.B.K. INTERNATIONAL TRUST (Entities): 39\n",
            "WORLDWIDE COM-NET INTERNATIONAL TRUST (Entities): 37\n",
            "THE CLAUDIUS TRUST (Entities): 36\n",
            "GUANGZHOU CONSTRUCTION & DEVELOPMENT HOLDINGS (CHINA)LIMITED (Officers): 29\n",
            "RICARDO CAMPOLLO CODINA (Officers): 27\n",
            "ISLANDS INTERNATIONAL TRUST (Entities): 27\n",
            "FRIENDS OF ASSISI TRUST (Entities): 26\n",
            "ZEN TRUST (Entities): 26\n",
            "MARK OMELNITSKI (Officers): 26\n"
          ]
        }
      ]
    },
    {
      "cell_type": "markdown",
      "source": [
        "Network with pandas\n"
      ],
      "metadata": {
        "id": "hJxUWonHVVS8"
      }
    },
    {
      "cell_type": "code",
      "source": [
        "edges = pd.read_csv(\"all_edges.csv\")\n",
        "edges = edges[edges[\"rel_type\"] != \"registered address\"]\n",
        "F = nx.from_pandas_edgelist(edges, \"node_1\", \"node_2\")\n",
        "\n",
        "\n",
        "officers = pd.read_csv(\"Officers.csv\", index_col = \"node_id\")\n",
        "intermediaries = pd.read_csv(\"Intermediaries.csv\", index_col = \"node_id\")\n",
        "entities = pd.read_csv(\"Entities.csv\", index_col = \"node_id\")\n",
        "\n",
        "officers[\"type\"] = \"officer\"\n",
        "intermediaries[\"type\"] = \"intermediary\"\n",
        "entities[\"type\"] = \"entity\"\n",
        "\n",
        "all_nodes = pd.concat([officers, intermediaries, entities])"
      ],
      "metadata": {
        "colab": {
          "base_uri": "https://localhost:8080/"
        },
        "id": "opdnn_WjVYuZ",
        "outputId": "ae842436-c28e-4b0b-bdb4-f47dab9fdd78"
      },
      "execution_count": null,
      "outputs": [
        {
          "output_type": "stream",
          "name": "stderr",
          "text": [
            "/usr/local/lib/python3.7/dist-packages/IPython/core/interactiveshell.py:3326: DtypeWarning: Columns (1,7) have mixed types.Specify dtype option on import or set low_memory=False.\n",
            "  exec(code_obj, self.user_global_ns, self.user_ns)\n",
            "/usr/local/lib/python3.7/dist-packages/IPython/core/interactiveshell.py:3326: DtypeWarning: Columns (1,2,5,6,9,10,11,12,13,15,16,17) have mixed types.Specify dtype option on import or set low_memory=False.\n",
            "  exec(code_obj, self.user_global_ns, self.user_ns)\n"
          ]
        }
      ]
    },
    {
      "cell_type": "code",
      "source": [
        "all_nodes[\"name\"] = all_nodes[\"name\"].str.upper().str.strip()\n",
        "\n",
        "all_nodes[\"name\"].replace(\n",
        "    to_replace=[r\"MRS?\\.\\s+\", r\"\\.\", r\"\\s+\", \"LIMITED\", \"THE BEARER\",\n",
        "                 \"BEARER\", \"BEARER 1\", \"EL PORTADOR\", \"AL PORTADOR\"],\n",
        "    value=[\"\", \"\", \" \", \"LTD\", np.nan, np.nan, np.nan, np.nan, np.nan],\n",
        "    inplace=True, regex=True)\n"
      ],
      "metadata": {
        "id": "8ML_FlWsVYrR"
      },
      "execution_count": null,
      "outputs": []
    },
    {
      "cell_type": "code",
      "source": [
        "CCODES = \"UZB\", \"TKM\", \"KAZ\", \"KGZ\", \"TJK\"\n",
        "seeds = all_nodes[all_nodes[\"country_codes\"].isin(CCODES)].index\n",
        "nodes_of_interest = set.union(*[\\\n",
        "        set(nx.single_source_shortest_path_length(F, seed, cutoff=2).keys())\n",
        "        for seed in seeds])\n",
        "\n",
        "ego = nx.subgraph(F, nodes_of_interest)\n",
        "\n",
        "nodes = all_nodes.loc[ego]\n",
        "nodes = nodes[~nodes.index.duplicated()]\n",
        "nx.set_node_attributes(ego, nodes[\"country_codes\"], \"cc\")\n",
        "valid_names = nodes[nodes[\"name\"].notnull()][\"name\"].to_dict()\n",
        "#nx.relabel_nodes(ego, valid_names, copy=False)\n",
        "#because IX does not exists, used LOC wich makes it impossible to change the df\n",
        "\n",
        "with open(\"panama-ca.graphml\", \"wb\") as ofile:\n",
        "    nx.write_graphml(ego, ofile)"
      ],
      "metadata": {
        "id": "3zSYMQLoVYn4"
      },
      "execution_count": null,
      "outputs": []
    },
    {
      "cell_type": "markdown",
      "source": [
        "##Chapter 10\n",
        "\n",
        "No codes"
      ],
      "metadata": {
        "id": "_rVHFlO_soEE"
      }
    },
    {
      "cell_type": "markdown",
      "source": [
        "##Chapter 11"
      ],
      "metadata": {
        "id": "KY-49EcEsqEE"
      }
    },
    {
      "cell_type": "markdown",
      "source": [
        "Locate Isolates"
      ],
      "metadata": {
        "id": "nBcbSsnp3P0e"
      }
    },
    {
      "cell_type": "code",
      "source": [
        "G = nx.Graph()\n",
        "G.add_nodes_from(\"ABCD\")\n",
        "my_isolates = nx.isolates(G)\n",
        "list(my_isolates)"
      ],
      "metadata": {
        "id": "MJY4RGJwsqsa"
      },
      "execution_count": null,
      "outputs": []
    },
    {
      "cell_type": "code",
      "source": [
        "G.remove_nodes_from(list(my_isolates))\n",
        "my_isolates = nx.isolates(G)\n",
        "list(my_isolates)"
      ],
      "metadata": {
        "id": "gSGa10op3RfW"
      },
      "execution_count": null,
      "outputs": []
    },
    {
      "cell_type": "markdown",
      "source": [
        "Makefigues.py example"
      ],
      "metadata": {
        "id": "B-WCIr9e3TBx"
      }
    },
    {
      "cell_type": "markdown",
      "source": [
        "Split Networks into conencted components"
      ],
      "metadata": {
        "id": "LsY_h-tg3c43"
      }
    },
    {
      "cell_type": "code",
      "source": [
        "F = nx.DiGraph()\n",
        "F.add_edges_from([(\"A\", \"a0\"), (\"a0\", \"a1\"), (\"a1\", \"a2\"), (\"a1\", \"a3\"), (\"a3\", \"A\")])\n",
        "F.add_edges_from([(\"B\", \"b0\"), (\"b0\", \"b1\"), (\"b1\", \"B\")])\n",
        "F.add_node(\"C\")"
      ],
      "metadata": {
        "id": "A4iuYwkS3UO6"
      },
      "execution_count": null,
      "outputs": []
    },
    {
      "cell_type": "code",
      "source": [
        "list(nx.weakly_connected_components(F))"
      ],
      "metadata": {
        "id": "lW_-xXHh3fvE"
      },
      "execution_count": null,
      "outputs": []
    },
    {
      "cell_type": "code",
      "source": [
        "list(nx.strongly_connected_components(F))"
      ],
      "metadata": {
        "id": "l4bjugB-3iaH"
      },
      "execution_count": null,
      "outputs": []
    },
    {
      "cell_type": "code",
      "source": [
        "G = nx.Graph(F)\n",
        "list(nx.connected_components(G))"
      ],
      "metadata": {
        "id": "r--ID3qj3jxN"
      },
      "execution_count": null,
      "outputs": []
    },
    {
      "cell_type": "code",
      "source": [
        "wcc = nx.subgraph(F, list(nx.weakly_connected_components(F))[1])\n",
        "len(wcc)"
      ],
      "metadata": {
        "id": "O_pgl2wJ3k4L"
      },
      "execution_count": null,
      "outputs": []
    },
    {
      "cell_type": "code",
      "source": [
        "comp_gen = nx.connected_components(G)\n",
        "gcc  = sorted(comp_gen, key=len, reverse=True)[0]"
      ],
      "metadata": {
        "id": "93ESWs-p3nzR"
      },
      "execution_count": null,
      "outputs": []
    },
    {
      "cell_type": "markdown",
      "source": [
        "Separte cores, shells, coronas, and crusts"
      ],
      "metadata": {
        "id": "9ykUR_Z03pXX"
      }
    },
    {
      "cell_type": "code",
      "source": [
        "G = nx.Graph(\n",
        "    ((\"Alpha\", \"Bravo\"), (\"Bravo\", \"Charlie\"), (\"Charlie\", \"Delta\"),\n",
        "     (\"Charlie\", \"Echo\"), (\"Charlie\", \"Foxtrot\"), (\"Delta\", \"Echo\"),\n",
        "     (\"Delta\", \"Foxtrot\"), (\"Echo\", \"Foxtrot\"), (\"Echo\", \"Golf\"), \n",
        "     (\"Echo\", \"Hotel\"), (\"Foxtrot\", \"Golf\"), (\"Foxtrot\", \"Hotel\"), \n",
        "     (\"Delta\", \"Hotel\"), (\"Golf\", \"Hotel\"), (\"Delta\", \"India\"), \n",
        "     (\"Charlie\", \"India\"), (\"India\", \"Juliet\"), (\"Golf\", \"Kilo\"), \n",
        "     (\"Alpha\", \"Kilo\"), (\"Bravo\", \"Lima\")))"
      ],
      "metadata": {
        "id": "5JE2zmFb3qQD"
      },
      "execution_count": null,
      "outputs": []
    },
    {
      "cell_type": "code",
      "source": [
        "nx.k_core(G).nodes()"
      ],
      "metadata": {
        "id": "6eaAKcCG3qNb"
      },
      "execution_count": null,
      "outputs": []
    },
    {
      "cell_type": "code",
      "source": [
        "nx.k_crust(G).nodes()"
      ],
      "metadata": {
        "id": "7mKQdFsS3qK4"
      },
      "execution_count": null,
      "outputs": []
    },
    {
      "cell_type": "code",
      "source": [
        "nx.k_shell(G).nodes()"
      ],
      "metadata": {
        "id": "452eHUhD3qEl"
      },
      "execution_count": null,
      "outputs": []
    },
    {
      "cell_type": "code",
      "source": [
        "nx.k_corona(G, k=3).nodes()"
      ],
      "metadata": {
        "id": "pEyVplLf3u9t"
      },
      "execution_count": null,
      "outputs": []
    },
    {
      "cell_type": "markdown",
      "source": [
        "Extract cliques"
      ],
      "metadata": {
        "id": "nznPJCDE3x1o"
      }
    },
    {
      "cell_type": "code",
      "source": [
        "G = nx.complete_graph(5, nx.Graph())\n",
        "\n",
        "nx.relabel_nodes(G,\n",
        "                 dict(enumerate((\"Alpha\", \"Bravo\", \"Charlie\", \"Delta\", \"Echo\"))),\n",
        "                 copy = False)\n",
        "\n",
        "G.add_edges_from([\n",
        "        (\"Echo\", \"Foxtrot\"), (\"Foxtrot\", \"Golf\"), (\"Foxtrot\", \"Hotel\"), \n",
        "        (\"Golf\", \"Hotel\")])"
      ],
      "metadata": {
        "id": "o_DycYJr3yuP"
      },
      "execution_count": null,
      "outputs": []
    },
    {
      "cell_type": "code",
      "source": [
        "list(nx.find_cliques(G))"
      ],
      "metadata": {
        "id": "fWa-vWVi3yrS"
      },
      "execution_count": null,
      "outputs": []
    },
    {
      "cell_type": "code",
      "source": [
        "synthetic = nx.make_max_clique_graph(G)\n",
        "list(synthetic.edges())"
      ],
      "metadata": {
        "id": "nlcoDtUz3ym8"
      },
      "execution_count": null,
      "outputs": []
    },
    {
      "cell_type": "markdown",
      "source": [
        "Recognize clique communites"
      ],
      "metadata": {
        "id": "FWlh8lBF4E95"
      }
    },
    {
      "cell_type": "code",
      "source": [
        "from community import community_louvain\n",
        "from networkx.algorithms.community import k_clique_communities"
      ],
      "metadata": {
        "id": "j68hrNEM4H0h"
      },
      "execution_count": null,
      "outputs": []
    },
    {
      "cell_type": "code",
      "source": [
        "list(k_clique_communities(G, 3))"
      ],
      "metadata": {
        "id": "V7C7QT4N4IbO"
      },
      "execution_count": null,
      "outputs": []
    },
    {
      "cell_type": "markdown",
      "source": [
        "Outline Modularity-based communities"
      ],
      "metadata": {
        "id": "bscGQQms4K95"
      }
    },
    {
      "cell_type": "code",
      "source": [
        "part = community_louvain.best_partition(G)\n",
        "print(part)"
      ],
      "metadata": {
        "id": "aYcaZ2014L22"
      },
      "execution_count": null,
      "outputs": []
    },
    {
      "cell_type": "code",
      "source": [
        "community_louvain.modularity(part,G)"
      ],
      "metadata": {
        "id": "MiukHw4J4LxW"
      },
      "execution_count": null,
      "outputs": []
    },
    {
      "cell_type": "code",
      "source": [
        "induced = community_louvain.induced_graph(part,G)\n",
        "induced.nodes()"
      ],
      "metadata": {
        "id": "jg3rg4rB4LoY"
      },
      "execution_count": null,
      "outputs": []
    },
    {
      "cell_type": "code",
      "source": [
        "induced.edges()"
      ],
      "metadata": {
        "id": "Dyxa4goi4Onr"
      },
      "execution_count": null,
      "outputs": []
    },
    {
      "cell_type": "markdown",
      "source": [
        "Explore modularity-based communities with pandas"
      ],
      "metadata": {
        "id": "0I_Tj8ZD4S6k"
      }
    },
    {
      "cell_type": "code",
      "source": [
        "part_as_series = pd.Series(part)\n",
        "part_as_series.sort_values()"
      ],
      "metadata": {
        "id": "2AJkWZic4Rq2"
      },
      "execution_count": null,
      "outputs": []
    },
    {
      "cell_type": "code",
      "source": [
        "part_as_series.value_counts()"
      ],
      "metadata": {
        "id": "XWyn0Gzw4TrQ"
      },
      "execution_count": null,
      "outputs": []
    },
    {
      "cell_type": "markdown",
      "source": [
        "Perform blockmodeling"
      ],
      "metadata": {
        "id": "XEs7nRiR4V3U"
      }
    },
    {
      "cell_type": "code",
      "source": [
        "cliques = list(nx.find_cliques(G))\n",
        "cliques"
      ],
      "metadata": {
        "id": "_mYjx5UB4Wnv"
      },
      "execution_count": null,
      "outputs": []
    },
    {
      "cell_type": "code",
      "source": [
        "synthetic = nx.quotient_graph(G, [cliques[0], cliques[1]])\n",
        "synthetic.edges()\n",
        "#networkx does not have the funciton nx.blockmodeling anymore\n",
        "#and it has been replaced with quotient_graph module  "
      ],
      "metadata": {
        "id": "jkBx150p4X9k"
      },
      "execution_count": null,
      "outputs": []
    },
    {
      "cell_type": "code",
      "source": [],
      "metadata": {
        "id": "X87hlZX2spim"
      },
      "execution_count": null,
      "outputs": []
    },
    {
      "cell_type": "markdown",
      "source": [
        "##Chapter 12"
      ],
      "metadata": {
        "id": "mKYvDnX_spA5"
      }
    },
    {
      "cell_type": "code",
      "source": [
        "nltk.download('all')"
      ],
      "metadata": {
        "id": "9UMejnt94gKG"
      },
      "execution_count": null,
      "outputs": []
    },
    {
      "cell_type": "code",
      "source": [
        "def download(base, domain_name):\n",
        "  members_url = \"{}/fdata.bml?user={}&comm=1\".format(base, domain_name) \n",
        "  members = pd.read_table(members_url, sep=\" \", \n",
        "                            comment=\"#\", names=(\"direction\", \"uid\"))\n",
        "\n",
        "  wnl = nltk.WordNetLemmatizer() \n",
        "  stop = set(nltk.corpus.stopwords.words('english')) | set(('&'))\n",
        "  term_vectors = []\n",
        "  for user in members.uid.unique():\n",
        "    print(\"Loading {}\".format(user))\n",
        "    user_url = \"{}/interestdata.bml?user={}\".format(base, user)\n",
        "       \n",
        "    try: \n",
        "      with urllib.request.urlopen(user_url) as source:\n",
        "               raw_interests = [line.decode().lower().strip() \n",
        "                                 for line in source.readlines()]\n",
        "    except:\n",
        "      print(\"Could not open {}\".format(user_url)) \n",
        "      continue\n",
        "\n",
        "    if raw_interests[0] == '! invalid user, or no interests':\n",
        "      continue\n",
        "\n",
        "    interests = [\" \".join(wnl.lemmatize(w) \n",
        "                              for w in nltk.wordpunct_tokenize(line)[2:] \n",
        "                              if w not in stop)\n",
        "                     for line in raw_interests \n",
        "                     if line and line[0] != \"#\"]\n",
        "\n",
        "    interests = set(interest for interest in interests if interest)\n",
        "    term_vectors.append(pd.Series(index=interests, name=user).fillna(1))\n",
        "\n",
        "  return pd.DataFrame().join(term_vectors, how=\"outer\").fillna(0)\\\n",
        "        .astype(int)"
      ],
      "metadata": {
        "id": "7wmFCqBd4tc5"
      },
      "execution_count": null,
      "outputs": []
    },
    {
      "cell_type": "code",
      "source": [
        "LJ_BASE = \"http://www.livejournal.com/misc\"\n",
        "DOMAIN_NAME = \"thegoodwife_cbs\"\n",
        "\n",
        "cache_d = \"cache/\" + DOMAIN_NAME + \".pickle\"\n",
        "if not os.path.isfile(cache_d):\n",
        "    domain = download(LJ_BASE, DOMAIN_NAME)\n",
        "    if not os.path.isdir(\"cache\"):\n",
        "        os.mkdir(\"cache\")\n",
        "    with open(cache_d, \"wb\") as ofile:\n",
        "        pickle.dump(domain, ofile)\n",
        "else:\n",
        "    with open(cache_d, \"rb\") as ifile:\n",
        "        domain = pickle.load(ifile)"
      ],
      "metadata": {
        "id": "modpY-JH4uMD"
      },
      "execution_count": null,
      "outputs": []
    },
    {
      "cell_type": "markdown",
      "source": [
        "Build term network"
      ],
      "metadata": {
        "id": "KdL8ywFB4yG9"
      }
    },
    {
      "cell_type": "code",
      "source": [
        "MIN_SUPPORT = 10\n",
        "sums = domain.sum(axis=1)\n",
        "limited = domain[sums >= MIN_SUPPORT]\n",
        "\n",
        "cooc = limited.dot(limited.T) * (1 - np.eye(limited.shape[0]))"
      ],
      "metadata": {
        "id": "lYeZjIZG4wyi"
      },
      "execution_count": null,
      "outputs": []
    },
    {
      "cell_type": "markdown",
      "source": [
        "Slice network"
      ],
      "metadata": {
        "id": "4TQj2Gpb40He"
      }
    },
    {
      "cell_type": "code",
      "source": [
        "SLICING = 6\n",
        "weights = cooc[cooc >= SLICING]\n",
        "weights = weights.stack()\n",
        "weights = weights / weights.max()\n",
        "cd_network = weights.to_dict()\n",
        "cd_network = {key:float(value) for key,value in cd_network.items()}"
      ],
      "metadata": {
        "id": "lBFxNCzc41cK"
      },
      "execution_count": null,
      "outputs": []
    },
    {
      "cell_type": "code",
      "source": [
        "tag_network = nx.Graph()\n",
        "tag_network.add_edges_from(cd_network)\n",
        "nx.set_edge_attributes(tag_network, cd_network, \"weight\")"
      ],
      "metadata": {
        "id": "PBTlJ5_n43DD"
      },
      "execution_count": null,
      "outputs": []
    },
    {
      "cell_type": "code",
      "source": [
        "if not os.path.isdir(\"results\"):\n",
        "  os.mkdir(\"results\")\n",
        "\n",
        "with open(\"results/\" + DOMAIN_NAME + \".graphml\", \"wb\") as ofile:\n",
        "  nx.write_graphml(tag_network,ofile)"
      ],
      "metadata": {
        "id": "ji4xcCZ644vy"
      },
      "execution_count": null,
      "outputs": []
    },
    {
      "cell_type": "markdown",
      "source": [
        "Extract and name term communties"
      ],
      "metadata": {
        "id": "_4u0QVuQ47lm"
      }
    },
    {
      "cell_type": "code",
      "source": [
        "from community import community_louvain"
      ],
      "metadata": {
        "id": "o-hbHdDq49y1"
      },
      "execution_count": null,
      "outputs": []
    },
    {
      "cell_type": "code",
      "source": [
        "partition = community_louvain.best_partition(tag_network)\n",
        "print(\"Modularity: {}\".format(community_louvain.modularity(partition,\n",
        "                              tag_network)))\n",
        "nx.set_node_attributes(tag_network, partition, \"part\")"
      ],
      "metadata": {
        "id": "xhdCg8fE4_tD"
      },
      "execution_count": null,
      "outputs": []
    },
    {
      "cell_type": "code",
      "source": [
        "HOW_MANY = 5\n",
        "def describe_cluster(terms_df):\n",
        "    rows = domain.join(terms_df, how=\"inner\")\n",
        "    top_N = rows.sum(axis=1).sort_values(ascending=False)[:HOW_MANY]\n",
        "    return top_N.index.values"
      ],
      "metadata": {
        "id": "IIO49K_55A34"
      },
      "execution_count": null,
      "outputs": []
    },
    {
      "cell_type": "code",
      "source": [
        "tag_clusters = pd.DataFrame({\"part_id\" : pd.Series(partition)})\n",
        "results = tag_clusters.groupby(\"part_id\").apply(describe_cluster)\n",
        "for r in results:\n",
        "  print(\"-- {}\".format(\"; \".join(r.tolist())))"
      ],
      "metadata": {
        "id": "18qUhPwg5B1n"
      },
      "execution_count": null,
      "outputs": []
    },
    {
      "cell_type": "markdown",
      "source": [
        "##Chapter 13"
      ],
      "metadata": {
        "id": "J8-bQah-srBg"
      }
    },
    {
      "cell_type": "code",
      "source": [
        "from collections import Counter\n",
        "from operator import itemgetter\n",
        "from itertools import chain, groupby\n",
        "from networkx.drawing.nx_agraph import graphviz_layout\n",
        "import dzcnapy_plotlib as dxcnapy"
      ],
      "metadata": {
        "id": "2sM3jPAQsr5a"
      },
      "execution_count": null,
      "outputs": []
    },
    {
      "cell_type": "markdown",
      "source": [
        "Products.py example"
      ],
      "metadata": {
        "id": "5iqwVaoTKHjO"
      }
    },
    {
      "cell_type": "code",
      "source": [
        "with open(\"use-with.csv\") as usewith_file:\n",
        "    reader = csv.reader(usewith_file)\n",
        "    next(reader)\n",
        "    G = nx.from_edgelist((n1, n2) for _, n1, n2 in reader)\n",
        "\n",
        "\n",
        "with open(\"products.csv\") as product_file:\n",
        "    reader = csv.reader(product_file)\n",
        "    next(reader)\n",
        "\n",
        "    brands = {}\n",
        "    cats = {}\n",
        "    star_ratings = {}\n",
        "\n",
        "    for ppid, brand, star_rating, category in reader:\n",
        "        brands[ppid] = brand\n",
        "        cats[ppid] = category\n",
        "        star_ratings[ppid] = float(star_rating if star_rating else 0)\n",
        "\n",
        "attributes = {\"brand\" : brands, \"category\" : cats, \"star\" : star_ratings}\n",
        "for att_name, att_value in attributes.items():\n",
        "    nx.set_node_attributes(G, att_value, att_name)"
      ],
      "metadata": {
        "id": "8c_sVP3eJ-aQ"
      },
      "execution_count": null,
      "outputs": []
    },
    {
      "cell_type": "markdown",
      "source": [
        "Analyze the networks"
      ],
      "metadata": {
        "id": "ZJKnPmLSKdFS"
      }
    },
    {
      "cell_type": "code",
      "source": [
        "print(nx.density(G))"
      ],
      "metadata": {
        "colab": {
          "base_uri": "https://localhost:8080/"
        },
        "id": "5PA5mOfyKV6o",
        "outputId": "87095208-3032-4cc1-b277-786c591c25b0"
      },
      "execution_count": null,
      "outputs": [
        {
          "output_type": "stream",
          "name": "stdout",
          "text": [
            "0.0007147660678259198\n"
          ]
        }
      ]
    },
    {
      "cell_type": "code",
      "source": [
        "TOP_HOWMANY = 1\n",
        "gccs_nodes = chain.from_iterable(sorted(nx.connected_components(G),\n",
        "                                        key=len)[-TOP_HOWMANY:])\n",
        "gccs = nx.subgraph(G, gccs_nodes)"
      ],
      "metadata": {
        "id": "ApkPFXEwKgTb"
      },
      "execution_count": null,
      "outputs": []
    },
    {
      "cell_type": "code",
      "source": [
        "for att_name in attributes:\n",
        "    print(\"Assortativity by {}: {}\"\\\n",
        "              .format(att_name,\n",
        "                      nx.attribute_assortativity_coefficient(gccs, att_name)))"
      ],
      "metadata": {
        "colab": {
          "base_uri": "https://localhost:8080/"
        },
        "id": "dw178s7CKk_S",
        "outputId": "3d31d4e2-8607-4e30-eae3-59e1c443d613"
      },
      "execution_count": null,
      "outputs": [
        {
          "output_type": "stream",
          "name": "stdout",
          "text": [
            "Assortativity by brand: 0.868755172314283\n",
            "Assortativity by category: 0.035779049762065696\n",
            "Assortativity by star: -0.0058012311220827645\n"
          ]
        }
      ]
    },
    {
      "cell_type": "code",
      "source": [
        "from community import community_louvain"
      ],
      "metadata": {
        "id": "xUFKZbnRK0vY"
      },
      "execution_count": null,
      "outputs": []
    },
    {
      "cell_type": "code",
      "source": [
        "part = community_louvain.best_partition(gccs)\n",
        "print(\"Modularity: {}\".format(community_louvain.modularity(part, gccs)))"
      ],
      "metadata": {
        "colab": {
          "base_uri": "https://localhost:8080/"
        },
        "id": "LxxbWUktKqGl",
        "outputId": "0a81f43e-e730-437d-b1ff-6c6821a00c02"
      },
      "execution_count": null,
      "outputs": [
        {
          "output_type": "stream",
          "name": "stdout",
          "text": [
            "Modularity: 0.8264539077095789\n"
          ]
        }
      ]
    },
    {
      "cell_type": "code",
      "source": [
        "groups = groupby(sorted(part.items(), key=itemgetter(1)), itemgetter(1))\n",
        "community_labels = [list(map(itemgetter(0), group)) for _, group in groups]\n",
        "subgraphs = [nx.subgraph(gccs, labels) for labels in community_labels]"
      ],
      "metadata": {
        "id": "ZaXksc2lKtgi"
      },
      "execution_count": null,
      "outputs": []
    },
    {
      "cell_type": "code",
      "source": [
        "induced = community_louvain.induced_graph(part,gccs)\n",
        "induced.remove_edges_from(nx.selfloop_edges(induced))"
      ],
      "metadata": {
        "id": "sZNPY2G8K99J"
      },
      "execution_count": null,
      "outputs": []
    },
    {
      "cell_type": "code",
      "source": [
        "def top_cat_label(community_subgraph):\n",
        "    items = [atts[\"category\"] for _, atts\n",
        "             in community_subgraph.nodes(data=True)]\n",
        "    top_category = Counter(items).most_common(1)[0]\n",
        "    top_label_path = top_category[0]\n",
        "    return top_label_path.split(\":\")[-1]"
      ],
      "metadata": {
        "id": "byEignDWLIuM"
      },
      "execution_count": null,
      "outputs": []
    },
    {
      "cell_type": "code",
      "source": [
        "mapping = {comm_id: \"{}/{}\".format(top_cat_label(subgraph), comm_id)\n",
        "           for comm_id, subgraph in enumerate(subgraphs)}\n",
        "induced = nx.relabel_nodes(induced, mapping, copy=True)"
      ],
      "metadata": {
        "id": "dtX27kV7LzSc"
      },
      "execution_count": null,
      "outputs": []
    },
    {
      "cell_type": "code",
      "source": [
        "attrs = {\"edge_color\" : \"gray\", \"font_size\" : 12, \"font_weight\" : \"bold\",\n",
        "         \"node_size\" : 700, \"node_color\" : \"pink\", \"width\" : 2,\n",
        "         \"font_family\" : \"Liberation Sans Narrow\"}"
      ],
      "metadata": {
        "id": "CvqlqnyDMNP7"
      },
      "execution_count": null,
      "outputs": []
    },
    {
      "cell_type": "code",
      "source": [
        "pos = graphviz_layout(induced)\n",
        "\n",
        "nx.draw_networkx(induced, pos, **dzcnapy.attrs)\n",
        "\n",
        "dzcnapy.set_extent(pos, plt)\n",
        "\n",
        "dzcnapy.plot(\"ProductNetwork\")"
      ],
      "metadata": {
        "colab": {
          "base_uri": "https://localhost:8080/",
          "height": 297
        },
        "id": "FAfL9G_0MP5b",
        "outputId": "c65b4622-2632-4b35-9757-dab21b718468"
      },
      "execution_count": null,
      "outputs": [
        {
          "output_type": "display_data",
          "data": {
            "text/plain": [
              "<Figure size 432x288 with 1 Axes>"
            ],
            "image/png": "[encoded data removed]"
          },
          "metadata": {}
        }
      ]
    }
  ]
}